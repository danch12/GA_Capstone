{
 "cells": [
  {
   "cell_type": "code",
   "execution_count": 1,
   "metadata": {
    "ExecuteTime": {
     "end_time": "2019-12-20T19:18:08.467787Z",
     "start_time": "2019-12-20T19:18:04.407980Z"
    }
   },
   "outputs": [],
   "source": [
    "import numpy as np\n",
    "import scipy.stats as stats\n",
    "import seaborn as sns\n",
    "import matplotlib.pyplot as plt\n",
    "import pandas as pd\n",
    "from itertools import combinations\n",
    "from matplotlib import cm\n",
    "from matplotlib.colors import ListedColormap\n",
    "import requests\n",
    "import bs4\n",
    "from bs4 import BeautifulSoup\n",
    "plt.style.use('ggplot')\n",
    "\n",
    "%config InlineBackend.figure_format = 'retina'\n",
    "%matplotlib inline\n",
    "\n",
    "#look at median income _std too\n",
    "#look at quantile boundries\n",
    "\n",
    "from sklearn.preprocessing import StandardScaler\n",
    "from sklearn.linear_model import LogisticRegression, LogisticRegressionCV\n",
    "from sklearn.model_selection import train_test_split, cross_val_score, GridSearchCV\n",
    "from sklearn.metrics import confusion_matrix\n",
    "from sklearn.ensemble import ExtraTreesClassifier\n",
    "from sklearn.model_selection import KFold\n",
    "from sklearn.ensemble import AdaBoostClassifier\n",
    "from sklearn.ensemble import RandomForestClassifier\n",
    "from sklearn.neighbors import KNeighborsClassifier\n",
    "from scipy import sparse\n",
    "from sklearn.feature_extraction.text import CountVectorizer\n",
    "from sklearn.metrics import precision_score\n",
    "import xgboost as xgb\n",
    "from joblib import dump, load"
   ]
  },
  {
   "cell_type": "markdown",
   "metadata": {},
   "source": [
    "For the most part I am going to use a dataset that is provided by Lending club that has almost all the variables I need in a csv format- very handy. However there are a couple bits of information regarding the individual states such as average income that I will need to scrape off the internet."
   ]
  },
  {
   "cell_type": "markdown",
   "metadata": {},
   "source": [
    "sources of data\n",
    "loan data-https://www.lendingclub.com/info/download-data.action\n",
    "average household income-https://en.wikipedia.org/wiki/Household_income_in_the_United_States\n",
    "\n",
    "quartile income-\n",
    "https://data.census.gov/cedsci/table?q=median%20income&g=&hidePreview=true&table=S1901&tid=ACSST1Y2018.S1901&t=Income%20%28Households,%20Families,%20Individuals%29&lastDisplayedRow=16&vintage=2018&mode="
   ]
  },
  {
   "cell_type": "markdown",
   "metadata": {},
   "source": [
    "# Gathering The Data"
   ]
  },
  {
   "cell_type": "markdown",
   "metadata": {},
   "source": [
    "## Lending Club Data"
   ]
  },
  {
   "cell_type": "code",
   "execution_count": 7,
   "metadata": {
    "ExecuteTime": {
     "end_time": "2019-12-20T19:20:02.291035Z",
     "start_time": "2019-12-20T19:19:39.003007Z"
    }
   },
   "outputs": [
    {
     "name": "stderr",
     "output_type": "stream",
     "text": [
      "//anaconda3/lib/python3.7/site-packages/IPython/core/interactiveshell.py:3057: DtypeWarning: Columns (18,46,54) have mixed types. Specify dtype option on import or set low_memory=False.\n",
      "  interactivity=interactivity, compiler=compiler, result=result)\n"
     ]
    }
   ],
   "source": [
    "df=pd.read_csv('~/GA/DSI10-lessons/projects/project-capstone/accepted_2007_to_2016.csv')"
   ]
  },
  {
   "cell_type": "markdown",
   "metadata": {},
   "source": [
    "Because the dataset is so large my computer could not handle the computations required to run models properly. Therefore to reduce the amount of data I cut rows with NA values in avg_cur_bal. I chose avg_cur_bal because rows with NA values in this column usually had a high amount of NA values in other columns. If I could only work with a limited amount of data it makes sense to give myself the best quality of data possible."
   ]
  },
  {
   "cell_type": "code",
   "execution_count": 8,
   "metadata": {
    "ExecuteTime": {
     "end_time": "2019-12-20T19:20:09.488533Z",
     "start_time": "2019-12-20T19:20:09.363030Z"
    }
   },
   "outputs": [
    {
     "data": {
      "text/plain": [
       "Current                                                783839\n",
       "Fully Paid                                             396204\n",
       "Charged Off                                             96554\n",
       "Late (31-120 days)                                      20073\n",
       "In Grace Period                                         10210\n",
       "Issued                                                   6048\n",
       "Late (16-30 days)                                        4555\n",
       "Does not meet the credit policy. Status:Fully Paid       1988\n",
       "Default                                                  1615\n",
       "Does not meet the credit policy. Status:Charged Off       761\n",
       "Name: loan_status, dtype: int64"
      ]
     },
     "execution_count": 8,
     "metadata": {},
     "output_type": "execute_result"
    }
   ],
   "source": [
    "df.loan_status.value_counts()"
   ]
  },
  {
   "cell_type": "code",
   "execution_count": 9,
   "metadata": {
    "ExecuteTime": {
     "end_time": "2019-12-20T19:20:11.197363Z",
     "start_time": "2019-12-20T19:20:10.148598Z"
    }
   },
   "outputs": [],
   "source": [
    "df=df[np.isfinite(df['avg_cur_bal'])]"
   ]
  },
  {
   "cell_type": "code",
   "execution_count": 31,
   "metadata": {
    "ExecuteTime": {
     "end_time": "2019-12-20T19:21:29.233860Z",
     "start_time": "2019-12-20T19:21:29.055936Z"
    }
   },
   "outputs": [],
   "source": [
    "df['Year']=df.issue_d.map(lambda x : x.split('-')[1])"
   ]
  },
  {
   "cell_type": "markdown",
   "metadata": {},
   "source": [
    "As the Current loans are still going we should exclude them because we dont know if they are bad or good. going to consider fully paid as good. All the rest are bad."
   ]
  },
  {
   "cell_type": "code",
   "execution_count": 32,
   "metadata": {
    "ExecuteTime": {
     "end_time": "2019-12-20T19:21:30.323412Z",
     "start_time": "2019-12-20T19:21:29.550588Z"
    }
   },
   "outputs": [
    {
     "data": {
      "text/plain": [
       "Fully Paid            339950\n",
       "Charged Off            86289\n",
       "Late (31-120 days)     20036\n",
       "In Grace Period        10180\n",
       "Issued                  6048\n",
       "Late (16-30 days)       4543\n",
       "Default                 1610\n",
       "Name: loan_status, dtype: int64"
      ]
     },
     "execution_count": 32,
     "metadata": {},
     "output_type": "execute_result"
    }
   ],
   "source": [
    "df=df[df.loan_status !='Current']\n",
    "df.loan_status.value_counts()"
   ]
  },
  {
   "cell_type": "code",
   "execution_count": 33,
   "metadata": {
    "ExecuteTime": {
     "end_time": "2019-12-20T19:21:30.368469Z",
     "start_time": "2019-12-20T19:21:30.326091Z"
    }
   },
   "outputs": [
    {
     "data": {
      "text/plain": [
       "Fully Paid            0.725372\n",
       "Charged Off           0.184120\n",
       "Late (31-120 days)    0.042752\n",
       "In Grace Period       0.021722\n",
       "Issued                0.012905\n",
       "Late (16-30 days)     0.009694\n",
       "Default               0.003435\n",
       "Name: loan_status, dtype: float64"
      ]
     },
     "execution_count": 33,
     "metadata": {},
     "output_type": "execute_result"
    }
   ],
   "source": [
    "df.loan_status.value_counts(normalize=True)"
   ]
  },
  {
   "cell_type": "markdown",
   "metadata": {},
   "source": [
    "## Additional supporting Data "
   ]
  },
  {
   "cell_type": "markdown",
   "metadata": {},
   "source": [
    "### Scraping Average household Salary"
   ]
  },
  {
   "cell_type": "markdown",
   "metadata": {},
   "source": [
    "Below I scrape additional data from Wikepedia and downloaded data from the American cencus. As lending club provides income information I thought it may be useful to see how the loanee's income compared to their state average, and further what income band the loanee would fall under. This may be more useful than a pure income number as for example 100K in Detroit may go a lot further than 100K in San Francisco."
   ]
  },
  {
   "cell_type": "code",
   "execution_count": 34,
   "metadata": {
    "ExecuteTime": {
     "end_time": "2019-12-20T19:21:31.223881Z",
     "start_time": "2019-12-20T19:21:30.823684Z"
    }
   },
   "outputs": [],
   "source": [
    "#scraping data from tables on wikipedia\n",
    "URL='https://en.wikipedia.org/wiki/Household_income_in_the_United_States'\n",
    "\n",
    "r= requests.get(URL)\n",
    "soup=BeautifulSoup(r.text,'html.parser')\n",
    "\n",
    "state_list=[]\n",
    "income_2017=[]\n",
    "income_2016=[]\n",
    "income_2015=[]\n",
    "income_2014=[]\n",
    "income_2013=[]\n",
    "income_2012=[]\n",
    "income_2011=[]\n",
    "income_2010=[]\n",
    "income_2009=[]\n",
    "income_2008=[]\n",
    "income_2007=[]\n",
    "\n",
    "table= soup.find_all(attrs={'class':'wikitable'})\n",
    "income_table=table[5]\n",
    "for row in income_table.find_all('tr'):\n",
    "    for ind,col in enumerate(row.find_all('td')):\n",
    "        if ind==0 or ind==1:\n",
    "            pass\n",
    "        \n",
    "        if ind==2:\n",
    "            try:\n",
    "                state_list.append(col.text)\n",
    "            except:\n",
    "                state_list.append(np.Nan)\n",
    "                print('no')\n",
    "        if ind==3:\n",
    "            try:\n",
    "                income_2017.append(col.text)\n",
    "            except:\n",
    "                income_2017.append(np.Nan)\n",
    "                print('no')\n",
    "        if ind==4:\n",
    "            try:\n",
    "                income_2016.append(col.text)\n",
    "            except:\n",
    "                income_2016.append(np.Nan)\n",
    "                print('no')\n",
    "        if ind==5:\n",
    "            try:\n",
    "                income_2015.append(col.text)\n",
    "            except:\n",
    "                income_2015.append(np.Nan)\n",
    "                print('no')\n",
    "                \n",
    "        if ind==6:\n",
    "            try:\n",
    "                income_2014.append(col.text)\n",
    "            except:\n",
    "                income_2014.append(np.Nan)\n",
    "                print('no')\n",
    "        \n",
    "        if ind==7:\n",
    "            try:\n",
    "                income_2013.append(col.text)\n",
    "            except:\n",
    "                income_2013.append(np.Nan)\n",
    "                print('no')\n",
    "        \n",
    "        if ind==8:\n",
    "            try:\n",
    "                income_2012.append(col.text)\n",
    "            except:\n",
    "                income_2012.append(np.Nan)\n",
    "                print('no')\n",
    "                \n",
    "        if ind==9:\n",
    "            try:\n",
    "                income_2011.append(col.text)\n",
    "            except:\n",
    "                income_2011.append(np.Nan)\n",
    "                print('no')\n",
    "        \n",
    "        if ind==10:\n",
    "            try:\n",
    "                income_2010.append(col.text)\n",
    "            except:\n",
    "                income_2010.append(np.Nan)\n",
    "                print('no')\n",
    "                \n",
    "        if ind==11:\n",
    "            try:\n",
    "                income_2009.append(col.text)\n",
    "            except:\n",
    "                income_2009.append(np.Nan)\n",
    "                print('no')\n",
    "        \n",
    "        if ind==12:\n",
    "            try:\n",
    "                income_2008.append(col.text)\n",
    "            except:\n",
    "                income_2008.append(np.Nan)\n",
    "                print('no')\n",
    "                \n",
    "        if ind==13:\n",
    "            try:\n",
    "                income_2007.append(col.text)\n",
    "            except:\n",
    "                income_2007.append(np.Nan)\n",
    "                print('no')\n",
    "\n"
   ]
  },
  {
   "cell_type": "code",
   "execution_count": 35,
   "metadata": {
    "ExecuteTime": {
     "end_time": "2019-12-20T19:21:31.255778Z",
     "start_time": "2019-12-20T19:21:31.226524Z"
    }
   },
   "outputs": [],
   "source": [
    "#creating a dataframe from the data scraped\n",
    "state_info=pd.DataFrame({'state':state_list,\n",
    "                            '2017': income_2017,\n",
    "                           '2016': income_2016,\n",
    "                           '2015':income_2015,\n",
    "                           '2014':income_2014,\n",
    "                           '2013':income_2013,\n",
    "                           '2012':income_2012,\n",
    "                           '2011':income_2011,\n",
    "                           '2010':income_2010,\n",
    "                           '2009':income_2009,\n",
    "                           '2008':income_2008,\n",
    "                         '2007':income_2007})\n",
    "\n",
    "\n",
    "\n",
    "#cleaning the income data\n",
    "for column in list(state_info.columns):\n",
    "    state_info[column]=state_info[column].map(lambda x : x.rstrip('\\n'))\n",
    "\n",
    "#turning the values into integers\n",
    "income_columns=list(state_info.columns)[1:]\n",
    "for column in income_columns:\n",
    "    state_info[column]=state_info[column].map(lambda x: int(x.replace('$','').replace(',','')))\n",
    "    \n",
    "\n",
    "#melted the dataframe so it can be merged into the original lending club dataframe\n",
    "state_info=state_info.melt(id_vars='state',\n",
    "               var_name='Date',\n",
    "               value_name='Income')"
   ]
  },
  {
   "cell_type": "markdown",
   "metadata": {},
   "source": [
    "The states in my main dataset are abbrevated so I needed to create a dictionary to convert them."
   ]
  },
  {
   "cell_type": "code",
   "execution_count": 36,
   "metadata": {
    "ExecuteTime": {
     "end_time": "2019-12-20T19:21:31.461662Z",
     "start_time": "2019-12-20T19:21:31.454619Z"
    }
   },
   "outputs": [],
   "source": [
    "#found a list online of states and their abbreviations that saved me a bit of time\n",
    "states_abr='''\n",
    "Alabama - AL\n",
    "Alaska - AK\n",
    "Arizona - AZ\n",
    "Arkansas - AR\n",
    "California - CA\n",
    "Colorado - CO\n",
    "Connecticut - CT\n",
    "Delaware - DE\n",
    "Florida - FL\n",
    "Georgia - GA\n",
    "Hawaii - HI\n",
    "Idaho - ID\n",
    "Illinois - IL\n",
    "Indiana - IN\n",
    "Iowa - IA\n",
    "Kansas - KS\n",
    "Kentucky - KY\n",
    "Louisiana - LA\n",
    "Maine - ME\n",
    "Maryland - MD\n",
    "Massachusetts - MA\n",
    "Michigan - MI\n",
    "Minnesota - MN\n",
    "Mississippi - MS\n",
    "Missouri - MO\n",
    "Montana - MT\n",
    "Nebraska - NE\n",
    "Nevada - NV\n",
    "New Hampshire - NH\n",
    "New Jersey - NJ\n",
    "New Mexico - NM\n",
    "New York - NY\n",
    "North Carolina - NC\n",
    "North Dakota - ND\n",
    "Ohio - OH\n",
    "Oklahoma - OK\n",
    "Oregon - OR\n",
    "Pennsylvania - PA\n",
    "Puerto Rico - PR\n",
    "Rhode Island - RI\n",
    "South Carolina - SC\n",
    "South Dakota - SD\n",
    "Tennessee - TN\n",
    "Texas - TX\n",
    "Utah - UT\n",
    "Vermont - VT\n",
    "Virginia - VA\n",
    "Washington - WA\n",
    "West Virginia - WV\n",
    "Wisconsin - WI\n",
    "Wyoming - WY'''\n",
    "\n",
    "#turning the string into a list\n",
    "states_abr_list=states_abr.split('\\n')\n",
    "\n",
    "#turning the list into a dict\n",
    "sl=states_abr_list[1:]\n",
    "states_tup_list=[(x[0],x[1]) for x in [x.replace(' ','').split('-') for x in sl]]\n",
    "state_dict=dict(states_tup_list)\n",
    "\n"
   ]
  },
  {
   "cell_type": "code",
   "execution_count": 37,
   "metadata": {
    "ExecuteTime": {
     "end_time": "2019-12-20T19:21:31.901249Z",
     "start_time": "2019-12-20T19:21:31.896820Z"
    }
   },
   "outputs": [],
   "source": [
    "#function to apply the transformation to the dataset (DC was not in the original list)\n",
    "def state_to_abr(cell):\n",
    "    x=cell.replace(' ','')\n",
    "    try:\n",
    "        return state_dict[x]\n",
    "    except:\n",
    "        \n",
    "        \n",
    "        return 'DC'"
   ]
  },
  {
   "cell_type": "code",
   "execution_count": 38,
   "metadata": {
    "ExecuteTime": {
     "end_time": "2019-12-20T19:21:32.140633Z",
     "start_time": "2019-12-20T19:21:32.135420Z"
    }
   },
   "outputs": [],
   "source": [
    "state_info['abreviation']=state_info.state.map(state_to_abr)\n"
   ]
  },
  {
   "cell_type": "code",
   "execution_count": 39,
   "metadata": {
    "ExecuteTime": {
     "end_time": "2019-12-20T19:21:32.342077Z",
     "start_time": "2019-12-20T19:21:32.331477Z"
    }
   },
   "outputs": [],
   "source": [
    "#renaming the columns \n",
    "state_info.columns=['State_full','Year','average_income','abreviation']\n",
    "\n",
    "#saving the dataset to csv just in case it gets removed from the internet\n",
    "state_info.to_csv('state_info.csv')"
   ]
  },
  {
   "cell_type": "code",
   "execution_count": 40,
   "metadata": {
    "ExecuteTime": {
     "end_time": "2019-12-20T19:21:37.912586Z",
     "start_time": "2019-12-20T19:21:32.531053Z"
    }
   },
   "outputs": [],
   "source": [
    "#merging the two dataframes\n",
    "merged_df=pd.merge(df,state_info,left_on=['Year','addr_state'],right_on=['Year','abreviation'])\n",
    "#once merged did not need the state names again so we can drop them\n",
    "merged_df.drop(columns=['abreviation','State_full'],inplace=True)"
   ]
  },
  {
   "cell_type": "code",
   "execution_count": 41,
   "metadata": {
    "ExecuteTime": {
     "end_time": "2019-12-20T19:21:37.954983Z",
     "start_time": "2019-12-20T19:21:37.914848Z"
    }
   },
   "outputs": [
    {
     "data": {
      "text/html": [
       "<div>\n",
       "<style scoped>\n",
       "    .dataframe tbody tr th:only-of-type {\n",
       "        vertical-align: middle;\n",
       "    }\n",
       "\n",
       "    .dataframe tbody tr th {\n",
       "        vertical-align: top;\n",
       "    }\n",
       "\n",
       "    .dataframe thead th {\n",
       "        text-align: right;\n",
       "    }\n",
       "</style>\n",
       "<table border=\"1\" class=\"dataframe\">\n",
       "  <thead>\n",
       "    <tr style=\"text-align: right;\">\n",
       "      <th></th>\n",
       "      <th>id</th>\n",
       "      <th>member_id</th>\n",
       "      <th>loan_amnt</th>\n",
       "      <th>funded_amnt</th>\n",
       "      <th>funded_amnt_inv</th>\n",
       "      <th>term</th>\n",
       "      <th>int_rate</th>\n",
       "      <th>installment</th>\n",
       "      <th>grade</th>\n",
       "      <th>sub_grade</th>\n",
       "      <th>...</th>\n",
       "      <th>percent_bc_gt_75</th>\n",
       "      <th>pub_rec_bankruptcies</th>\n",
       "      <th>tax_liens</th>\n",
       "      <th>tot_hi_cred_lim</th>\n",
       "      <th>total_bal_ex_mort</th>\n",
       "      <th>total_bc_limit</th>\n",
       "      <th>total_il_high_credit_limit</th>\n",
       "      <th>year_issued</th>\n",
       "      <th>Year</th>\n",
       "      <th>average_income</th>\n",
       "    </tr>\n",
       "  </thead>\n",
       "  <tbody>\n",
       "    <tr>\n",
       "      <th>0</th>\n",
       "      <td>10129454</td>\n",
       "      <td>11981072.0</td>\n",
       "      <td>12000.0</td>\n",
       "      <td>12000.0</td>\n",
       "      <td>12000.0</td>\n",
       "      <td>36 months</td>\n",
       "      <td>10.99</td>\n",
       "      <td>392.81</td>\n",
       "      <td>B</td>\n",
       "      <td>B2</td>\n",
       "      <td>...</td>\n",
       "      <td>0.0</td>\n",
       "      <td>0.0</td>\n",
       "      <td>0.0</td>\n",
       "      <td>29700.0</td>\n",
       "      <td>7137.0</td>\n",
       "      <td>18100.0</td>\n",
       "      <td>0.0</td>\n",
       "      <td>2013</td>\n",
       "      <td>2013</td>\n",
       "      <td>45906</td>\n",
       "    </tr>\n",
       "    <tr>\n",
       "      <th>1</th>\n",
       "      <td>10129477</td>\n",
       "      <td>11981093.0</td>\n",
       "      <td>14000.0</td>\n",
       "      <td>14000.0</td>\n",
       "      <td>14000.0</td>\n",
       "      <td>36 months</td>\n",
       "      <td>12.85</td>\n",
       "      <td>470.71</td>\n",
       "      <td>B</td>\n",
       "      <td>B4</td>\n",
       "      <td>...</td>\n",
       "      <td>100.0</td>\n",
       "      <td>1.0</td>\n",
       "      <td>0.0</td>\n",
       "      <td>31840.0</td>\n",
       "      <td>17672.0</td>\n",
       "      <td>3900.0</td>\n",
       "      <td>27340.0</td>\n",
       "      <td>2013</td>\n",
       "      <td>2013</td>\n",
       "      <td>45906</td>\n",
       "    </tr>\n",
       "    <tr>\n",
       "      <th>2</th>\n",
       "      <td>10075147</td>\n",
       "      <td>11927267.0</td>\n",
       "      <td>6000.0</td>\n",
       "      <td>6000.0</td>\n",
       "      <td>6000.0</td>\n",
       "      <td>36 months</td>\n",
       "      <td>9.67</td>\n",
       "      <td>192.68</td>\n",
       "      <td>B</td>\n",
       "      <td>B1</td>\n",
       "      <td>...</td>\n",
       "      <td>80.0</td>\n",
       "      <td>0.0</td>\n",
       "      <td>0.0</td>\n",
       "      <td>256018.0</td>\n",
       "      <td>84866.0</td>\n",
       "      <td>29000.0</td>\n",
       "      <td>78329.0</td>\n",
       "      <td>2013</td>\n",
       "      <td>2013</td>\n",
       "      <td>45906</td>\n",
       "    </tr>\n",
       "    <tr>\n",
       "      <th>3</th>\n",
       "      <td>10139691</td>\n",
       "      <td>11991237.0</td>\n",
       "      <td>10000.0</td>\n",
       "      <td>10000.0</td>\n",
       "      <td>10000.0</td>\n",
       "      <td>36 months</td>\n",
       "      <td>14.98</td>\n",
       "      <td>346.56</td>\n",
       "      <td>C</td>\n",
       "      <td>C3</td>\n",
       "      <td>...</td>\n",
       "      <td>33.3</td>\n",
       "      <td>0.0</td>\n",
       "      <td>0.0</td>\n",
       "      <td>45012.0</td>\n",
       "      <td>31908.0</td>\n",
       "      <td>3700.0</td>\n",
       "      <td>23512.0</td>\n",
       "      <td>2013</td>\n",
       "      <td>2013</td>\n",
       "      <td>45906</td>\n",
       "    </tr>\n",
       "    <tr>\n",
       "      <th>4</th>\n",
       "      <td>10078664</td>\n",
       "      <td>11930352.0</td>\n",
       "      <td>6625.0</td>\n",
       "      <td>6625.0</td>\n",
       "      <td>6625.0</td>\n",
       "      <td>36 months</td>\n",
       "      <td>14.98</td>\n",
       "      <td>229.60</td>\n",
       "      <td>C</td>\n",
       "      <td>C3</td>\n",
       "      <td>...</td>\n",
       "      <td>100.0</td>\n",
       "      <td>0.0</td>\n",
       "      <td>0.0</td>\n",
       "      <td>102914.0</td>\n",
       "      <td>14069.0</td>\n",
       "      <td>1500.0</td>\n",
       "      <td>15314.0</td>\n",
       "      <td>2013</td>\n",
       "      <td>2013</td>\n",
       "      <td>45906</td>\n",
       "    </tr>\n",
       "  </tbody>\n",
       "</table>\n",
       "<p>5 rows × 113 columns</p>\n",
       "</div>"
      ],
      "text/plain": [
       "         id   member_id  loan_amnt  funded_amnt  funded_amnt_inv        term  \\\n",
       "0  10129454  11981072.0    12000.0      12000.0          12000.0   36 months   \n",
       "1  10129477  11981093.0    14000.0      14000.0          14000.0   36 months   \n",
       "2  10075147  11927267.0     6000.0       6000.0           6000.0   36 months   \n",
       "3  10139691  11991237.0    10000.0      10000.0          10000.0   36 months   \n",
       "4  10078664  11930352.0     6625.0       6625.0           6625.0   36 months   \n",
       "\n",
       "   int_rate  installment grade sub_grade  ... percent_bc_gt_75  \\\n",
       "0     10.99       392.81     B        B2  ...              0.0   \n",
       "1     12.85       470.71     B        B4  ...            100.0   \n",
       "2      9.67       192.68     B        B1  ...             80.0   \n",
       "3     14.98       346.56     C        C3  ...             33.3   \n",
       "4     14.98       229.60     C        C3  ...            100.0   \n",
       "\n",
       "  pub_rec_bankruptcies tax_liens  tot_hi_cred_lim total_bal_ex_mort  \\\n",
       "0                  0.0       0.0          29700.0            7137.0   \n",
       "1                  1.0       0.0          31840.0           17672.0   \n",
       "2                  0.0       0.0         256018.0           84866.0   \n",
       "3                  0.0       0.0          45012.0           31908.0   \n",
       "4                  0.0       0.0         102914.0           14069.0   \n",
       "\n",
       "  total_bc_limit total_il_high_credit_limit year_issued  Year average_income  \n",
       "0        18100.0                        0.0        2013  2013          45906  \n",
       "1         3900.0                    27340.0        2013  2013          45906  \n",
       "2        29000.0                    78329.0        2013  2013          45906  \n",
       "3         3700.0                    23512.0        2013  2013          45906  \n",
       "4         1500.0                    15314.0        2013  2013          45906  \n",
       "\n",
       "[5 rows x 113 columns]"
      ]
     },
     "execution_count": 41,
     "metadata": {},
     "output_type": "execute_result"
    }
   ],
   "source": [
    "#checking the dataframes merged correctly\n",
    "merged_df.head()"
   ]
  },
  {
   "cell_type": "markdown",
   "metadata": {},
   "source": [
    "### Creating Percentile Income Bands"
   ]
  },
  {
   "cell_type": "markdown",
   "metadata": {},
   "source": [
    "This is a continuation of the above thought process but on a slightly more sophisticated level."
   ]
  },
  {
   "cell_type": "code",
   "execution_count": 42,
   "metadata": {
    "ExecuteTime": {
     "end_time": "2019-12-20T19:22:04.543993Z",
     "start_time": "2019-12-20T19:21:49.633717Z"
    }
   },
   "outputs": [],
   "source": [
    "merged_df['annual_inc_joint']=merged_df.apply(lambda x: x['annual_inc'] if np.isnan(x['annual_inc_joint']) else x['annual_inc'],axis=1)\n",
    "\n",
    "#removing the couple missing salaries\n",
    "merged_df=merged_df[merged_df.annual_inc_joint.notnull()]"
   ]
  },
  {
   "cell_type": "code",
   "execution_count": 44,
   "metadata": {
    "ExecuteTime": {
     "end_time": "2019-12-20T19:22:33.538775Z",
     "start_time": "2019-12-20T19:22:33.488123Z"
    }
   },
   "outputs": [],
   "source": [
    "messy_state_incomes=pd.read_csv('~/GA/DSI10-lessons/projects/project-capstone/states_median_income.csv',index_col=0,header=2)"
   ]
  },
  {
   "cell_type": "code",
   "execution_count": 45,
   "metadata": {
    "ExecuteTime": {
     "end_time": "2019-12-20T19:22:34.118608Z",
     "start_time": "2019-12-20T19:22:34.110572Z"
    }
   },
   "outputs": [],
   "source": [
    "#reformatting the columns here\n",
    "estimate_columns=[]\n",
    "for column in messy_state_incomes.columns:\n",
    "    try:\n",
    "        int(column.split('.')[1])\n",
    "    except:\n",
    "        estimate_columns.append(column)\n",
    "non_estimate_columns=[col for col in messy_state_incomes.columns if col not in estimate_columns]\n",
    "\n",
    "messy_state_incomes.drop(columns=non_estimate_columns,inplace=True)"
   ]
  },
  {
   "cell_type": "code",
   "execution_count": 46,
   "metadata": {
    "ExecuteTime": {
     "end_time": "2019-12-20T19:22:34.320906Z",
     "start_time": "2019-12-20T19:22:34.313609Z"
    }
   },
   "outputs": [],
   "source": [
    "messy_state_incomes.dropna(inplace=True)"
   ]
  },
  {
   "cell_type": "code",
   "execution_count": 47,
   "metadata": {
    "ExecuteTime": {
     "end_time": "2019-12-20T19:22:34.518245Z",
     "start_time": "2019-12-20T19:22:34.508327Z"
    }
   },
   "outputs": [],
   "source": [
    "#sorting out the income bands\n",
    "percentile_state_incomes=messy_state_incomes.iloc[1:-8,:]"
   ]
  },
  {
   "cell_type": "code",
   "execution_count": 48,
   "metadata": {
    "ExecuteTime": {
     "end_time": "2019-12-20T19:22:34.685982Z",
     "start_time": "2019-12-20T19:22:34.646403Z"
    }
   },
   "outputs": [],
   "source": [
    "#more reformatting to get the values into integers\n",
    "percentile_state_incomes= percentile_state_incomes.applymap(lambda x: x.replace(',',''))\n",
    "percentile_state_incomes=percentile_state_incomes.astype(int)"
   ]
  },
  {
   "cell_type": "markdown",
   "metadata": {},
   "source": [
    "Because the salary information was not in the form of percentiles we had to convert it to percentiles using cumsum. Below is one example, and then I do it to a whole dataframe"
   ]
  },
  {
   "cell_type": "code",
   "execution_count": 49,
   "metadata": {
    "ExecuteTime": {
     "end_time": "2019-12-20T19:22:34.962724Z",
     "start_time": "2019-12-20T19:22:34.947677Z"
    }
   },
   "outputs": [
    {
     "data": {
      "text/plain": [
       "Less than $10,000       0.101405\n",
       "$10,000 to $14,999      0.170751\n",
       "$15,000 to $24,999      0.302792\n",
       "$25,000 to $34,999      0.419084\n",
       "$35,000 to $49,999      0.563233\n",
       "$50,000 to $74,999      0.732784\n",
       "$75,000 to $99,999      0.837912\n",
       "$100,000 to $149,999    0.940602\n",
       "$150,000 to $199,999    0.974363\n",
       "$200,000 or more        1.000000\n",
       "Name: Alabama, dtype: float64"
      ]
     },
     "execution_count": 49,
     "metadata": {},
     "output_type": "execute_result"
    }
   ],
   "source": [
    "(percentile_state_incomes['Alabama']/percentile_state_incomes['Alabama'].sum()).cumsum()"
   ]
  },
  {
   "cell_type": "code",
   "execution_count": 50,
   "metadata": {
    "ExecuteTime": {
     "end_time": "2019-12-20T19:22:35.334552Z",
     "start_time": "2019-12-20T19:22:35.248548Z"
    }
   },
   "outputs": [],
   "source": [
    "percentile_state_incomes\n",
    "for column in percentile_state_incomes.columns:    \n",
    "    percentile_state_incomes['percentile_{}'.format(column)]=(percentile_state_incomes[column]/percentile_state_incomes[column].sum()).cumsum() "
   ]
  },
  {
   "cell_type": "code",
   "execution_count": 51,
   "metadata": {
    "ExecuteTime": {
     "end_time": "2019-12-20T19:22:35.742760Z",
     "start_time": "2019-12-20T19:22:35.731220Z"
    }
   },
   "outputs": [],
   "source": [
    "#cleaning up the indexes of the dataframe to reflect the upper percentile bands and remove the unneeded punctuation\n",
    "\n",
    "clean_list=[]\n",
    "for ind in list(percentile_state_incomes.index):\n",
    "    try:\n",
    "        clean_list.append(int(ind.split('$')[-1].replace(',','')))\n",
    "    except:\n",
    "        clean_list.append(1000000)\n",
    "\n",
    "percentile_state_incomes['upper_income_bands']=clean_list"
   ]
  },
  {
   "cell_type": "code",
   "execution_count": 52,
   "metadata": {
    "ExecuteTime": {
     "end_time": "2019-12-20T19:22:36.154933Z",
     "start_time": "2019-12-20T19:22:36.143270Z"
    }
   },
   "outputs": [],
   "source": [
    "#now removing all the columns that are not percentile columns\n",
    "percentile_state_incomes=percentile_state_incomes.iloc[:,-53:]\n",
    "percentile_state_incomes.reset_index(inplace=True)\n",
    "percentile_state_incomes.drop(columns='index',inplace=True)"
   ]
  },
  {
   "cell_type": "code",
   "execution_count": 53,
   "metadata": {
    "ExecuteTime": {
     "end_time": "2019-12-20T19:22:36.768373Z",
     "start_time": "2019-12-20T19:22:36.754131Z"
    }
   },
   "outputs": [],
   "source": [
    "#melting the dataframe so we can merge it with our main dataframe on two columns- state and income band\n",
    "melted_percentiles=percentile_state_incomes.melt(id_vars='upper_income_bands',\n",
    "                             var_name='state',\n",
    "                             value_name='percentile')"
   ]
  },
  {
   "cell_type": "code",
   "execution_count": 54,
   "metadata": {
    "ExecuteTime": {
     "end_time": "2019-12-20T19:22:37.205008Z",
     "start_time": "2019-12-20T19:22:37.198426Z"
    }
   },
   "outputs": [],
   "source": [
    "#facing the same problem as above with states not being abbreviated\n",
    "melted_percentiles.state= melted_percentiles.state.map(lambda x: state_to_abr(x.split('_')[1]))"
   ]
  },
  {
   "cell_type": "code",
   "execution_count": 55,
   "metadata": {
    "ExecuteTime": {
     "end_time": "2019-12-20T19:22:37.753316Z",
     "start_time": "2019-12-20T19:22:37.737447Z"
    }
   },
   "outputs": [],
   "source": [
    "def find_percentile_for_income(x_row):\n",
    "    #this is only for 2014 data so going to put a if statement at the top, in the future I would like to expand to other years\n",
    "    if x_row['Year']=='2014':\n",
    "        salary=x_row['annual_inc']\n",
    "        salary_band=0\n",
    "        #think splitting in the middle will mean the function will have to run less if statements\n",
    "        if salary > 49999:\n",
    "            if salary < 74999:\n",
    "                salary_band=74999\n",
    "            elif salary < 99999:\n",
    "                salary_band=99999\n",
    "            elif salary < 149999:\n",
    "                salary_band= 149999\n",
    "            elif salary < 199999:\n",
    "                salary_band= 199999\n",
    "            else:\n",
    "                salary_band=1000000\n",
    "        else:\n",
    "            if salary >34999:\n",
    "                salary_band=49999\n",
    "            if salary > 24999:\n",
    "                salary_band=34999\n",
    "            if salary > 14999:\n",
    "                salary_band=24999\n",
    "            if salary > 10000:\n",
    "                salary_band=14999\n",
    "            else:\n",
    "                salary_band=10000\n",
    "\n",
    "        state=x_row['addr_state']\n",
    "        return melted_percentiles[(melted_percentiles['upper_income_bands']==salary_band)&(melted_percentiles['state']==state)]['percentile'].values[0]\n",
    "    \n",
    "    else:\n",
    "        return 0\n",
    "    \n",
    "#here i could have used pandas cut but had already made the function when i realised"
   ]
  },
  {
   "cell_type": "code",
   "execution_count": 56,
   "metadata": {
    "ExecuteTime": {
     "end_time": "2019-12-20T19:25:20.068310Z",
     "start_time": "2019-12-20T19:22:38.353051Z"
    }
   },
   "outputs": [],
   "source": [
    "#applying to the whole dataframe\n",
    "merged_df['income_percentile_for_state']=merged_df.apply(find_percentile_for_income,axis=1)"
   ]
  },
  {
   "cell_type": "code",
   "execution_count": 57,
   "metadata": {
    "ExecuteTime": {
     "end_time": "2019-12-20T19:25:20.690230Z",
     "start_time": "2019-12-20T19:25:20.073260Z"
    }
   },
   "outputs": [
    {
     "data": {
      "text/plain": [
       "(334131, 114)"
      ]
     },
     "execution_count": 57,
     "metadata": {},
     "output_type": "execute_result"
    }
   ],
   "source": [
    "#checking if there are any values set to 0\n",
    "merged_df[merged_df.income_percentile_for_state==0].shape"
   ]
  },
  {
   "cell_type": "markdown",
   "metadata": {},
   "source": [
    "# Cleaning the Data"
   ]
  },
  {
   "cell_type": "code",
   "execution_count": 58,
   "metadata": {
    "ExecuteTime": {
     "end_time": "2019-12-20T19:25:22.526690Z",
     "start_time": "2019-12-20T19:25:20.693499Z"
    }
   },
   "outputs": [
    {
     "data": {
      "text/plain": [
       "dti_joint                    99.795586\n",
       "verification_status_joint    99.795586\n",
       "next_pymnt_d                 90.949225\n",
       "il_util                      89.169668\n",
       "mths_since_rcnt_il           87.932727\n",
       "all_util                     87.645523\n",
       "total_cu_tl                  87.645096\n",
       "total_bal_il                 87.645096\n",
       "open_il_6m                   87.645096\n",
       "open_rv_12m                  87.645096\n",
       "dtype: float64"
      ]
     },
     "execution_count": 58,
     "metadata": {},
     "output_type": "execute_result"
    }
   ],
   "source": [
    "#getting list of missing values\n",
    "merged_df.isna().sum().sort_values(ascending=False)\n",
    "\n",
    "all_data_na=merged_df.isna().sum()/len(merged_df)*100\n",
    "all_data_na=all_data_na.drop(all_data_na[all_data_na==0].index).sort_values(ascending=False)\n",
    "all_data_na[:10]"
   ]
  },
  {
   "cell_type": "code",
   "execution_count": 59,
   "metadata": {
    "ExecuteTime": {
     "end_time": "2019-12-20T19:25:22.545457Z",
     "start_time": "2019-12-20T19:25:22.530453Z"
    }
   },
   "outputs": [],
   "source": [
    "#just going to group most of the cleaning together so the code is a bit cleaner\n",
    "def cleaner(data,min_list=None,max_list=None,cat_list=None,date_list=None):\n",
    "    \n",
    "    \n",
    "    all_data_na=data.isna().sum()/len(data)*100\n",
    "    all_data_na=all_data_na.drop(all_data_na[all_data_na==0].index).sort_values(ascending=False)\n",
    "    print('columns with missing data before clean-\\n',all_data_na)\n",
    "    print('-'*20)\n",
    "    \n",
    "    if cat_list != None:\n",
    "        \n",
    "        for column in cat_list:\n",
    "            data[column].fillna(' ', inplace=True)\n",
    "    \n",
    "    if date_list != None:\n",
    "       \n",
    "        for column in date_list:\n",
    "            data[column]=pd.to_datetime(data[column],infer_datetime_format=True)\n",
    "            \n",
    "            \n",
    "    if min_list!=None:\n",
    "        \n",
    "        for column in min_list:\n",
    "            data[column].fillna((data[column].min()),inplace=True)\n",
    "    \n",
    "    if max_list!=None:\n",
    "        \n",
    "        for column in max_list:\n",
    "            data[column].fillna((data[column].max()),inplace=True)\n",
    "    \n",
    "    #then drop dregs\n",
    "    data.dropna(inplace=True)\n",
    "    \n",
    "    all_data_na=data.isna().sum()/len(data)*100\n",
    "    all_data_na=all_data_na.drop(all_data_na[all_data_na==0].index).sort_values(ascending=False)\n",
    "    print('columns with missing data after clean-\\n',all_data_na)\n",
    "    \n",
    "    return data"
   ]
  },
  {
   "cell_type": "code",
   "execution_count": 60,
   "metadata": {
    "ExecuteTime": {
     "end_time": "2019-12-20T19:25:36.733164Z",
     "start_time": "2019-12-20T19:25:22.549812Z"
    }
   },
   "outputs": [],
   "source": [
    "#did this because if only one person the joint dti is basically the normal dti\n",
    "merged_df['dti_joint']=merged_df.apply(lambda x: x['dti'] if np.isnan(x['dti_joint']) else x['dti_joint'],axis=1)\n",
    "#no info on this\n",
    "merged_df.drop(columns='desc',inplace=True)\n",
    "merged_df=merged_df[np.isfinite(merged_df['avg_cur_bal'])]"
   ]
  },
  {
   "cell_type": "code",
   "execution_count": 61,
   "metadata": {
    "ExecuteTime": {
     "end_time": "2019-12-20T19:25:36.751431Z",
     "start_time": "2019-12-20T19:25:36.735146Z"
    }
   },
   "outputs": [],
   "source": [
    "#for categorical list because they were strings could leave them blank, assumed that for things like emp_title if they were blank it meant they were unemployed\n",
    "cat_list=['verification_status_joint','next_pymnt_d',\n",
    "          'emp_title','emp_length','title']\n",
    "\n",
    "#for most of these I thought that if they were blank it meant that it was because they did not have/do whatever the column was asking for eg inq last 12 months being blank- no inquiries in last 12 months\n",
    "min_list=['inq_last_12m','open_il_6m','inq_fi','max_bal_bc',\n",
    "         'open_rv_24m','open_rv_12m','total_bal_il','open_il_12m','open_il_24m',\n",
    "          'total_cu_tl','open_acc_6m','il_util','num_tl_120dpd_2m',\n",
    "          'num_tl_120dpd_2m','bc_util','percent_bc_gt_75','bc_open_to_buy','mths_since_recent_bc','last_pymnt_d',\n",
    "          'revol_util','pct_tl_nvr_dlq','last_credit_pull_d','all_util','mo_sin_old_il_acct'\n",
    "         ]\n",
    "\n",
    "#for max list thought that for these columns the person has not done whatever the column is looking for eg go delinqent on a loan\n",
    "max_list=['mths_since_last_record','mths_since_recent_bc_dlq','mths_since_last_major_derog',\n",
    "         'mths_since_recent_revol_delinq','mths_since_last_delinq','mths_since_recent_inq','mths_since_rcnt_il']"
   ]
  },
  {
   "cell_type": "code",
   "execution_count": 62,
   "metadata": {
    "ExecuteTime": {
     "end_time": "2019-12-20T19:26:22.968246Z",
     "start_time": "2019-12-20T19:25:36.753610Z"
    }
   },
   "outputs": [
    {
     "name": "stdout",
     "output_type": "stream",
     "text": [
      "columns with missing data before clean-\n",
      " verification_status_joint         99.795586\n",
      "next_pymnt_d                      90.949225\n",
      "il_util                           89.169668\n",
      "mths_since_rcnt_il                87.932727\n",
      "all_util                          87.645523\n",
      "open_rv_12m                       87.645096\n",
      "inq_last_12m                      87.645096\n",
      "open_il_24m                       87.645096\n",
      "open_rv_24m                       87.645096\n",
      "max_bal_bc                        87.645096\n",
      "inq_fi                            87.645096\n",
      "total_cu_tl                       87.645096\n",
      "open_il_6m                        87.645096\n",
      "open_il_12m                       87.645096\n",
      "open_acc_6m                       87.645096\n",
      "total_bal_il                      87.645096\n",
      "mths_since_last_record            83.618902\n",
      "mths_since_recent_bc_dlq          74.719837\n",
      "mths_since_last_major_derog       73.257571\n",
      "mths_since_recent_revol_delinq    65.519912\n",
      "mths_since_last_delinq            50.678749\n",
      "mths_since_recent_inq              8.763784\n",
      "emp_title                          5.773744\n",
      "emp_length                         4.992361\n",
      "mo_sin_old_il_acct                 3.045944\n",
      "num_tl_120dpd_2m                   2.991960\n",
      "last_pymnt_d                       1.541856\n",
      "bc_util                            1.075629\n",
      "percent_bc_gt_75                   1.044903\n",
      "bc_open_to_buy                     1.010336\n",
      "mths_since_recent_bc               0.928400\n",
      "title                              0.687711\n",
      "revol_util                         0.053771\n",
      "pct_tl_nvr_dlq                     0.027952\n",
      "last_credit_pull_d                 0.006188\n",
      "mo_sin_old_rev_tl_op               0.000213\n",
      "mo_sin_rcnt_rev_tl_op              0.000213\n",
      "num_rev_accts                      0.000213\n",
      "dtype: float64\n",
      "--------------------\n",
      "columns with missing data after clean-\n",
      " Series([], dtype: float64)\n"
     ]
    }
   ],
   "source": [
    "merged_df=cleaner(merged_df,min_list=min_list,max_list=max_list,cat_list=cat_list,date_list=['last_credit_pull_d','last_pymnt_d','earliest_cr_line','issue_d'])"
   ]
  },
  {
   "cell_type": "markdown",
   "metadata": {},
   "source": [
    "Finally to see what the distribution of fully paid/ good loans vs charged off and defaulted loans are. The way I have removed Na values has balanced the dataset somewhat which is good for my models in the short term as we will not have to employ measures such as SMOTE or undersampling. However in the future I would like to go back and include more data and therefore probably imbalance the dataset further in the hope to make my models more robust. "
   ]
  },
  {
   "cell_type": "code",
   "execution_count": 63,
   "metadata": {
    "ExecuteTime": {
     "end_time": "2019-12-20T19:26:23.014500Z",
     "start_time": "2019-12-20T19:26:22.971681Z"
    }
   },
   "outputs": [
    {
     "data": {
      "text/plain": [
       "Fully Paid            0.725373\n",
       "Charged Off           0.184119\n",
       "Late (31-120 days)    0.042752\n",
       "In Grace Period       0.021722\n",
       "Issued                0.012905\n",
       "Late (16-30 days)     0.009694\n",
       "Default               0.003435\n",
       "Name: loan_status, dtype: float64"
      ]
     },
     "execution_count": 63,
     "metadata": {},
     "output_type": "execute_result"
    }
   ],
   "source": [
    "merged_df.loan_status.value_counts(normalize=True)"
   ]
  },
  {
   "cell_type": "code",
   "execution_count": 64,
   "metadata": {
    "ExecuteTime": {
     "end_time": "2019-12-20T19:26:23.334579Z",
     "start_time": "2019-12-20T19:26:23.017080Z"
    }
   },
   "outputs": [],
   "source": [
    "merged_df.rename(columns={'average_income':'average_income_state'},inplace=True)"
   ]
  },
  {
   "cell_type": "code",
   "execution_count": 65,
   "metadata": {
    "ExecuteTime": {
     "end_time": "2019-12-20T19:26:23.353319Z",
     "start_time": "2019-12-20T19:26:23.336697Z"
    }
   },
   "outputs": [],
   "source": [
    "#want to compare salary vs state average - can imagine money goes a lot further in some states vs others\n",
    "\n",
    "merged_df['income_vs_average']=merged_df['annual_inc']-merged_df['average_income_state']"
   ]
  },
  {
   "cell_type": "code",
   "execution_count": 66,
   "metadata": {
    "ExecuteTime": {
     "end_time": "2019-12-20T19:26:23.881819Z",
     "start_time": "2019-12-20T19:26:23.355099Z"
    }
   },
   "outputs": [],
   "source": [
    "#id and member id give no valuable info\n",
    "#may drop next payment d too because only got 3 different values\n",
    "\n",
    "merged_df.drop(columns=['id','member_id','next_pymnt_d','collection_recovery_fee'],inplace=True)"
   ]
  },
  {
   "cell_type": "code",
   "execution_count": 67,
   "metadata": {
    "ExecuteTime": {
     "end_time": "2019-12-20T19:26:23.918651Z",
     "start_time": "2019-12-20T19:26:23.883893Z"
    }
   },
   "outputs": [],
   "source": [
    "merged_df['earliest_cr_line']=pd.to_datetime(merged_df['earliest_cr_line'],infer_datetime_format=True)\n",
    "merged_df['issue_d']=pd.to_datetime(merged_df['issue_d'],infer_datetime_format=True)\n",
    "merged_df['time_since first_cr_line']=merged_df['issue_d']-merged_df['earliest_cr_line']"
   ]
  },
  {
   "cell_type": "code",
   "execution_count": 68,
   "metadata": {
    "ExecuteTime": {
     "end_time": "2019-12-20T19:26:23.923986Z",
     "start_time": "2019-12-20T19:26:23.920574Z"
    }
   },
   "outputs": [],
   "source": [
    "def datetime_to_float(d):\n",
    "    return d.timestamp()\n"
   ]
  },
  {
   "cell_type": "code",
   "execution_count": 69,
   "metadata": {
    "ExecuteTime": {
     "end_time": "2019-12-20T19:26:32.876448Z",
     "start_time": "2019-12-20T19:26:23.926442Z"
    }
   },
   "outputs": [],
   "source": [
    "merged_df['issue_d']=merged_df['issue_d'].map(datetime_to_float)\n",
    "\n",
    "\n",
    "date_columns=['earliest_cr_line','last_pymnt_d','last_credit_pull_d']\n",
    "\n",
    "for column in date_columns:\n",
    "    merged_df[column]=merged_df[column].map(datetime_to_float)\n",
    "\n",
    "merged_df['time_since first_cr_line']=merged_df['time_since first_cr_line'].apply(lambda x: float(x.days))"
   ]
  },
  {
   "cell_type": "markdown",
   "metadata": {},
   "source": [
    "### Deciding on what loan statuses should be good vs bad"
   ]
  },
  {
   "cell_type": "code",
   "execution_count": 70,
   "metadata": {
    "ExecuteTime": {
     "end_time": "2019-12-20T19:26:33.019445Z",
     "start_time": "2019-12-20T19:26:32.878310Z"
    }
   },
   "outputs": [],
   "source": [
    "#here we are deciding on our classes- what is a good loan and what is a bad loan\n",
    "#think we can say that good loans are- fully paid, in grace period and issued with the rest being bad loans\n",
    "good_loans=['Fully Paid','In Grace Period','Issued']\n",
    "\n",
    "merged_df['good_or_bad']=merged_df.loan_status.map(lambda x : 1 if x not in good_loans else 0)"
   ]
  },
  {
   "cell_type": "markdown",
   "metadata": {},
   "source": [
    "### Limiting the Dataset"
   ]
  },
  {
   "cell_type": "markdown",
   "metadata": {},
   "source": [
    "As the Dataset was still very large and therefore any model I tried to run took far too long, I decided to focus on 2014 loans that were of a grade C or below. This is because the loans with lower grades had higher interest rates but were more likely to fail- having higher upside but also higher risk."
   ]
  },
  {
   "cell_type": "code",
   "execution_count": 71,
   "metadata": {
    "ExecuteTime": {
     "end_time": "2019-12-20T19:26:33.866613Z",
     "start_time": "2019-12-20T19:26:33.020973Z"
    }
   },
   "outputs": [],
   "source": [
    "temp_df=merged_df.copy()\n",
    "\n",
    "temp_df=temp_df[~temp_df.Year.isin(['2007','2008','2009','2010','2012','2016','2013','2015'])]\n",
    "\n",
    "temp_df=temp_df[temp_df.annual_inc<1000000]\n",
    "#removing outliers\n",
    "\n",
    "temp_df=temp_df[~temp_df.grade.isin(['A','B'])]"
   ]
  },
  {
   "cell_type": "code",
   "execution_count": 72,
   "metadata": {
    "ExecuteTime": {
     "end_time": "2019-12-20T19:26:39.844242Z",
     "start_time": "2019-12-20T19:26:33.868483Z"
    }
   },
   "outputs": [],
   "source": [
    "temp_df.to_csv('temp_df.csv',index=False)"
   ]
  },
  {
   "cell_type": "markdown",
   "metadata": {},
   "source": [
    "# NLP"
   ]
  },
  {
   "cell_type": "markdown",
   "metadata": {},
   "source": [
    "Because I had some time left and I was not happy with the scores I was getting I decided to do some very simple NLP on the job titles column to see if there was any predictive power in this column. My thought process in the below code was to pick out words which appeared quite a lot in the dataset (such as manager, driver etc) and then out of that set only include them if they had any predictive power so as to reduce the complexity of the model. "
   ]
  },
  {
   "cell_type": "code",
   "execution_count": 73,
   "metadata": {
    "ExecuteTime": {
     "end_time": "2019-12-20T19:26:41.053311Z",
     "start_time": "2019-12-20T19:26:39.846233Z"
    }
   },
   "outputs": [],
   "source": [
    "temp_df=pd.read_csv('~/GA/DSI10-lessons/projects/project-capstone/temp_df.csv')"
   ]
  },
  {
   "cell_type": "code",
   "execution_count": 74,
   "metadata": {
    "ExecuteTime": {
     "end_time": "2019-12-20T19:26:41.061456Z",
     "start_time": "2019-12-20T19:26:41.055166Z"
    }
   },
   "outputs": [],
   "source": [
    "#only want popular words/jobs so it will generalise well\n",
    "cvec = CountVectorizer(token_pattern='\\w+', min_df=10000, binary=True)"
   ]
  },
  {
   "cell_type": "code",
   "execution_count": 75,
   "metadata": {
    "ExecuteTime": {
     "end_time": "2019-12-20T19:26:41.197808Z",
     "start_time": "2019-12-20T19:26:41.064435Z"
    }
   },
   "outputs": [],
   "source": [
    "#splitting into train and test so the test set so we test set is completely blind for modelling\n",
    "X = temp_df.copy()\n",
    "y = X.pop('good_or_bad')\n",
    "\n",
    "X_train, X_test, y_train, y_test = train_test_split(X,\n",
    "                                                    y,\n",
    "                                                    test_size=0.2,\n",
    "                                                    random_state=1)"
   ]
  },
  {
   "cell_type": "code",
   "execution_count": 76,
   "metadata": {
    "ExecuteTime": {
     "end_time": "2019-12-20T19:26:41.224444Z",
     "start_time": "2019-12-20T19:26:41.199671Z"
    }
   },
   "outputs": [],
   "source": [
    "#getting a count of words that appear in bad loans\n",
    "bad_loans = X_train[y_train == 1]\n",
    "badcvec = CountVectorizer(token_pattern='\\w+', binary=True)"
   ]
  },
  {
   "cell_type": "code",
   "execution_count": 77,
   "metadata": {
    "ExecuteTime": {
     "end_time": "2019-12-20T19:26:41.333339Z",
     "start_time": "2019-12-20T19:26:41.227701Z"
    }
   },
   "outputs": [],
   "source": [
    "badwords = badcvec.fit_transform(bad_loans.emp_title)"
   ]
  },
  {
   "cell_type": "code",
   "execution_count": 78,
   "metadata": {
    "ExecuteTime": {
     "end_time": "2019-12-20T19:26:41.348386Z",
     "start_time": "2019-12-20T19:26:41.339539Z"
    }
   },
   "outputs": [
    {
     "data": {
      "text/plain": [
       "matrix([[ 1, 30,  1, ..., 11,  5,  1]], dtype=int64)"
      ]
     },
     "execution_count": 78,
     "metadata": {},
     "output_type": "execute_result"
    }
   ],
   "source": [
    "badwords.sum(axis=0)"
   ]
  },
  {
   "cell_type": "code",
   "execution_count": 79,
   "metadata": {
    "ExecuteTime": {
     "end_time": "2019-12-20T19:26:41.371316Z",
     "start_time": "2019-12-20T19:26:41.353503Z"
    }
   },
   "outputs": [],
   "source": [
    "bad = pd.DataFrame(\n",
    "    badwords.sum(axis=0),\n",
    "    columns=badcvec.get_feature_names()).transpose().sort_values(\n",
    "        0, ascending=False).transpose()"
   ]
  },
  {
   "cell_type": "code",
   "execution_count": 80,
   "metadata": {
    "ExecuteTime": {
     "end_time": "2019-12-20T19:26:41.562484Z",
     "start_time": "2019-12-20T19:26:41.374545Z"
    }
   },
   "outputs": [
    {
     "data": {
      "text/plain": [
       "matrix([[1, 1, 1, ..., 1, 1, 1]], dtype=int64)"
      ]
     },
     "execution_count": 80,
     "metadata": {},
     "output_type": "execute_result"
    }
   ],
   "source": [
    "#getting a count of words that appear in good loans\n",
    "good_loans = X_train[y_train == 0]\n",
    "goodcvec = CountVectorizer(token_pattern='\\w+', binary=True)\n",
    "\n",
    "goodwords = goodcvec.fit_transform(good_loans.emp_title)\n",
    "\n",
    "goodwords.sum(axis=0)"
   ]
  },
  {
   "cell_type": "code",
   "execution_count": 81,
   "metadata": {
    "ExecuteTime": {
     "end_time": "2019-12-20T19:26:41.578729Z",
     "start_time": "2019-12-20T19:26:41.566252Z"
    }
   },
   "outputs": [],
   "source": [
    "#turning the matrix into a dataframe for ease of use\n",
    "good = pd.DataFrame(\n",
    "    goodwords.sum(axis=0),\n",
    "    columns=goodcvec.get_feature_names()).transpose().sort_values(\n",
    "        0, ascending=False).transpose()"
   ]
  },
  {
   "cell_type": "code",
   "execution_count": 82,
   "metadata": {
    "ExecuteTime": {
     "end_time": "2019-12-20T19:26:41.609420Z",
     "start_time": "2019-12-20T19:26:41.586284Z"
    }
   },
   "outputs": [],
   "source": [
    "#turning the column names into a column\n",
    "good = good.melt(var_name='good_job', value_name='good_values')\n",
    "bad = bad.melt(var_name='bad_job', value_name='bad_values')\n",
    "jobs_performance = good.merge(bad, left_on='good_job', right_on='bad_job')\n",
    "#finding the good loan vs bad loan\n",
    "jobs_performance['good_loan_ratio'] = jobs_performance['good_values'] / (\n",
    "    jobs_performance['good_values'] + jobs_performance['bad_values'])"
   ]
  },
  {
   "cell_type": "code",
   "execution_count": 83,
   "metadata": {
    "ExecuteTime": {
     "end_time": "2019-12-20T19:26:41.623395Z",
     "start_time": "2019-12-20T19:26:41.611606Z"
    }
   },
   "outputs": [],
   "source": [
    "#only keeping words that appear more than 1000 times\n",
    "jobs_performance = jobs_performance[(jobs_performance['good_values'] +\n",
    "                                     jobs_performance['bad_values']) > 1000]"
   ]
  },
  {
   "cell_type": "code",
   "execution_count": 84,
   "metadata": {
    "ExecuteTime": {
     "end_time": "2019-12-20T19:26:41.642485Z",
     "start_time": "2019-12-20T19:26:41.625854Z"
    }
   },
   "outputs": [
    {
     "data": {
      "text/html": [
       "<div>\n",
       "<style scoped>\n",
       "    .dataframe tbody tr th:only-of-type {\n",
       "        vertical-align: middle;\n",
       "    }\n",
       "\n",
       "    .dataframe tbody tr th {\n",
       "        vertical-align: top;\n",
       "    }\n",
       "\n",
       "    .dataframe thead th {\n",
       "        text-align: right;\n",
       "    }\n",
       "</style>\n",
       "<table border=\"1\" class=\"dataframe\">\n",
       "  <thead>\n",
       "    <tr style=\"text-align: right;\">\n",
       "      <th></th>\n",
       "      <th>good_job</th>\n",
       "      <th>good_values</th>\n",
       "      <th>bad_job</th>\n",
       "      <th>bad_values</th>\n",
       "      <th>good_loan_ratio</th>\n",
       "    </tr>\n",
       "  </thead>\n",
       "  <tbody>\n",
       "    <tr>\n",
       "      <th>8</th>\n",
       "      <td>engineer</td>\n",
       "      <td>1091</td>\n",
       "      <td>engineer</td>\n",
       "      <td>395</td>\n",
       "      <td>0.734186</td>\n",
       "    </tr>\n",
       "    <tr>\n",
       "      <th>6</th>\n",
       "      <td>analyst</td>\n",
       "      <td>1273</td>\n",
       "      <td>analyst</td>\n",
       "      <td>463</td>\n",
       "      <td>0.733295</td>\n",
       "    </tr>\n",
       "    <tr>\n",
       "      <th>15</th>\n",
       "      <td>of</td>\n",
       "      <td>814</td>\n",
       "      <td>of</td>\n",
       "      <td>303</td>\n",
       "      <td>0.728738</td>\n",
       "    </tr>\n",
       "    <tr>\n",
       "      <th>7</th>\n",
       "      <td>senior</td>\n",
       "      <td>1113</td>\n",
       "      <td>senior</td>\n",
       "      <td>417</td>\n",
       "      <td>0.727451</td>\n",
       "    </tr>\n",
       "    <tr>\n",
       "      <th>2</th>\n",
       "      <td>director</td>\n",
       "      <td>1563</td>\n",
       "      <td>director</td>\n",
       "      <td>624</td>\n",
       "      <td>0.714678</td>\n",
       "    </tr>\n",
       "  </tbody>\n",
       "</table>\n",
       "</div>"
      ],
      "text/plain": [
       "    good_job  good_values   bad_job  bad_values  good_loan_ratio\n",
       "8   engineer         1091  engineer         395         0.734186\n",
       "6    analyst         1273   analyst         463         0.733295\n",
       "15        of          814        of         303         0.728738\n",
       "7     senior         1113    senior         417         0.727451\n",
       "2   director         1563  director         624         0.714678"
      ]
     },
     "execution_count": 84,
     "metadata": {},
     "output_type": "execute_result"
    }
   ],
   "source": [
    "jobs_performance.sort_values(by='good_loan_ratio', ascending=False).head()"
   ]
  },
  {
   "cell_type": "code",
   "execution_count": 85,
   "metadata": {
    "ExecuteTime": {
     "end_time": "2019-12-20T19:26:41.650325Z",
     "start_time": "2019-12-20T19:26:41.645242Z"
    }
   },
   "outputs": [],
   "source": [
    "#created a function that binarizes the words with a given threshold, there is a better way of doing this out there I think\n",
    "def discriminator_jobs(x):\n",
    "    ''' returns job if the good to bad ratio is either \n",
    "    a lot higher than base or a lot lower than base'''\n",
    "\n",
    "    if x['good_loan_ratio'] > 0.72 or x['good_loan_ratio'] < 0.62:\n",
    "        return 1\n",
    "    else:\n",
    "        return 0"
   ]
  },
  {
   "cell_type": "code",
   "execution_count": 86,
   "metadata": {
    "ExecuteTime": {
     "end_time": "2019-12-20T19:26:41.712909Z",
     "start_time": "2019-12-20T19:26:41.652683Z"
    }
   },
   "outputs": [],
   "source": [
    "#applying the function to the dataframe\n",
    "jobs_performance['discriminating_job'] = jobs_performance.apply(\n",
    "    discriminator_jobs, axis=1)"
   ]
  },
  {
   "cell_type": "code",
   "execution_count": 87,
   "metadata": {
    "ExecuteTime": {
     "end_time": "2019-12-20T19:26:41.722778Z",
     "start_time": "2019-12-20T19:26:41.715222Z"
    }
   },
   "outputs": [],
   "source": [
    "discriminating_jobs = list(jobs_performance[jobs_performance.discriminating_job\n",
    "                                            == 1]['good_job'].values)"
   ]
  },
  {
   "cell_type": "code",
   "execution_count": 88,
   "metadata": {
    "ExecuteTime": {
     "end_time": "2019-12-20T19:26:41.729148Z",
     "start_time": "2019-12-20T19:26:41.725033Z"
    }
   },
   "outputs": [],
   "source": [
    "cvec = CountVectorizer(token_pattern='\\w+',\n",
    "                       vocabulary=discriminating_jobs,\n",
    "                       binary=True)"
   ]
  },
  {
   "cell_type": "code",
   "execution_count": 89,
   "metadata": {
    "ExecuteTime": {
     "end_time": "2019-12-20T19:26:42.034540Z",
     "start_time": "2019-12-20T19:26:41.731437Z"
    }
   },
   "outputs": [],
   "source": [
    "words=cvec.fit_transform(temp_df.emp_title)"
   ]
  },
  {
   "cell_type": "code",
   "execution_count": 90,
   "metadata": {
    "ExecuteTime": {
     "end_time": "2019-12-20T19:26:42.047261Z",
     "start_time": "2019-12-20T19:26:42.036584Z"
    }
   },
   "outputs": [],
   "source": [
    "words_df=pd.DataFrame(words.toarray(),\n",
    "                      columns=cvec.get_feature_names())"
   ]
  },
  {
   "cell_type": "code",
   "execution_count": 91,
   "metadata": {
    "ExecuteTime": {
     "end_time": "2019-12-20T19:26:42.101478Z",
     "start_time": "2019-12-20T19:26:42.048910Z"
    }
   },
   "outputs": [],
   "source": [
    "merged_for_words=temp_df.reset_index()"
   ]
  },
  {
   "cell_type": "code",
   "execution_count": 92,
   "metadata": {
    "ExecuteTime": {
     "end_time": "2019-12-20T19:26:42.318166Z",
     "start_time": "2019-12-20T19:26:42.102956Z"
    }
   },
   "outputs": [],
   "source": [
    "merged_for_words=merged_for_words.join(words_df)\n",
    "merged_for_words.drop(columns=['emp_title','total_rec_prncp',\n",
    "                      'out_prncp_inv','total_pymnt_inv','funded_amnt_inv',\n",
    "                      'last_pymnt_d','out_prncp','total_pymnt','total_rec_int','last_pymnt_amnt','index'],inplace=True)"
   ]
  },
  {
   "cell_type": "code",
   "execution_count": 93,
   "metadata": {
    "ExecuteTime": {
     "end_time": "2019-12-20T19:26:48.079531Z",
     "start_time": "2019-12-20T19:26:42.319810Z"
    }
   },
   "outputs": [],
   "source": [
    "merged_for_words.to_csv('merged_for_words1.csv',index=False)"
   ]
  }
 ],
 "metadata": {
  "kernelspec": {
   "display_name": "Python 3",
   "language": "python",
   "name": "python3"
  },
  "language_info": {
   "codemirror_mode": {
    "name": "ipython",
    "version": 3
   },
   "file_extension": ".py",
   "mimetype": "text/x-python",
   "name": "python",
   "nbconvert_exporter": "python",
   "pygments_lexer": "ipython3",
   "version": "3.7.3"
  },
  "toc": {
   "base_numbering": 1,
   "nav_menu": {},
   "number_sections": true,
   "sideBar": true,
   "skip_h1_title": false,
   "title_cell": "Table of Contents",
   "title_sidebar": "Contents",
   "toc_cell": false,
   "toc_position": {},
   "toc_section_display": true,
   "toc_window_display": false
  }
 },
 "nbformat": 4,
 "nbformat_minor": 2
}
