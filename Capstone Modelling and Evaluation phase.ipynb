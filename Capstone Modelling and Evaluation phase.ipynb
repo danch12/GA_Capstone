{
 "cells": [
  {
   "cell_type": "code",
   "execution_count": 1,
   "metadata": {
    "ExecuteTime": {
     "end_time": "2019-12-17T22:27:06.132417Z",
     "start_time": "2019-12-17T22:27:00.671299Z"
    }
   },
   "outputs": [],
   "source": [
    "import numpy as np\n",
    "import scipy.stats as stats\n",
    "import seaborn as sns\n",
    "import matplotlib.pyplot as plt\n",
    "import pandas as pd\n",
    "from itertools import combinations\n",
    "from matplotlib import cm\n",
    "from matplotlib.colors import ListedColormap\n",
    "plt.style.use('ggplot')\n",
    "\n",
    "%config InlineBackend.figure_format = 'retina'\n",
    "%matplotlib inline\n",
    "from sklearn.metrics import roc_curve, auc, precision_recall_curve, average_precision_score\n",
    "from sklearn.metrics import classification_report\n",
    "from sklearn.preprocessing import StandardScaler\n",
    "from sklearn.linear_model import LogisticRegression, LogisticRegressionCV\n",
    "from sklearn.model_selection import train_test_split, cross_val_score, GridSearchCV\n",
    "from sklearn.metrics import confusion_matrix\n",
    "from sklearn.ensemble import ExtraTreesClassifier\n",
    "from sklearn.model_selection import KFold\n",
    "from sklearn.ensemble import AdaBoostClassifier\n",
    "from sklearn.ensemble import RandomForestClassifier\n",
    "from sklearn.neighbors import KNeighborsClassifier\n",
    "from scipy import sparse\n",
    "from sklearn.feature_extraction.text import CountVectorizer\n",
    "from sklearn.metrics import precision_score\n",
    "import xgboost as xgb\n",
    "from sklearn.model_selection import KFold\n",
    "from joblib import dump, load\n",
    "import scikitplot as skplt\n",
    "from matplotlib.colors import ListedColormap"
   ]
  },
  {
   "cell_type": "markdown",
   "metadata": {},
   "source": [
    "### Creating scoring functions for my models"
   ]
  },
  {
   "cell_type": "code",
   "execution_count": 2,
   "metadata": {
    "ExecuteTime": {
     "end_time": "2019-12-17T22:27:06.146489Z",
     "start_time": "2019-12-17T22:27:06.136347Z"
    }
   },
   "outputs": [],
   "source": [
    "def model_scorer(model, X_train, y_train, X_test, y_test):\n",
    "    '''prints out model cross validation, test and precision scores together for clarity'''\n",
    "    cv_scores = cross_val_score(model, X_train, y_train, cv=5)\n",
    "    print(str(model).split('(')[0])\n",
    "    print('cross validated scores-', cv_scores)\n",
    "    print('mean of cross validated scores-', cv_scores.mean())\n",
    "    print('test score-', model.score(X_test, y_test))\n",
    "    model_preds = model.predict(X_test)\n",
    "    print('precision-', precision_score(y_test, model_preds))"
   ]
  },
  {
   "cell_type": "code",
   "execution_count": 3,
   "metadata": {
    "ExecuteTime": {
     "end_time": "2019-12-17T22:27:06.159959Z",
     "start_time": "2019-12-17T22:27:06.150797Z"
    }
   },
   "outputs": [],
   "source": [
    "def model_fit_score(model, X_train, y_train, X_test, y_test):\n",
    "    '''prints out model cross validation, test and precision scores together for clarity'''\n",
    "    model.fit(X_train, y_train)\n",
    "    cv_scores = cross_val_score(model, X_train, y_train, cv=5)\n",
    "    print(str(model).split('(')[0])\n",
    "    print('cross validated scores-', cv_scores)\n",
    "    print('mean of cross validated scores-', cv_scores.mean())\n",
    "    print('test score-', model.score(X_test, y_test))\n",
    "    model_preds = model.predict(X_test)\n",
    "    print('precision-', precision_score(y_test, model_preds))"
   ]
  },
  {
   "cell_type": "markdown",
   "metadata": {},
   "source": [
    "### Loading In data"
   ]
  },
  {
   "cell_type": "code",
   "execution_count": 4,
   "metadata": {
    "ExecuteTime": {
     "end_time": "2019-12-17T22:27:08.888087Z",
     "start_time": "2019-12-17T22:27:06.162177Z"
    }
   },
   "outputs": [],
   "source": [
    "#loading data\n",
    "temp_df = pd.read_csv('temp_df.csv')\n",
    "drop_df = temp_df.copy()"
   ]
  },
  {
   "cell_type": "code",
   "execution_count": 5,
   "metadata": {
    "ExecuteTime": {
     "end_time": "2019-12-17T22:27:09.247810Z",
     "start_time": "2019-12-17T22:27:08.889765Z"
    }
   },
   "outputs": [],
   "source": [
    "#dropping columns that cannot be used\n",
    "\n",
    "drop_columns=[\n",
    "    'emp_title', 'total_rec_prncp', 'out_prncp_inv', 'total_pymnt_inv',\n",
    "    'funded_amnt_inv', 'last_pymnt_d', 'out_prncp', 'total_pymnt',\n",
    "    'total_rec_int', 'last_pymnt_amnt', 'title', 'zip_code', 'loan_status',\n",
    "    'recoveries', 'id', 'member_id', 'next_pymnt_d', 'collection_recovery_fee'\n",
    "]\n",
    "\n",
    "for column in drop_columns:\n",
    "    try:\n",
    "        drop_df.drop(columns=[column],inplace=True)\n",
    "    except:\n",
    "        pass\n",
    "\n"
   ]
  },
  {
   "cell_type": "code",
   "execution_count": 6,
   "metadata": {
    "ExecuteTime": {
     "end_time": "2019-12-17T22:27:09.304500Z",
     "start_time": "2019-12-17T22:27:09.250254Z"
    }
   },
   "outputs": [
    {
     "data": {
      "text/plain": [
       "0    0.664916\n",
       "1    0.335084\n",
       "Name: good_or_bad, dtype: float64"
      ]
     },
     "execution_count": 6,
     "metadata": {},
     "output_type": "execute_result"
    }
   ],
   "source": [
    "#finding baseline for models\n",
    "drop_df.good_or_bad.value_counts(normalize=True)"
   ]
  },
  {
   "cell_type": "markdown",
   "metadata": {},
   "source": [
    "# Pre NLP Models"
   ]
  },
  {
   "cell_type": "markdown",
   "metadata": {},
   "source": [
    "#### Creating train test split and scaling"
   ]
  },
  {
   "cell_type": "code",
   "execution_count": 7,
   "metadata": {
    "ExecuteTime": {
     "end_time": "2019-12-17T22:27:09.346704Z",
     "start_time": "2019-12-17T22:27:09.307461Z"
    }
   },
   "outputs": [],
   "source": [
    "#creating x and y\n",
    "Xd = drop_df.copy()\n",
    "yd = Xd.pop('good_or_bad')"
   ]
  },
  {
   "cell_type": "code",
   "execution_count": 8,
   "metadata": {
    "ExecuteTime": {
     "end_time": "2019-12-17T22:27:09.591197Z",
     "start_time": "2019-12-17T22:27:09.352646Z"
    }
   },
   "outputs": [],
   "source": [
    "#creating dummy variables for categorical columns\n",
    "Xd = pd.get_dummies(Xd, drop_first=True)"
   ]
  },
  {
   "cell_type": "code",
   "execution_count": 9,
   "metadata": {
    "ExecuteTime": {
     "end_time": "2019-12-17T22:27:09.727081Z",
     "start_time": "2019-12-17T22:27:09.592768Z"
    }
   },
   "outputs": [],
   "source": [
    "#creating train and test set\n",
    "Xd_train, Xd_test, yd_train, yd_test = train_test_split(Xd,\n",
    "                                                        yd,\n",
    "                                                        test_size=0.2,\n",
    "                                                        random_state=1)"
   ]
  },
  {
   "cell_type": "code",
   "execution_count": 10,
   "metadata": {
    "ExecuteTime": {
     "end_time": "2019-12-17T22:27:10.275836Z",
     "start_time": "2019-12-17T22:27:09.730092Z"
    }
   },
   "outputs": [],
   "source": [
    "#scaling data\n",
    "scaler = StandardScaler()\n",
    "Xd_trains = scaler.fit_transform(Xd_train)\n",
    "Xd_tests = scaler.transform(Xd_test)"
   ]
  },
  {
   "cell_type": "markdown",
   "metadata": {},
   "source": [
    "#### Running Models"
   ]
  },
  {
   "cell_type": "markdown",
   "metadata": {},
   "source": [
    "Running through the models and getting the cv, test, and precision scores.\n",
    "Starting with logistic regression but was not hopeful due to the findings in my EDA. Therefore quickly transitioned to non linear models."
   ]
  },
  {
   "cell_type": "code",
   "execution_count": 11,
   "metadata": {
    "ExecuteTime": {
     "end_time": "2019-12-17T22:27:10.282801Z",
     "start_time": "2019-12-17T22:27:10.277997Z"
    }
   },
   "outputs": [],
   "source": [
    "#logistic regression\n",
    "log_reg_pre_words = load('logistic_regression_no_words.joblib')"
   ]
  },
  {
   "cell_type": "code",
   "execution_count": 12,
   "metadata": {
    "ExecuteTime": {
     "end_time": "2019-12-17T22:36:30.426835Z",
     "start_time": "2019-12-17T22:27:10.285117Z"
    }
   },
   "outputs": [
    {
     "name": "stdout",
     "output_type": "stream",
     "text": [
      "LogisticRegression\n",
      "cross validated scores- [0.71440884 0.708588   0.71219245 0.70543061 0.70903534]\n",
      "mean of cross validated scores- 0.7099310461857529\n",
      "test score- 0.7159781859211434\n",
      "precision- 0.6223709369024857\n"
     ]
    }
   ],
   "source": [
    "model_scorer(log_reg_pre_words, Xd_trains, yd_train, Xd_tests, yd_test)"
   ]
  },
  {
   "cell_type": "code",
   "execution_count": 13,
   "metadata": {
    "ExecuteTime": {
     "end_time": "2019-12-17T22:36:30.452009Z",
     "start_time": "2019-12-17T22:36:30.429278Z"
    }
   },
   "outputs": [
    {
     "name": "stdout",
     "output_type": "stream",
     "text": [
      "logistic regression best features\n"
     ]
    },
    {
     "data": {
      "text/html": [
       "<div>\n",
       "<style scoped>\n",
       "    .dataframe tbody tr th:only-of-type {\n",
       "        vertical-align: middle;\n",
       "    }\n",
       "\n",
       "    .dataframe tbody tr th {\n",
       "        vertical-align: top;\n",
       "    }\n",
       "\n",
       "    .dataframe thead th {\n",
       "        text-align: right;\n",
       "    }\n",
       "</style>\n",
       "<table border=\"1\" class=\"dataframe\">\n",
       "  <thead>\n",
       "    <tr style=\"text-align: right;\">\n",
       "      <th></th>\n",
       "      <th>features</th>\n",
       "      <th>coefs</th>\n",
       "      <th>abs</th>\n",
       "    </tr>\n",
       "  </thead>\n",
       "  <tbody>\n",
       "    <tr>\n",
       "      <th>18</th>\n",
       "      <td>last_credit_pull_d</td>\n",
       "      <td>0.909628</td>\n",
       "      <td>0.909628</td>\n",
       "    </tr>\n",
       "    <tr>\n",
       "      <th>17</th>\n",
       "      <td>total_rec_late_fee</td>\n",
       "      <td>0.469427</td>\n",
       "      <td>0.469427</td>\n",
       "    </tr>\n",
       "    <tr>\n",
       "      <th>16</th>\n",
       "      <td>total_acc</td>\n",
       "      <td>-0.380703</td>\n",
       "      <td>0.380703</td>\n",
       "    </tr>\n",
       "    <tr>\n",
       "      <th>85</th>\n",
       "      <td>term_ 60 months</td>\n",
       "      <td>0.339767</td>\n",
       "      <td>0.339767</td>\n",
       "    </tr>\n",
       "    <tr>\n",
       "      <th>115</th>\n",
       "      <td>emp_length_10+ years</td>\n",
       "      <td>-0.308835</td>\n",
       "      <td>0.308835</td>\n",
       "    </tr>\n",
       "  </tbody>\n",
       "</table>\n",
       "</div>"
      ],
      "text/plain": [
       "                 features     coefs       abs\n",
       "18     last_credit_pull_d  0.909628  0.909628\n",
       "17     total_rec_late_fee  0.469427  0.469427\n",
       "16              total_acc -0.380703  0.380703\n",
       "85        term_ 60 months  0.339767  0.339767\n",
       "115  emp_length_10+ years -0.308835  0.308835"
      ]
     },
     "execution_count": 13,
     "metadata": {},
     "output_type": "execute_result"
    }
   ],
   "source": [
    "#getting the largest coefficents/ best predictors\n",
    "log_reg_df = pd.DataFrame({\n",
    "    'features': Xd.columns,\n",
    "    'coefs': log_reg_pre_words.coef_[0]\n",
    "})\n",
    "log_reg_df['abs'] = log_reg_df.coefs.map(lambda x: abs(x))\n",
    "print('logistic regression best features')\n",
    "log_reg_df.sort_values(by='abs', ascending=False).head()"
   ]
  },
  {
   "cell_type": "code",
   "execution_count": 14,
   "metadata": {
    "ExecuteTime": {
     "end_time": "2019-12-17T22:36:30.457843Z",
     "start_time": "2019-12-17T22:36:30.454570Z"
    }
   },
   "outputs": [],
   "source": [
    "rf = RandomForestClassifier(n_estimators=800,\n",
    "                            min_samples_leaf=2,\n",
    "                            max_depth=None,\n",
    "                            random_state=1)"
   ]
  },
  {
   "cell_type": "code",
   "execution_count": 15,
   "metadata": {
    "ExecuteTime": {
     "end_time": "2019-12-17T22:49:35.039181Z",
     "start_time": "2019-12-17T22:36:30.460170Z"
    }
   },
   "outputs": [
    {
     "name": "stdout",
     "output_type": "stream",
     "text": [
      "RandomForestClassifier\n",
      "cross validated scores- [0.77199718 0.76069582 0.76837486 0.76961053 0.77078599]\n",
      "mean of cross validated scores- 0.7682928757144852\n",
      "test score- 0.7740863787375415\n",
      "precision- 0.7529095792300806\n"
     ]
    }
   ],
   "source": [
    "model_fit_score(rf, Xd_trains, yd_train, Xd_tests, yd_test)"
   ]
  },
  {
   "cell_type": "code",
   "execution_count": 16,
   "metadata": {
    "ExecuteTime": {
     "end_time": "2019-12-17T22:49:35.256887Z",
     "start_time": "2019-12-17T22:49:35.040940Z"
    }
   },
   "outputs": [
    {
     "name": "stdout",
     "output_type": "stream",
     "text": [
      "Random forest best features\n"
     ]
    },
    {
     "data": {
      "text/html": [
       "<div>\n",
       "<style scoped>\n",
       "    .dataframe tbody tr th:only-of-type {\n",
       "        vertical-align: middle;\n",
       "    }\n",
       "\n",
       "    .dataframe tbody tr th {\n",
       "        vertical-align: top;\n",
       "    }\n",
       "\n",
       "    .dataframe thead th {\n",
       "        text-align: right;\n",
       "    }\n",
       "</style>\n",
       "<table border=\"1\" class=\"dataframe\">\n",
       "  <thead>\n",
       "    <tr style=\"text-align: right;\">\n",
       "      <th></th>\n",
       "      <th>features</th>\n",
       "      <th>feature_importances</th>\n",
       "      <th>abs</th>\n",
       "    </tr>\n",
       "  </thead>\n",
       "  <tbody>\n",
       "    <tr>\n",
       "      <th>18</th>\n",
       "      <td>last_credit_pull_d</td>\n",
       "      <td>0.163197</td>\n",
       "      <td>0.163197</td>\n",
       "    </tr>\n",
       "    <tr>\n",
       "      <th>17</th>\n",
       "      <td>total_rec_late_fee</td>\n",
       "      <td>0.025795</td>\n",
       "      <td>0.025795</td>\n",
       "    </tr>\n",
       "    <tr>\n",
       "      <th>2</th>\n",
       "      <td>int_rate</td>\n",
       "      <td>0.021795</td>\n",
       "      <td>0.021795</td>\n",
       "    </tr>\n",
       "    <tr>\n",
       "      <th>23</th>\n",
       "      <td>dti_joint</td>\n",
       "      <td>0.021507</td>\n",
       "      <td>0.021507</td>\n",
       "    </tr>\n",
       "    <tr>\n",
       "      <th>6</th>\n",
       "      <td>dti</td>\n",
       "      <td>0.021444</td>\n",
       "      <td>0.021444</td>\n",
       "    </tr>\n",
       "  </tbody>\n",
       "</table>\n",
       "</div>"
      ],
      "text/plain": [
       "              features  feature_importances       abs\n",
       "18  last_credit_pull_d             0.163197  0.163197\n",
       "17  total_rec_late_fee             0.025795  0.025795\n",
       "2             int_rate             0.021795  0.021795\n",
       "23           dti_joint             0.021507  0.021507\n",
       "6                  dti             0.021444  0.021444"
      ]
     },
     "execution_count": 16,
     "metadata": {},
     "output_type": "execute_result"
    }
   ],
   "source": [
    "rf_df = pd.DataFrame({\n",
    "    'features': Xd.columns,\n",
    "    'feature_importances': rf.feature_importances_\n",
    "})\n",
    "rf_df['abs'] = rf_df.feature_importances.map(lambda x: abs(x))\n",
    "print('Random forest best features')\n",
    "rf_df.sort_values(by='abs', ascending=False).head()"
   ]
  },
  {
   "cell_type": "code",
   "execution_count": 17,
   "metadata": {
    "ExecuteTime": {
     "end_time": "2019-12-17T22:49:35.493902Z",
     "start_time": "2019-12-17T22:49:35.260311Z"
    }
   },
   "outputs": [],
   "source": [
    "#ada boost model\n",
    "ad_model_pre_words = load('ad_model_preword.joblib')"
   ]
  },
  {
   "cell_type": "code",
   "execution_count": 19,
   "metadata": {
    "ExecuteTime": {
     "end_time": "2019-12-18T08:43:24.600776Z",
     "start_time": "2019-12-18T07:47:58.682607Z"
    }
   },
   "outputs": [
    {
     "name": "stdout",
     "output_type": "stream",
     "text": [
      "AdaBoostClassifier\n",
      "cross validated scores- [0.79346549 0.79321423 0.79431124 0.79703785 0.79382494]\n",
      "mean of cross validated scores- 0.7943707474894042\n",
      "test score- 0.7922020936500972\n",
      "precision- 0.75\n"
     ]
    }
   ],
   "source": [
    "model_fit_score(ad_model_pre_words, Xd_trains, yd_train, Xd_tests, yd_test)"
   ]
  },
  {
   "cell_type": "code",
   "execution_count": 20,
   "metadata": {
    "ExecuteTime": {
     "end_time": "2019-12-18T08:43:24.819139Z",
     "start_time": "2019-12-18T08:43:24.606744Z"
    }
   },
   "outputs": [
    {
     "name": "stderr",
     "output_type": "stream",
     "text": [
      "//anaconda3/lib/python3.7/site-packages/xgboost/core.py:587: FutureWarning: Series.base is deprecated and will be removed in a future version\n",
      "  if getattr(data, 'base', None) is not None and \\\n"
     ]
    }
   ],
   "source": [
    "#Xg boost\n",
    "#creating training and testing matrices for cross validation\n",
    "d_train = xgb.DMatrix(data=Xd_trains, label=yd_train)\n",
    "d_test = xgb.DMatrix(data=Xd_tests, label=yd_test)"
   ]
  },
  {
   "cell_type": "code",
   "execution_count": 21,
   "metadata": {
    "ExecuteTime": {
     "end_time": "2019-12-18T08:46:16.400432Z",
     "start_time": "2019-12-18T08:43:24.824147Z"
    }
   },
   "outputs": [
    {
     "data": {
      "text/plain": [
       "XGBClassifier(base_score=0.5, booster='gbtree', colsample_bylevel=1,\n",
       "              colsample_bynode=1, colsample_bytree=0.3, gamma=0.1,\n",
       "              learning_rate=0.1, max_delta_step=0, max_depth=2,\n",
       "              min_child_weight=4, missing=None, n_estimators=800, n_jobs=1,\n",
       "              nthread=None, objective='reg:logistic', random_state=0,\n",
       "              reg_alpha=0, reg_lambda=1, scale_pos_weight=1, seed=None,\n",
       "              silent=None, subsample=1, verbosity=1)"
      ]
     },
     "execution_count": 21,
     "metadata": {},
     "output_type": "execute_result"
    }
   ],
   "source": [
    "#creating model\n",
    "xg_reg_pre_words = xgb.XGBClassifier(objective='reg:logistic',\n",
    "                                     colsample_bytree=0.3,\n",
    "                                     learning_rate=0.1,\n",
    "                                     max_depth=2,\n",
    "                                     min_child_weight=4,\n",
    "                                     gamma=0.1,\n",
    "                                     n_estimators=800)\n",
    "xg_reg_pre_words.fit(Xd_trains, yd_train)"
   ]
  },
  {
   "cell_type": "code",
   "execution_count": 22,
   "metadata": {
    "ExecuteTime": {
     "end_time": "2019-12-18T08:46:16.744986Z",
     "start_time": "2019-12-18T08:46:16.402574Z"
    }
   },
   "outputs": [],
   "source": [
    "xg_pre_words_test_score = xg_reg_pre_words.score(Xd_tests, yd_test)"
   ]
  },
  {
   "cell_type": "code",
   "execution_count": 23,
   "metadata": {
    "ExecuteTime": {
     "end_time": "2019-12-18T08:46:16.753134Z",
     "start_time": "2019-12-18T08:46:16.747237Z"
    }
   },
   "outputs": [],
   "source": [
    "params = {\n",
    "    'learning_rate': 0.1,\n",
    "    'max_depth': 2,\n",
    "    'objective': 'reg:logistic',\n",
    "    'min_child_weight': 4,\n",
    "    'gamma': 0.1\n",
    "}\n",
    "params['eval_metric'] = 'error'\n",
    "num_boost_round = 800"
   ]
  },
  {
   "cell_type": "code",
   "execution_count": 24,
   "metadata": {
    "ExecuteTime": {
     "end_time": "2019-12-18T08:57:15.393374Z",
     "start_time": "2019-12-18T08:46:16.756372Z"
    }
   },
   "outputs": [],
   "source": [
    "cv_results = xgb.cv(params,\n",
    "                    d_train,\n",
    "                    num_boost_round=num_boost_round,\n",
    "                    seed=1,\n",
    "                    nfold=5,\n",
    "                    metrics={'error'},\n",
    "                    early_stopping_rounds=50)"
   ]
  },
  {
   "cell_type": "code",
   "execution_count": 25,
   "metadata": {
    "ExecuteTime": {
     "end_time": "2019-12-18T08:57:15.443555Z",
     "start_time": "2019-12-18T08:57:15.399694Z"
    }
   },
   "outputs": [
    {
     "data": {
      "text/html": [
       "<div>\n",
       "<style scoped>\n",
       "    .dataframe tbody tr th:only-of-type {\n",
       "        vertical-align: middle;\n",
       "    }\n",
       "\n",
       "    .dataframe tbody tr th {\n",
       "        vertical-align: top;\n",
       "    }\n",
       "\n",
       "    .dataframe thead th {\n",
       "        text-align: right;\n",
       "    }\n",
       "</style>\n",
       "<table border=\"1\" class=\"dataframe\">\n",
       "  <thead>\n",
       "    <tr style=\"text-align: right;\">\n",
       "      <th></th>\n",
       "      <th>train-error-mean</th>\n",
       "      <th>train-error-std</th>\n",
       "      <th>test-error-mean</th>\n",
       "      <th>test-error-std</th>\n",
       "    </tr>\n",
       "  </thead>\n",
       "  <tbody>\n",
       "    <tr>\n",
       "      <th>392</th>\n",
       "      <td>0.196634</td>\n",
       "      <td>0.000530</td>\n",
       "      <td>0.202448</td>\n",
       "      <td>0.002997</td>\n",
       "    </tr>\n",
       "    <tr>\n",
       "      <th>393</th>\n",
       "      <td>0.196555</td>\n",
       "      <td>0.000547</td>\n",
       "      <td>0.202448</td>\n",
       "      <td>0.002924</td>\n",
       "    </tr>\n",
       "    <tr>\n",
       "      <th>394</th>\n",
       "      <td>0.196547</td>\n",
       "      <td>0.000550</td>\n",
       "      <td>0.202433</td>\n",
       "      <td>0.002999</td>\n",
       "    </tr>\n",
       "    <tr>\n",
       "      <th>395</th>\n",
       "      <td>0.196575</td>\n",
       "      <td>0.000565</td>\n",
       "      <td>0.202401</td>\n",
       "      <td>0.003071</td>\n",
       "    </tr>\n",
       "    <tr>\n",
       "      <th>396</th>\n",
       "      <td>0.196563</td>\n",
       "      <td>0.000529</td>\n",
       "      <td>0.202338</td>\n",
       "      <td>0.003116</td>\n",
       "    </tr>\n",
       "  </tbody>\n",
       "</table>\n",
       "</div>"
      ],
      "text/plain": [
       "     train-error-mean  train-error-std  test-error-mean  test-error-std\n",
       "392          0.196634         0.000530         0.202448        0.002997\n",
       "393          0.196555         0.000547         0.202448        0.002924\n",
       "394          0.196547         0.000550         0.202433        0.002999\n",
       "395          0.196575         0.000565         0.202401        0.003071\n",
       "396          0.196563         0.000529         0.202338        0.003116"
      ]
     },
     "execution_count": 25,
     "metadata": {},
     "output_type": "execute_result"
    }
   ],
   "source": [
    "cv_results.tail()"
   ]
  },
  {
   "cell_type": "code",
   "execution_count": 26,
   "metadata": {
    "ExecuteTime": {
     "end_time": "2019-12-18T08:57:15.520449Z",
     "start_time": "2019-12-18T08:57:15.474859Z"
    }
   },
   "outputs": [],
   "source": [
    "xg_reg_pre_words_feature_importances = pd.DataFrame({\n",
    "    'columns':\n",
    "    Xd.columns,\n",
    "    'importance':\n",
    "    xg_reg_pre_words.feature_importances_\n",
    "}).sort_values(by='importance', ascending=False)"
   ]
  },
  {
   "cell_type": "code",
   "execution_count": 27,
   "metadata": {
    "ExecuteTime": {
     "end_time": "2019-12-18T08:57:15.531847Z",
     "start_time": "2019-12-18T08:57:15.522835Z"
    }
   },
   "outputs": [
    {
     "data": {
      "text/html": [
       "<div>\n",
       "<style scoped>\n",
       "    .dataframe tbody tr th:only-of-type {\n",
       "        vertical-align: middle;\n",
       "    }\n",
       "\n",
       "    .dataframe tbody tr th {\n",
       "        vertical-align: top;\n",
       "    }\n",
       "\n",
       "    .dataframe thead th {\n",
       "        text-align: right;\n",
       "    }\n",
       "</style>\n",
       "<table border=\"1\" class=\"dataframe\">\n",
       "  <thead>\n",
       "    <tr style=\"text-align: right;\">\n",
       "      <th></th>\n",
       "      <th>columns</th>\n",
       "      <th>importance</th>\n",
       "    </tr>\n",
       "  </thead>\n",
       "  <tbody>\n",
       "    <tr>\n",
       "      <th>18</th>\n",
       "      <td>last_credit_pull_d</td>\n",
       "      <td>0.255798</td>\n",
       "    </tr>\n",
       "    <tr>\n",
       "      <th>17</th>\n",
       "      <td>total_rec_late_fee</td>\n",
       "      <td>0.096138</td>\n",
       "    </tr>\n",
       "    <tr>\n",
       "      <th>88</th>\n",
       "      <td>grade_F</td>\n",
       "      <td>0.061799</td>\n",
       "    </tr>\n",
       "    <tr>\n",
       "      <th>2</th>\n",
       "      <td>int_rate</td>\n",
       "      <td>0.044348</td>\n",
       "    </tr>\n",
       "    <tr>\n",
       "      <th>85</th>\n",
       "      <td>term_ 60 months</td>\n",
       "      <td>0.040962</td>\n",
       "    </tr>\n",
       "  </tbody>\n",
       "</table>\n",
       "</div>"
      ],
      "text/plain": [
       "               columns  importance\n",
       "18  last_credit_pull_d    0.255798\n",
       "17  total_rec_late_fee    0.096138\n",
       "88             grade_F    0.061799\n",
       "2             int_rate    0.044348\n",
       "85     term_ 60 months    0.040962"
      ]
     },
     "execution_count": 27,
     "metadata": {},
     "output_type": "execute_result"
    }
   ],
   "source": [
    "xg_reg_pre_words_feature_importances.head()"
   ]
  },
  {
   "cell_type": "markdown",
   "metadata": {},
   "source": [
    "# Post NLP Models"
   ]
  },
  {
   "cell_type": "markdown",
   "metadata": {},
   "source": [
    "#### Creating train test split using DataFrame post NLP"
   ]
  },
  {
   "cell_type": "code",
   "execution_count": 28,
   "metadata": {
    "ExecuteTime": {
     "end_time": "2019-12-18T08:57:16.784344Z",
     "start_time": "2019-12-18T08:57:15.534055Z"
    }
   },
   "outputs": [],
   "source": [
    "merged_for_words = pd.read_csv('merged_words.csv')"
   ]
  },
  {
   "cell_type": "code",
   "execution_count": 29,
   "metadata": {
    "ExecuteTime": {
     "end_time": "2019-12-18T08:57:22.918333Z",
     "start_time": "2019-12-18T08:57:16.785800Z"
    }
   },
   "outputs": [],
   "source": [
    "merged_for_words.to_csv('merged_words.csv')"
   ]
  },
  {
   "cell_type": "code",
   "execution_count": 30,
   "metadata": {
    "ExecuteTime": {
     "end_time": "2019-12-18T08:57:22.973535Z",
     "start_time": "2019-12-18T08:57:22.921343Z"
    }
   },
   "outputs": [],
   "source": [
    "X = merged_for_words.copy()\n",
    "y = X.pop('good_or_bad')"
   ]
  },
  {
   "cell_type": "code",
   "execution_count": 31,
   "metadata": {
    "ExecuteTime": {
     "end_time": "2019-12-18T08:57:23.161526Z",
     "start_time": "2019-12-18T08:57:22.975074Z"
    }
   },
   "outputs": [],
   "source": [
    "X = pd.get_dummies(X, drop_first=True)"
   ]
  },
  {
   "cell_type": "code",
   "execution_count": 32,
   "metadata": {
    "ExecuteTime": {
     "end_time": "2019-12-18T08:57:23.262231Z",
     "start_time": "2019-12-18T08:57:23.163593Z"
    }
   },
   "outputs": [],
   "source": [
    "X_train, X_test, y_train, y_test = train_test_split(X,\n",
    "                                                    y,\n",
    "                                                    test_size=0.2,\n",
    "                                                    random_state=1)"
   ]
  },
  {
   "cell_type": "code",
   "execution_count": 33,
   "metadata": {
    "ExecuteTime": {
     "end_time": "2019-12-18T08:57:23.270140Z",
     "start_time": "2019-12-18T08:57:23.264027Z"
    }
   },
   "outputs": [
    {
     "data": {
      "text/plain": [
       "(63809,)"
      ]
     },
     "execution_count": 33,
     "metadata": {},
     "output_type": "execute_result"
    }
   ],
   "source": [
    "y_train.shape"
   ]
  },
  {
   "cell_type": "markdown",
   "metadata": {},
   "source": [
    "#### Running Models on data with NLP"
   ]
  },
  {
   "cell_type": "code",
   "execution_count": 34,
   "metadata": {
    "ExecuteTime": {
     "end_time": "2019-12-18T08:57:23.656013Z",
     "start_time": "2019-12-18T08:57:23.272236Z"
    }
   },
   "outputs": [],
   "source": [
    "#scaling data\n",
    "scaler = StandardScaler()\n",
    "X_train = scaler.fit_transform(X_train)\n",
    "X_test = scaler.transform(X_test)"
   ]
  },
  {
   "cell_type": "code",
   "execution_count": 35,
   "metadata": {
    "ExecuteTime": {
     "end_time": "2019-12-18T08:57:23.667969Z",
     "start_time": "2019-12-18T08:57:23.657792Z"
    }
   },
   "outputs": [],
   "source": [
    "#loading in logistic regression model\n",
    "log_reg_NLP = load('log_reg_postword.joblib')"
   ]
  },
  {
   "cell_type": "code",
   "execution_count": 36,
   "metadata": {
    "ExecuteTime": {
     "end_time": "2019-12-18T09:08:30.227048Z",
     "start_time": "2019-12-18T08:57:23.669988Z"
    }
   },
   "outputs": [
    {
     "name": "stdout",
     "output_type": "stream",
     "text": [
      "LogisticRegression\n",
      "cross validated scores- [0.71393873 0.70866635 0.71383796 0.7073897  0.71068098]\n",
      "mean of cross validated scores- 0.7109027445847826\n",
      "test score- 0.7172318686140537\n",
      "precision- 0.6283387622149837\n"
     ]
    }
   ],
   "source": [
    "model_fit_score(log_reg_NLP, X_train, y_train, X_test, y_test)\n",
    "#Can see not much improvement if any"
   ]
  },
  {
   "cell_type": "markdown",
   "metadata": {},
   "source": [
    "We can see that there is not much improvement if at all between the pre and post NLP models."
   ]
  },
  {
   "cell_type": "code",
   "execution_count": 37,
   "metadata": {
    "ExecuteTime": {
     "end_time": "2019-12-18T09:08:30.246924Z",
     "start_time": "2019-12-18T09:08:30.231550Z"
    }
   },
   "outputs": [],
   "source": [
    "#loading in random forest model\n",
    "rf_NLP = load('rand_forest_postwords.joblib')"
   ]
  },
  {
   "cell_type": "code",
   "execution_count": 38,
   "metadata": {
    "ExecuteTime": {
     "end_time": "2019-12-18T09:23:45.025092Z",
     "start_time": "2019-12-18T09:08:30.251742Z"
    }
   },
   "outputs": [
    {
     "name": "stdout",
     "output_type": "stream",
     "text": [
      "RandomForestClassifier\n",
      "cross validated scores- [0.77231059 0.76288983 0.76970694 0.76937544 0.76835671]\n",
      "mean of cross validated scores- 0.7685279019208175\n",
      "test score- 0.7713909609477841\n",
      "precision- 0.7456870910172516\n"
     ]
    }
   ],
   "source": [
    "model_fit_score(rf_NLP, X_train, y_train, X_test, y_test)"
   ]
  },
  {
   "cell_type": "code",
   "execution_count": 39,
   "metadata": {
    "ExecuteTime": {
     "end_time": "2019-12-18T09:23:45.296182Z",
     "start_time": "2019-12-18T09:23:45.035892Z"
    }
   },
   "outputs": [],
   "source": [
    "rf_NLP_feature_importances = pd.DataFrame({\n",
    "    'columns':\n",
    "    X.columns,\n",
    "    'importance':\n",
    "    rf_NLP.feature_importances_\n",
    "}).sort_values(by='importance', ascending=False)"
   ]
  },
  {
   "cell_type": "code",
   "execution_count": 40,
   "metadata": {
    "ExecuteTime": {
     "end_time": "2019-12-18T09:23:45.312223Z",
     "start_time": "2019-12-18T09:23:45.298115Z"
    }
   },
   "outputs": [
    {
     "data": {
      "text/html": [
       "<div>\n",
       "<style scoped>\n",
       "    .dataframe tbody tr th:only-of-type {\n",
       "        vertical-align: middle;\n",
       "    }\n",
       "\n",
       "    .dataframe tbody tr th {\n",
       "        vertical-align: top;\n",
       "    }\n",
       "\n",
       "    .dataframe thead th {\n",
       "        text-align: right;\n",
       "    }\n",
       "</style>\n",
       "<table border=\"1\" class=\"dataframe\">\n",
       "  <thead>\n",
       "    <tr style=\"text-align: right;\">\n",
       "      <th></th>\n",
       "      <th>columns</th>\n",
       "      <th>importance</th>\n",
       "    </tr>\n",
       "  </thead>\n",
       "  <tbody>\n",
       "    <tr>\n",
       "      <th>22</th>\n",
       "      <td>last_credit_pull_d</td>\n",
       "      <td>0.162278</td>\n",
       "    </tr>\n",
       "    <tr>\n",
       "      <th>21</th>\n",
       "      <td>total_rec_late_fee</td>\n",
       "      <td>0.025445</td>\n",
       "    </tr>\n",
       "    <tr>\n",
       "      <th>6</th>\n",
       "      <td>int_rate</td>\n",
       "      <td>0.021096</td>\n",
       "    </tr>\n",
       "    <tr>\n",
       "      <th>10</th>\n",
       "      <td>dti</td>\n",
       "      <td>0.020367</td>\n",
       "    </tr>\n",
       "    <tr>\n",
       "      <th>27</th>\n",
       "      <td>dti_joint</td>\n",
       "      <td>0.020300</td>\n",
       "    </tr>\n",
       "  </tbody>\n",
       "</table>\n",
       "</div>"
      ],
      "text/plain": [
       "               columns  importance\n",
       "22  last_credit_pull_d    0.162278\n",
       "21  total_rec_late_fee    0.025445\n",
       "6             int_rate    0.021096\n",
       "10                 dti    0.020367\n",
       "27           dti_joint    0.020300"
      ]
     },
     "execution_count": 40,
     "metadata": {},
     "output_type": "execute_result"
    }
   ],
   "source": [
    "rf_NLP_feature_importances.head()\n",
    "#still the same things are important"
   ]
  },
  {
   "cell_type": "code",
   "execution_count": 41,
   "metadata": {
    "ExecuteTime": {
     "end_time": "2019-12-18T09:23:46.031864Z",
     "start_time": "2019-12-18T09:23:45.328012Z"
    }
   },
   "outputs": [],
   "source": [
    "ad_model_NLP = load('ad_model_words.joblib')"
   ]
  },
  {
   "cell_type": "code",
   "execution_count": 42,
   "metadata": {
    "ExecuteTime": {
     "end_time": "2019-12-18T09:50:47.368580Z",
     "start_time": "2019-12-18T09:23:46.035633Z"
    }
   },
   "outputs": [
    {
     "name": "stdout",
     "output_type": "stream",
     "text": [
      "AdaBoostClassifier\n",
      "cross validated scores- [0.7940923  0.79274408 0.79368438 0.79680276 0.79398166]\n",
      "mean of cross validated scores- 0.7942610357643509\n",
      "test score- 0.7915752523036419\n",
      "precision- 0.7494944388270981\n"
     ]
    }
   ],
   "source": [
    "model_fit_score(ad_model_NLP, X_train, y_train, X_test, y_test)"
   ]
  },
  {
   "cell_type": "markdown",
   "metadata": {},
   "source": [
    "# Stacked Models"
   ]
  },
  {
   "cell_type": "markdown",
   "metadata": {},
   "source": [
    "First step in building a stacked model is to check if the base layer models predictions are correlated- if so there is not much point using a stacked model."
   ]
  },
  {
   "cell_type": "code",
   "execution_count": 43,
   "metadata": {
    "ExecuteTime": {
     "end_time": "2019-12-18T09:50:47.435764Z",
     "start_time": "2019-12-18T09:50:47.370882Z"
    }
   },
   "outputs": [],
   "source": [
    "predictions_df = pd.read_csv('predictions_for_heatmap.csv')"
   ]
  },
  {
   "cell_type": "code",
   "execution_count": 44,
   "metadata": {
    "ExecuteTime": {
     "end_time": "2019-12-18T09:50:48.132494Z",
     "start_time": "2019-12-18T09:50:47.438139Z"
    }
   },
   "outputs": [
    {
     "data": {
      "text/plain": [
       "(7.0, 0.0)"
      ]
     },
     "execution_count": 44,
     "metadata": {},
     "output_type": "execute_result"
    },
    {
     "data": {
      "image/png": "[encoded data removed]",
      "text/plain": [
       "<Figure size 432x288 with 2 Axes>"
      ]
     },
     "metadata": {
      "image/png": {
       "height": 325,
       "width": 416
      },
      "needs_background": "light"
     },
     "output_type": "display_data"
    }
   ],
   "source": [
    "fig, ax = plt.subplots()\n",
    "sns.heatmap(predictions_df.corr(), annot=True, ax=ax)\n",
    "plt.title('model predictions correlation')\n",
    "bottom, top = ax.get_ylim()\n",
    "ax.set_ylim(bottom + 0.5, top - 0.5)"
   ]
  },
  {
   "cell_type": "markdown",
   "metadata": {},
   "source": [
    "Explanation of stacking models-\n",
    "There are some really good posts about this technique around but in essence Stacking models is a way of combining a load of different models (the more uncorrelated the better) and then use another model to create a second layer prediction based on the original data and also the other model predictions. The hope is that the second layer model will see where the first layer models did badly and where they did well, thus smoothing out the wrinkles in the models. One example is from space missions. During space missions its really important that all signals are correct otherwise you could die, so the simplest solution around making sure there was very little chance of error was repetition-code. In practice this meant relaying a signal multiple times in equal chuncks and then having a majority vote on which one was correct. This can be extrapolated to machine learning models. Say for instance if we had three models and they all had 0.8 accuracy if we used majority voting the ensemble would have an accuracy of 0.9- can argue that the model is more robust. However not much point if they all preidct the same thing which means uncorrelated predictions are important. \n",
    "\n",
    "process for stacked generalization -\n",
    "split the training data\n",
    "fit first stage model on first bit of training data and create predictions for other bit\n",
    "do the reverse for the same model\n",
    "do this for however many models you want\n",
    "now train a second stage stacker model on predictions from first \n",
    "\n",
    "I have created a class that is basically an extension of an sk learn model that also does the above process as well.\n",
    "\n",
    "Some of the inspiration for the first layer predict function can be found here-\n",
    "https://github.com/emanuele/kaggle_pbr/blob/master/blend.py\n",
    "and\n",
    "https://www.kaggle.com/arthurtok/introduction-to-ensembling-stacking-in-python\n",
    "\n",
    "also one of the MLWave ones is very cool but a bit more complex \n",
    "https://github.com/MLWave/Kaggle-Ensemble-Guide/blob/master/src/blend_proba.py\n",
    "\n",
    "all of these were using depreciated functions and older code so here is a more up to date one\n",
    "https://www.analyticsvidhya.com/blog/2018/06/comprehensive-guide-for-ensemble-models/\n",
    "\n"
   ]
  },
  {
   "cell_type": "code",
   "execution_count": 45,
   "metadata": {
    "ExecuteTime": {
     "end_time": "2019-12-18T09:50:48.140561Z",
     "start_time": "2019-12-18T09:50:48.136085Z"
    }
   },
   "outputs": [],
   "source": [
    "kf = KFold(n_splits=5, random_state=1, shuffle=False)"
   ]
  },
  {
   "cell_type": "code",
   "execution_count": 46,
   "metadata": {
    "ExecuteTime": {
     "end_time": "2019-12-18T09:50:48.178040Z",
     "start_time": "2019-12-18T09:50:48.144006Z"
    }
   },
   "outputs": [],
   "source": [
    "class stacked_model():\n",
    "    #passthrough means that the second layer model uses the training data as well as the first layer predictions\n",
    "    #use probability means that the second layer model uses model.predict_proba() rather than predicting classes instead\n",
    "    def __init__(self,\n",
    "                 base_models,\n",
    "                 second_layer_model,\n",
    "                 use_probability=False,\n",
    "                 allow_passthrough=False):\n",
    "        self.base_models = base_models\n",
    "        self.second_layer_model = second_layer_model\n",
    "        self.use_probability = use_probability\n",
    "        self.allow_passthrough = allow_passthrough\n",
    "        self.first_layer_train_preds = None\n",
    "        self.first_layer_test_preds = None\n",
    "\n",
    "    #this function gets first level model predictions and stores them within the class object\n",
    "    def first_layer_predict(self, X_train, X_test, y_train):\n",
    "        '''get out of fold predictions from a model \n",
    "        for training set and test set'''\n",
    "\n",
    "        #creating array to fit all the first layer models predictions in\n",
    "        first_layer_training = np.zeros(\n",
    "            (X_train.shape[0], len(self.base_models)))\n",
    "        first_layer_test = np.zeros((X_test.shape[0], len(self.base_models)))\n",
    "\n",
    "        #this is for if we want to use prediction probabilities or the predicted classes for second layer model\n",
    "        if self.use_probability == False:\n",
    "\n",
    "            for ind, clf in enumerate(self.base_models):\n",
    "                #init what we are going to put our predictions into\n",
    "                #predictions on training set\n",
    "                oof_train = np.zeros((X_train.shape[0], ))\n",
    "                #predictions on test set\n",
    "                oof_test = np.zeros((X_test.shape[0], ))\n",
    "                #aggregating the predictions\n",
    "                oof_test_batch = np.empty((5, X_test.shape[0]))\n",
    "\n",
    "                #now going to loop over folds in our dataset and fit a model on the training data\n",
    "                #then we predict on the training set and the test set\n",
    "                for i, (train_index, test_index) in enumerate(\n",
    "                        kf.split(X_train, y_train.values)):\n",
    "\n",
    "                    #because x is a numpy array and y is a pandas series have to do iloc on y but not on x\n",
    "                    x_batch_train = X_train[train_index]\n",
    "                    y_batch_train = y_train.iloc[train_index]\n",
    "                    x_batch_test = X_train[test_index]\n",
    "\n",
    "                    #here we are training the classifier\n",
    "                    clf.fit(x_batch_train, y_batch_train)\n",
    "                    #to keep track of what stage of modeling we are at\n",
    "                    print(ind,i)\n",
    "\n",
    "                    #here we are training the classifier\n",
    "                    #storing predictions for the test batch of X_train (bit confusing terminology)\n",
    "                    oof_train[test_index] = clf.predict(x_batch_test)\n",
    "                    #storing predictions for X_test\n",
    "                    oof_test_batch[i, :] = clf.predict(X_test)\n",
    "                #aggregating the batches\n",
    "                oof_test[:] = oof_test_batch.mean(axis=0)\n",
    "                #reshaping so they are columns instead of rows -easier to put back into a dataframe\n",
    "                first_layer_training[:,\n",
    "                                     ind] = np.ravel(oof_train.reshape(-1, 1))\n",
    "                first_layer_test[:, ind] = np.ravel(oof_test.reshape(-1, 1))\n",
    "\n",
    "            #now putting all the predictions for the first layer into self so can use the second layer for predictions\n",
    "            if self.allow_passthrough == False:\n",
    "\n",
    "                self.first_layer_train_preds = first_layer_training\n",
    "                self.first_layer_test_preds = first_layer_test\n",
    "                return first_layer_training, first_layer_test\n",
    "\n",
    "            else:\n",
    "\n",
    "                first_layer_train_data = np.concatenate(\n",
    "                    (X_train, first_layer_training), axis=1)\n",
    "                first_layer_test_data = np.concatenate(\n",
    "                    (X_test, first_layer_test), axis=1)\n",
    "                self.first_layer_train_preds = first_layer_train_data\n",
    "                self.first_layer_test_preds = first_layer_test_data\n",
    "                \n",
    "\n",
    "        else:\n",
    "\n",
    "            for ind, clf in enumerate(self.base_models):\n",
    "                #init what we are going to put our predictions into\n",
    "                #predictions on training set\n",
    "                oof_train = np.zeros((X_train.shape[0], ))\n",
    "                #predictions on test set\n",
    "                oof_test = np.zeros((X_test.shape[0], ))\n",
    "                #aggregating the predictions\n",
    "                oof_test_batch = np.empty((5, X_test.shape[0]))\n",
    "\n",
    "                #now going to loop over folds in our dataset and fit a model on the training data\n",
    "                #then we predict on the training set and the test set\n",
    "                for i, (train_index, test_index) in enumerate(\n",
    "                        kf.split(X_train, y_train.values)):\n",
    "\n",
    "                    #because x is a numpy array and y is a pandas series have to do iloc on y but not on x\n",
    "                    x_batch_train = X_train[train_index]\n",
    "                    y_batch_train = y_train.iloc[train_index]\n",
    "                    x_batch_test = X_train[test_index]\n",
    "\n",
    "                    #here we are training the classifier\n",
    "                    clf.fit(x_batch_train, y_batch_train)\n",
    "                    #curious as to what scores my model is getting throughout\n",
    "                    print(ind,i)\n",
    "\n",
    "                    #here we are training the classifier\n",
    "                    #storing predictions for the test batch of X_train (bit confusing terminology)\n",
    "                    oof_train[test_index] = clf.predict_proba(x_batch_test)[:,\n",
    "                                                                            0]\n",
    "                    #storing predictions for X_test\n",
    "                    oof_test_batch[i, :] = clf.predict_proba(X_test)[:, 0]\n",
    "                #aggregating the batches\n",
    "                oof_test[:] = oof_test_batch.mean(axis=0)\n",
    "                #reshaping so they are columns instead of rows -easier to put back into a dataframe\n",
    "                first_layer_training[:,\n",
    "                                     ind] = np.ravel(oof_train.reshape(-1, 1))\n",
    "                first_layer_test[:, ind] = np.ravel(oof_test.reshape(-1, 1))\n",
    "\n",
    "            #now putting all the predictions for the first layer into self so can use the second layer for predictions\n",
    "            if self.allow_passthrough == False:\n",
    "\n",
    "                self.first_layer_train_preds = first_layer_training\n",
    "                self.first_layer_test_preds = first_layer_test\n",
    "                \n",
    "\n",
    "            else:\n",
    "\n",
    "                first_layer_train_data = np.concatenate(\n",
    "                    (X_train, first_layer_training), axis=1)\n",
    "                first_layer_test_data = np.concatenate(\n",
    "                    (X_test, first_layer_test), axis=1)\n",
    "                self.first_layer_train_preds = first_layer_train_data\n",
    "                self.first_layer_test_preds = first_layer_test_data\n",
    "                \n",
    "\n",
    "    #fits second layer model onto X_train predictions\n",
    "    def second_layer_fit(self, y_train):\n",
    "\n",
    "        self.second_layer_model.fit(self.first_layer_train_preds, y_train)\n",
    "\n",
    "    def get_first_layer_preds(self):\n",
    "        return self.first_layer_train_preds\n",
    "\n",
    "    #returns the cv scores and its mean for the model\n",
    "    def cv_score(self, X_train, y_train, cv=5, shuffle=False):\n",
    "\n",
    "        if X_train == None:\n",
    "            cv_scores = cross_val_score(self.second_layer_model,\n",
    "                                        self.first_layer_train_preds,\n",
    "                                        y_train,\n",
    "                                        cv=cv,\n",
    "                                        shuffle=shuffle)\n",
    "            return cv_scores, cv_scores.mean()\n",
    "        else:\n",
    "            cv_scores = cross_val_score(self.second_layer_model,\n",
    "                                        X_train,\n",
    "                                        y_train,\n",
    "                                        cv=cv,\n",
    "                                        shuffle=shuffle)\n",
    "            return cv_scores, cv_scores.mean()\n",
    "\n",
    "    #same as sklearn version basically\n",
    "    def score(self, X, y):\n",
    "\n",
    "        if X == 'train':\n",
    "            return self.second_layer_model.score(self.first_layer_train_preds,\n",
    "                                                 y)\n",
    "\n",
    "        if X == 'test':\n",
    "            return self.second_layer_model.score(self.first_layer_test_preds,\n",
    "                                                 y)\n",
    "        else:\n",
    "            return self.second_layer_model.score(X, y)\n",
    "\n",
    "    def predict(self, X='train'):\n",
    "\n",
    "        if X == 'train':\n",
    "            return self.second_layer_model.predict(\n",
    "                self.first_layer_train_preds)\n",
    "\n",
    "        if X == 'test':\n",
    "            return self.second_layer_model.predict(self.first_layer_test_preds)\n",
    "\n",
    "        else:\n",
    "            return self.second_layer_model.predict(X)\n",
    "\n",
    "    def predict_probs(self, X):\n",
    "        return self.second_layer_model.predict_proba(X)\n",
    "\n",
    "    def get_features(self):\n",
    "        return self.second_layer_model.feature_importances_"
   ]
  },
  {
   "cell_type": "code",
   "execution_count": 47,
   "metadata": {
    "ExecuteTime": {
     "end_time": "2019-12-18T09:50:48.277181Z",
     "start_time": "2019-12-18T09:50:48.181428Z"
    }
   },
   "outputs": [],
   "source": [
    "#initializing the models used for the stacked model\n",
    "\n",
    "neigh = KNeighborsClassifier(n_neighbors=140, n_jobs=3)\n",
    "\n",
    "rf_ent = RandomForestClassifier(n_estimators=800,\n",
    "                                random_state=1,\n",
    "                                min_samples_leaf=2,\n",
    "                                criterion='entropy')\n",
    "\n",
    "rf = RandomForestClassifier(n_estimators=800,\n",
    "                            random_state=1,\n",
    "                            min_samples_leaf=2)\n",
    "\n",
    "ad_model = AdaBoostClassifier(n_estimators=1000,\n",
    "                              learning_rate=0.1,\n",
    "                              random_state=1)\n",
    "\n",
    "log_reg = LogisticRegression(C=4.281332398719396,\n",
    "                             penalty='l2',\n",
    "                             solver='saga',\n",
    "                             max_iter=10000,\n",
    "                             random_state=1)\n",
    "\n",
    "xtra_trees = ExtraTreesClassifier(800, random_state=1)\n",
    "\n",
    "xg_reg = xgb.XGBClassifier(objective='reg:logistic',\n",
    "                           colsample_bytree=0.3,\n",
    "                           learning_rate=0.01,\n",
    "                           max_depth=2,\n",
    "                           min_child_weight=4,\n",
    "                           gamma=0.1,\n",
    "                           n_estimators=800)\n",
    "\n",
    "xg_test = xgb.XGBClassifier(learning_rate=0.08,\n",
    "                            n_estimators=1500,\n",
    "                            max_depth=3,\n",
    "                            min_child_weight=1,\n",
    "                            gamma=0.6,\n",
    "                            subsample=0.4,\n",
    "                            colsample_bytree=0.8,\n",
    "                            objective='binary:logistic',\n",
    "                            nthread=4,\n",
    "                            scale_pos_weight=1,\n",
    "                            reg_alpha=0.0001,\n",
    "                            eval_metric='error')"
   ]
  },
  {
   "cell_type": "code",
   "execution_count": 48,
   "metadata": {
    "ExecuteTime": {
     "end_time": "2019-12-18T11:28:17.509095Z",
     "start_time": "2019-12-18T09:50:48.279298Z"
    },
    "scrolled": true
   },
   "outputs": [
    {
     "name": "stdout",
     "output_type": "stream",
     "text": [
      "0 0\n",
      "0 1\n",
      "0 2\n",
      "0 3\n",
      "0 4\n",
      "1 0\n",
      "1 1\n",
      "1 2\n",
      "1 3\n",
      "1 4\n",
      "2 0\n",
      "2 1\n",
      "2 2\n",
      "2 3\n",
      "2 4\n",
      "3 0\n",
      "3 1\n",
      "3 2\n",
      "3 3\n",
      "3 4\n",
      "4 0\n",
      "4 1\n",
      "4 2\n",
      "4 3\n",
      "4 4\n",
      "5 0\n",
      "5 1\n",
      "5 2\n",
      "5 3\n",
      "5 4\n",
      "6 0\n",
      "6 1\n",
      "6 2\n",
      "6 3\n",
      "6 4\n"
     ]
    }
   ],
   "source": [
    "#creating list of models that the stacked model is going to use\n",
    "model_list = [neigh, rf_ent, rf, ad_model, log_reg, xtra_trees, xg_reg]\n",
    "\n",
    "#I included a print statement so could see how far along the function was\n",
    "stacked_classifier = stacked_model(base_models=model_list,\n",
    "                                   second_layer_model=xg_test,\n",
    "                                   use_probability=False,\n",
    "                                   allow_passthrough=True)\n",
    "stacked_classifier.first_layer_predict(X_train, X_test, y_train)"
   ]
  },
  {
   "cell_type": "code",
   "execution_count": 49,
   "metadata": {
    "ExecuteTime": {
     "end_time": "2019-12-18T11:38:55.940896Z",
     "start_time": "2019-12-18T11:28:17.525805Z"
    }
   },
   "outputs": [],
   "source": [
    "stacked_classifier.second_layer_fit(y_train)"
   ]
  },
  {
   "cell_type": "code",
   "execution_count": 50,
   "metadata": {
    "ExecuteTime": {
     "end_time": "2019-12-18T11:38:59.005383Z",
     "start_time": "2019-12-18T11:38:55.945114Z"
    }
   },
   "outputs": [
    {
     "data": {
      "text/plain": [
       "0.8304627873810905"
      ]
     },
     "execution_count": 50,
     "metadata": {},
     "output_type": "execute_result"
    }
   ],
   "source": [
    "stacked_classifier.score(X='train', y=y_train)"
   ]
  },
  {
   "cell_type": "code",
   "execution_count": 51,
   "metadata": {
    "ExecuteTime": {
     "end_time": "2019-12-18T11:38:59.806694Z",
     "start_time": "2019-12-18T11:38:59.007618Z"
    }
   },
   "outputs": [
    {
     "data": {
      "text/plain": [
       "0.7948975114398545"
      ]
     },
     "execution_count": 51,
     "metadata": {},
     "output_type": "execute_result"
    }
   ],
   "source": [
    "stacked_classifier.score(X='test', y=y_test)"
   ]
  },
  {
   "cell_type": "code",
   "execution_count": 52,
   "metadata": {
    "ExecuteTime": {
     "end_time": "2019-12-18T11:38:59.822678Z",
     "start_time": "2019-12-18T11:38:59.812438Z"
    }
   },
   "outputs": [],
   "source": [
    "first_layer_predictions = stacked_classifier.get_first_layer_preds()"
   ]
  },
  {
   "cell_type": "code",
   "execution_count": 54,
   "metadata": {
    "ExecuteTime": {
     "end_time": "2019-12-18T11:39:32.905540Z",
     "start_time": "2019-12-18T11:39:32.830097Z"
    }
   },
   "outputs": [
    {
     "name": "stderr",
     "output_type": "stream",
     "text": [
      "//anaconda3/lib/python3.7/site-packages/xgboost/core.py:587: FutureWarning: Series.base is deprecated and will be removed in a future version\n",
      "  if getattr(data, 'base', None) is not None and \\\n"
     ]
    }
   ],
   "source": [
    "#putting my data into a matrix to allow for cross validation\n",
    "training_matrix = xgb.DMatrix(data=first_layer_predictions, label=y_train)"
   ]
  },
  {
   "cell_type": "code",
   "execution_count": 55,
   "metadata": {
    "ExecuteTime": {
     "end_time": "2019-12-18T11:39:33.595286Z",
     "start_time": "2019-12-18T11:39:33.589609Z"
    }
   },
   "outputs": [],
   "source": [
    "param_dict = {\n",
    "    'learning_rate': 0.1,\n",
    "    'n_estimators': 1000,\n",
    "    'max_depth': 6,\n",
    "    'min_child_weight': 1,\n",
    "    'gamma': 0.5,\n",
    "    'subsample': 0.8,\n",
    "    'colsample_bytree': 0.8,\n",
    "    'objective': 'binary:logistic',\n",
    "    'nthread': 4,\n",
    "    'scale_pos_weight': 1,\n",
    "    'seed': 27,\n",
    "    'reg_alpha': 0.0001,\n",
    "    'eval_metric': 'error',\n",
    "}"
   ]
  },
  {
   "cell_type": "code",
   "execution_count": 56,
   "metadata": {
    "ExecuteTime": {
     "end_time": "2019-12-18T11:52:45.829190Z",
     "start_time": "2019-12-18T11:39:34.199656Z"
    }
   },
   "outputs": [],
   "source": [
    "cv_results = xgb.cv(dtrain=training_matrix,\n",
    "                    params=param_dict,\n",
    "                    nfold=5,\n",
    "                    num_boost_round=1000,\n",
    "                    early_stopping_rounds=200,\n",
    "                    metrics=\"error\",\n",
    "                    as_pandas=True,\n",
    "                    seed=123)"
   ]
  },
  {
   "cell_type": "code",
   "execution_count": 57,
   "metadata": {
    "ExecuteTime": {
     "end_time": "2019-12-18T11:52:45.889686Z",
     "start_time": "2019-12-18T11:52:45.834909Z"
    }
   },
   "outputs": [
    {
     "data": {
      "text/html": [
       "<div>\n",
       "<style scoped>\n",
       "    .dataframe tbody tr th:only-of-type {\n",
       "        vertical-align: middle;\n",
       "    }\n",
       "\n",
       "    .dataframe tbody tr th {\n",
       "        vertical-align: top;\n",
       "    }\n",
       "\n",
       "    .dataframe thead th {\n",
       "        text-align: right;\n",
       "    }\n",
       "</style>\n",
       "<table border=\"1\" class=\"dataframe\">\n",
       "  <thead>\n",
       "    <tr style=\"text-align: right;\">\n",
       "      <th></th>\n",
       "      <th>train-error-mean</th>\n",
       "      <th>train-error-std</th>\n",
       "      <th>test-error-mean</th>\n",
       "      <th>test-error-std</th>\n",
       "    </tr>\n",
       "  </thead>\n",
       "  <tbody>\n",
       "    <tr>\n",
       "      <th>66</th>\n",
       "      <td>0.186906</td>\n",
       "      <td>0.000715</td>\n",
       "      <td>0.201727</td>\n",
       "      <td>0.001468</td>\n",
       "    </tr>\n",
       "    <tr>\n",
       "      <th>67</th>\n",
       "      <td>0.186572</td>\n",
       "      <td>0.000521</td>\n",
       "      <td>0.201680</td>\n",
       "      <td>0.001531</td>\n",
       "    </tr>\n",
       "    <tr>\n",
       "      <th>68</th>\n",
       "      <td>0.186349</td>\n",
       "      <td>0.000537</td>\n",
       "      <td>0.201727</td>\n",
       "      <td>0.001473</td>\n",
       "    </tr>\n",
       "    <tr>\n",
       "      <th>69</th>\n",
       "      <td>0.186196</td>\n",
       "      <td>0.000610</td>\n",
       "      <td>0.201790</td>\n",
       "      <td>0.001569</td>\n",
       "    </tr>\n",
       "    <tr>\n",
       "      <th>70</th>\n",
       "      <td>0.185942</td>\n",
       "      <td>0.000528</td>\n",
       "      <td>0.201602</td>\n",
       "      <td>0.001771</td>\n",
       "    </tr>\n",
       "  </tbody>\n",
       "</table>\n",
       "</div>"
      ],
      "text/plain": [
       "    train-error-mean  train-error-std  test-error-mean  test-error-std\n",
       "66          0.186906         0.000715         0.201727        0.001468\n",
       "67          0.186572         0.000521         0.201680        0.001531\n",
       "68          0.186349         0.000537         0.201727        0.001473\n",
       "69          0.186196         0.000610         0.201790        0.001569\n",
       "70          0.185942         0.000528         0.201602        0.001771"
      ]
     },
     "execution_count": 57,
     "metadata": {},
     "output_type": "execute_result"
    }
   ],
   "source": [
    "cv_results.tail()"
   ]
  },
  {
   "cell_type": "code",
   "execution_count": 58,
   "metadata": {
    "ExecuteTime": {
     "end_time": "2019-12-18T11:52:46.012410Z",
     "start_time": "2019-12-18T11:52:45.895651Z"
    }
   },
   "outputs": [
    {
     "data": {
      "text/html": [
       "<div>\n",
       "<style scoped>\n",
       "    .dataframe tbody tr th:only-of-type {\n",
       "        vertical-align: middle;\n",
       "    }\n",
       "\n",
       "    .dataframe tbody tr th {\n",
       "        vertical-align: top;\n",
       "    }\n",
       "\n",
       "    .dataframe thead th {\n",
       "        text-align: right;\n",
       "    }\n",
       "</style>\n",
       "<table border=\"1\" class=\"dataframe\">\n",
       "  <thead>\n",
       "    <tr style=\"text-align: right;\">\n",
       "      <th></th>\n",
       "      <th>models</th>\n",
       "      <th>model_importance as second level features</th>\n",
       "    </tr>\n",
       "  </thead>\n",
       "  <tbody>\n",
       "    <tr>\n",
       "      <th>0</th>\n",
       "      <td>rf_entropy</td>\n",
       "      <td>0.002881</td>\n",
       "    </tr>\n",
       "    <tr>\n",
       "      <th>1</th>\n",
       "      <td>rf_normal</td>\n",
       "      <td>0.015996</td>\n",
       "    </tr>\n",
       "    <tr>\n",
       "      <th>2</th>\n",
       "      <td>ada_boost</td>\n",
       "      <td>0.011807</td>\n",
       "    </tr>\n",
       "    <tr>\n",
       "      <th>3</th>\n",
       "      <td>logistic_regression</td>\n",
       "      <td>0.263981</td>\n",
       "    </tr>\n",
       "    <tr>\n",
       "      <th>4</th>\n",
       "      <td>extra_trees</td>\n",
       "      <td>0.020832</td>\n",
       "    </tr>\n",
       "    <tr>\n",
       "      <th>5</th>\n",
       "      <td>knn</td>\n",
       "      <td>0.006880</td>\n",
       "    </tr>\n",
       "    <tr>\n",
       "      <th>6</th>\n",
       "      <td>xgboost</td>\n",
       "      <td>0.092323</td>\n",
       "    </tr>\n",
       "  </tbody>\n",
       "</table>\n",
       "</div>"
      ],
      "text/plain": [
       "                models  model_importance as second level features\n",
       "0           rf_entropy                                   0.002881\n",
       "1            rf_normal                                   0.015996\n",
       "2            ada_boost                                   0.011807\n",
       "3  logistic_regression                                   0.263981\n",
       "4          extra_trees                                   0.020832\n",
       "5                  knn                                   0.006880\n",
       "6              xgboost                                   0.092323"
      ]
     },
     "execution_count": 58,
     "metadata": {},
     "output_type": "execute_result"
    }
   ],
   "source": [
    "#highlighting the first level model importances to the second level model\n",
    "model_importances = pd.DataFrame({\n",
    "    'models': [\n",
    "        'rf_entropy', 'rf_normal', 'ada_boost', 'logistic_regression',\n",
    "        'extra_trees', 'knn', 'xgboost'\n",
    "    ],\n",
    "    'model_importance as second level features':\n",
    "    stacked_classifier.get_features()[-7:]\n",
    "})\n",
    "\n",
    "model_importances"
   ]
  },
  {
   "cell_type": "markdown",
   "metadata": {},
   "source": [
    "#### Stacking using probabilities"
   ]
  },
  {
   "cell_type": "markdown",
   "metadata": {},
   "source": [
    "After trying to use purely class predictions from the first level models, I went on to use the class prediction probabilities from the first layer of models to see if it would improve the accuracy scores."
   ]
  },
  {
   "cell_type": "code",
   "execution_count": 59,
   "metadata": {
    "ExecuteTime": {
     "end_time": "2019-12-18T13:28:12.651907Z",
     "start_time": "2019-12-18T11:52:46.014512Z"
    },
    "scrolled": true
   },
   "outputs": [
    {
     "name": "stdout",
     "output_type": "stream",
     "text": [
      "0 0\n",
      "0 1\n",
      "0 2\n",
      "0 3\n",
      "0 4\n",
      "1 0\n",
      "1 1\n",
      "1 2\n",
      "1 3\n",
      "1 4\n",
      "2 0\n",
      "2 1\n",
      "2 2\n",
      "2 3\n",
      "2 4\n",
      "3 0\n",
      "3 1\n",
      "3 2\n",
      "3 3\n",
      "3 4\n",
      "4 0\n",
      "4 1\n",
      "4 2\n",
      "4 3\n",
      "4 4\n",
      "5 0\n",
      "5 1\n",
      "5 2\n",
      "5 3\n",
      "5 4\n",
      "6 0\n",
      "6 1\n",
      "6 2\n",
      "6 3\n",
      "6 4\n"
     ]
    }
   ],
   "source": [
    "stacked_probability = stacked_model(base_models=model_list,\n",
    "                                    second_layer_model=xg_test,\n",
    "                                    use_probability=True,\n",
    "                                    allow_passthrough=True)\n",
    "stacked_probability.first_layer_predict(X_train, X_test, y_train)"
   ]
  },
  {
   "cell_type": "code",
   "execution_count": 60,
   "metadata": {
    "ExecuteTime": {
     "end_time": "2019-12-18T13:39:00.394533Z",
     "start_time": "2019-12-18T13:28:12.662338Z"
    }
   },
   "outputs": [],
   "source": [
    "stacked_probability.second_layer_fit(y_train)"
   ]
  },
  {
   "cell_type": "code",
   "execution_count": 61,
   "metadata": {
    "ExecuteTime": {
     "end_time": "2019-12-18T13:39:03.606515Z",
     "start_time": "2019-12-18T13:39:00.396321Z"
    }
   },
   "outputs": [
    {
     "data": {
      "text/plain": [
       "0.8301806955131721"
      ]
     },
     "execution_count": 61,
     "metadata": {},
     "output_type": "execute_result"
    }
   ],
   "source": [
    "stacked_probability.score(X='train', y=y_train)"
   ]
  },
  {
   "cell_type": "code",
   "execution_count": 62,
   "metadata": {
    "ExecuteTime": {
     "end_time": "2019-12-18T13:39:04.405678Z",
     "start_time": "2019-12-18T13:39:03.608766Z"
    }
   },
   "outputs": [
    {
     "data": {
      "text/plain": [
       "0.794709459035918"
      ]
     },
     "execution_count": 62,
     "metadata": {},
     "output_type": "execute_result"
    }
   ],
   "source": [
    "stacked_probability.score(X='test', y=y_test)"
   ]
  },
  {
   "cell_type": "code",
   "execution_count": 63,
   "metadata": {
    "ExecuteTime": {
     "end_time": "2019-12-18T13:39:04.423769Z",
     "start_time": "2019-12-18T13:39:04.414441Z"
    }
   },
   "outputs": [],
   "source": [
    "first_layer_predictions_proba = stacked_probability.get_first_layer_preds()"
   ]
  },
  {
   "cell_type": "code",
   "execution_count": 64,
   "metadata": {
    "ExecuteTime": {
     "end_time": "2019-12-18T13:39:04.623201Z",
     "start_time": "2019-12-18T13:39:04.426428Z"
    }
   },
   "outputs": [
    {
     "name": "stderr",
     "output_type": "stream",
     "text": [
      "//anaconda3/lib/python3.7/site-packages/xgboost/core.py:587: FutureWarning: Series.base is deprecated and will be removed in a future version\n",
      "  if getattr(data, 'base', None) is not None and \\\n"
     ]
    }
   ],
   "source": [
    "#creating training matrix for xg boost cv\n",
    "prob_training_matrix = xgb.DMatrix(data=first_layer_predictions_proba,\n",
    "                                   label=y_train)"
   ]
  },
  {
   "cell_type": "code",
   "execution_count": 65,
   "metadata": {
    "ExecuteTime": {
     "end_time": "2019-12-18T13:51:05.933797Z",
     "start_time": "2019-12-18T13:39:04.625730Z"
    }
   },
   "outputs": [],
   "source": [
    "#running xgboost cross validation\n",
    "cv_results_probs = xgb.cv(dtrain=prob_training_matrix,\n",
    "                          params=param_dict,\n",
    "                          nfold=5,\n",
    "                          num_boost_round=1500,\n",
    "                          early_stopping_rounds=200,\n",
    "                          metrics=\"error\",\n",
    "                          as_pandas=True,\n",
    "                          seed=123)"
   ]
  },
  {
   "cell_type": "code",
   "execution_count": 66,
   "metadata": {
    "ExecuteTime": {
     "end_time": "2019-12-18T13:51:05.956741Z",
     "start_time": "2019-12-18T13:51:05.938104Z"
    }
   },
   "outputs": [
    {
     "data": {
      "text/html": [
       "<div>\n",
       "<style scoped>\n",
       "    .dataframe tbody tr th:only-of-type {\n",
       "        vertical-align: middle;\n",
       "    }\n",
       "\n",
       "    .dataframe tbody tr th {\n",
       "        vertical-align: top;\n",
       "    }\n",
       "\n",
       "    .dataframe thead th {\n",
       "        text-align: right;\n",
       "    }\n",
       "</style>\n",
       "<table border=\"1\" class=\"dataframe\">\n",
       "  <thead>\n",
       "    <tr style=\"text-align: right;\">\n",
       "      <th></th>\n",
       "      <th>train-error-mean</th>\n",
       "      <th>train-error-std</th>\n",
       "      <th>test-error-mean</th>\n",
       "      <th>test-error-std</th>\n",
       "    </tr>\n",
       "  </thead>\n",
       "  <tbody>\n",
       "    <tr>\n",
       "      <th>41</th>\n",
       "      <td>0.190541</td>\n",
       "      <td>0.000702</td>\n",
       "      <td>0.201868</td>\n",
       "      <td>0.002569</td>\n",
       "    </tr>\n",
       "    <tr>\n",
       "      <th>42</th>\n",
       "      <td>0.190439</td>\n",
       "      <td>0.000568</td>\n",
       "      <td>0.201884</td>\n",
       "      <td>0.002635</td>\n",
       "    </tr>\n",
       "    <tr>\n",
       "      <th>43</th>\n",
       "      <td>0.190154</td>\n",
       "      <td>0.000642</td>\n",
       "      <td>0.201649</td>\n",
       "      <td>0.002472</td>\n",
       "    </tr>\n",
       "    <tr>\n",
       "      <th>44</th>\n",
       "      <td>0.190118</td>\n",
       "      <td>0.000714</td>\n",
       "      <td>0.201539</td>\n",
       "      <td>0.002780</td>\n",
       "    </tr>\n",
       "    <tr>\n",
       "      <th>45</th>\n",
       "      <td>0.190036</td>\n",
       "      <td>0.000683</td>\n",
       "      <td>0.201508</td>\n",
       "      <td>0.002765</td>\n",
       "    </tr>\n",
       "  </tbody>\n",
       "</table>\n",
       "</div>"
      ],
      "text/plain": [
       "    train-error-mean  train-error-std  test-error-mean  test-error-std\n",
       "41          0.190541         0.000702         0.201868        0.002569\n",
       "42          0.190439         0.000568         0.201884        0.002635\n",
       "43          0.190154         0.000642         0.201649        0.002472\n",
       "44          0.190118         0.000714         0.201539        0.002780\n",
       "45          0.190036         0.000683         0.201508        0.002765"
      ]
     },
     "execution_count": 66,
     "metadata": {},
     "output_type": "execute_result"
    }
   ],
   "source": [
    "#getting xgboost cross validation scores\n",
    "cv_results_probs.tail()"
   ]
  },
  {
   "cell_type": "markdown",
   "metadata": {},
   "source": [
    "Overall it can be argued that using pure predictions rather than prediction probabilities for the first level models turns out to have better results, with a better cv score and also a better test score. However I feel as though there is scope for improvement within the probability model which I will pursue at a later date."
   ]
  },
  {
   "cell_type": "markdown",
   "metadata": {},
   "source": [
    "## Evaluation of the Models"
   ]
  },
  {
   "cell_type": "markdown",
   "metadata": {},
   "source": [
    "In this section of the project I am going to evaluate our models further using confusion matrices and ROC curves. Additionally I am going to change the threshold prediction probability needed to predict a bad loan so to incease the precision of the model. This is explained in more detail below."
   ]
  },
  {
   "cell_type": "markdown",
   "metadata": {},
   "source": [
    "### Stacked Model Evaluation"
   ]
  },
  {
   "cell_type": "code",
   "execution_count": 86,
   "metadata": {
    "ExecuteTime": {
     "end_time": "2019-12-18T14:50:23.515373Z",
     "start_time": "2019-12-18T14:50:23.494404Z"
    }
   },
   "outputs": [],
   "source": [
    "X_test_first_layer_preds = stacked_classifier.first_layer_test_preds"
   ]
  },
  {
   "cell_type": "code",
   "execution_count": 105,
   "metadata": {
    "ExecuteTime": {
     "end_time": "2019-12-18T14:51:36.572203Z",
     "start_time": "2019-12-18T14:51:36.305081Z"
    }
   },
   "outputs": [],
   "source": [
    "X_all = np.concatenate(\n",
    "    (first_layer_predictions, X_test_first_layer_preds))"
   ]
  },
  {
   "cell_type": "code",
   "execution_count": 106,
   "metadata": {
    "ExecuteTime": {
     "end_time": "2019-12-18T14:51:40.617816Z",
     "start_time": "2019-12-18T14:51:37.056132Z"
    }
   },
   "outputs": [],
   "source": [
    "#getting the probabilities so we can plot the roc and precision recall curves\n",
    "stacked_probabilities = stacked_classifier.predict_probs(X_all)"
   ]
  },
  {
   "cell_type": "code",
   "execution_count": 107,
   "metadata": {
    "ExecuteTime": {
     "end_time": "2019-12-18T14:51:40.627649Z",
     "start_time": "2019-12-18T14:51:40.620311Z"
    }
   },
   "outputs": [],
   "source": [
    "Y_pp = pd.DataFrame(stacked_probabilities,\n",
    "                    columns=['class_0_pp', 'class_1_pp'])"
   ]
  },
  {
   "cell_type": "code",
   "execution_count": 108,
   "metadata": {
    "ExecuteTime": {
     "end_time": "2019-12-18T14:51:41.167681Z",
     "start_time": "2019-12-18T14:51:40.630541Z"
    }
   },
   "outputs": [
    {
     "data": {
      "image/png": "[encoded data removed]",
      "text/plain": [
       "<Figure size 432x432 with 1 Axes>"
      ]
     },
     "metadata": {
      "image/png": {
       "height": 397,
       "width": 401
      },
      "needs_background": "light"
     },
     "output_type": "display_data"
    }
   ],
   "source": [
    "fpr, tpr, threshold = roc_curve(np.concatenate((y_train, y_test)),\n",
    "                                Y_pp.class_1_pp)\n",
    "roc_auc = auc(fpr, tpr)\n",
    "\n",
    "# Plot of a ROC curve for class 1\n",
    "plt.figure(figsize=[6, 6])\n",
    "plt.plot(fpr, tpr, label='ROC curve (area = %0.2f)' % roc_auc, linewidth=4)\n",
    "plt.plot([0, 1], [0, 1], 'k--', linewidth=4)\n",
    "plt.xlim([-0.05, 1.0])\n",
    "plt.ylim([-0.05, 1.05])\n",
    "plt.xlabel('False Positive Rate', fontsize=18)\n",
    "plt.ylabel('True Positive Rate', fontsize=18)\n",
    "plt.title('ROC curve for Stacked Model', fontsize=18)\n",
    "plt.legend(loc=\"lower right\")\n",
    "plt.show()"
   ]
  },
  {
   "cell_type": "markdown",
   "metadata": {},
   "source": [
    "A ROC curve tells us about how good our model can classify loans and the trade off between recall and specificity when changing the prediciton probability threshold. True positive rate is calculated as the number of true positives over the number of true positives and false negatives. False positive rate on the other had is calculated as the number of false positives divided by the sum of false positives and true negatives. In this case the area under the curve is high which is a good indication that the model is worth something."
   ]
  },
  {
   "cell_type": "code",
   "execution_count": 109,
   "metadata": {
    "ExecuteTime": {
     "end_time": "2019-12-18T14:51:43.684947Z",
     "start_time": "2019-12-18T14:51:43.396806Z"
    }
   },
   "outputs": [
    {
     "data": {
      "image/png": "[encoded data removed]",
      "text/plain": [
       "<Figure size 576x432 with 1 Axes>"
      ]
     },
     "metadata": {
      "image/png": {
       "height": 397,
       "width": 520
      },
      "needs_background": "light"
     },
     "output_type": "display_data"
    }
   ],
   "source": [
    "cmap = ListedColormap(sns.color_palette(\"husl\", 3))\n",
    "\n",
    "\n",
    "def plot_f1_lines(figsize=(8, 6), fontsize=16):\n",
    "    '''Create f1-score level lines to be added to \n",
    "        the precison-recall plot'''\n",
    "\n",
    "    fig, ax = plt.subplots(figsize=figsize)\n",
    "\n",
    "    # add lines of constant F1 scores\n",
    "\n",
    "    for const in np.linspace(0.2, 0.9, 8):\n",
    "        x_vals = np.linspace(0.001, 0.999, 100)\n",
    "        y_vals = 1. / (2. / const - 1. / x_vals)\n",
    "        ax.plot(x_vals[y_vals > 0],\n",
    "                y_vals[y_vals > 0],\n",
    "                color='lightblue',\n",
    "                ls='--',\n",
    "                alpha=0.9)\n",
    "        ax.set_ylim([0, 1])\n",
    "        ax.annotate('f1={0:0.1f}'.format(const),\n",
    "                    xy=(x_vals[-10], y_vals[-2] + 0.0),\n",
    "                    fontsize=fontsize)\n",
    "\n",
    "    return fig, ax\n",
    "\n",
    "\n",
    "fig, ax = plot_f1_lines()\n",
    "\n",
    "precision, recall, threshold = precision_recall_curve(\n",
    "    np.concatenate((y_train, y_test)), Y_pp.class_1_pp)\n",
    "\n",
    "ax.plot(recall, precision, label='Precision-recall curve', linewidth=4)\n",
    "plt.xlim([-0.05, 1.0])\n",
    "plt.ylim([-0.05, 1.05])\n",
    "plt.xlabel('Recall', fontsize=18)\n",
    "plt.ylabel('Precision', fontsize=18)\n",
    "plt.title('Precision-Recall curve', fontsize=18)\n",
    "plt.legend(loc=\"lower right\")\n",
    "plt.show()"
   ]
  },
  {
   "cell_type": "markdown",
   "metadata": {},
   "source": [
    "Precision- Recall curve indicates the trade off between the true positive rate and the positive predictive value for a predictive model using different probability thresholds. Precision is the ratio of true positives divided by the sum of true positives and false positives. I have also plotted F1 lines onto the graph- the F1 score is the harmonic mean of precision and recall. It's harmonic because the precision and recall are ratios."
   ]
  },
  {
   "cell_type": "code",
   "execution_count": 110,
   "metadata": {
    "ExecuteTime": {
     "end_time": "2019-12-18T14:51:47.547798Z",
     "start_time": "2019-12-18T14:51:43.942645Z"
    }
   },
   "outputs": [
    {
     "name": "stderr",
     "output_type": "stream",
     "text": [
      "//anaconda3/lib/python3.7/site-packages/ipykernel_launcher.py:179: FutureWarning: elementwise comparison failed; returning scalar instead, but in the future will perform elementwise comparison\n",
      "//anaconda3/lib/python3.7/site-packages/ipykernel_launcher.py:183: FutureWarning: elementwise comparison failed; returning scalar instead, but in the future will perform elementwise comparison\n"
     ]
    }
   ],
   "source": [
    "#getting the class predictions for the confusion matrix\n",
    "stacked_predictions = stacked_probability.predict(X_all)"
   ]
  },
  {
   "cell_type": "code",
   "execution_count": 111,
   "metadata": {
    "ExecuteTime": {
     "end_time": "2019-12-18T14:51:47.629772Z",
     "start_time": "2019-12-18T14:51:47.550358Z"
    }
   },
   "outputs": [
    {
     "data": {
      "text/html": [
       "<div>\n",
       "<style scoped>\n",
       "    .dataframe tbody tr th:only-of-type {\n",
       "        vertical-align: middle;\n",
       "    }\n",
       "\n",
       "    .dataframe tbody tr th {\n",
       "        vertical-align: top;\n",
       "    }\n",
       "\n",
       "    .dataframe thead th {\n",
       "        text-align: right;\n",
       "    }\n",
       "</style>\n",
       "<table border=\"1\" class=\"dataframe\">\n",
       "  <thead>\n",
       "    <tr style=\"text-align: right;\">\n",
       "      <th></th>\n",
       "      <th>predicted_good</th>\n",
       "      <th>predicted_bad</th>\n",
       "    </tr>\n",
       "  </thead>\n",
       "  <tbody>\n",
       "    <tr>\n",
       "      <th>is_good</th>\n",
       "      <td>5432</td>\n",
       "      <td>47603</td>\n",
       "    </tr>\n",
       "    <tr>\n",
       "      <th>is_bad</th>\n",
       "      <td>15349</td>\n",
       "      <td>11378</td>\n",
       "    </tr>\n",
       "  </tbody>\n",
       "</table>\n",
       "</div>"
      ],
      "text/plain": [
       "         predicted_good  predicted_bad\n",
       "is_good            5432          47603\n",
       "is_bad            15349          11378"
      ]
     },
     "execution_count": 111,
     "metadata": {},
     "output_type": "execute_result"
    }
   ],
   "source": [
    "#creating an initial confusion matrix\n",
    "confusion1 = confusion_matrix(np.concatenate((y_train, y_test)),\n",
    "                              stacked_predictions)\n",
    "confusion_df = pd.DataFrame(confusion1,\n",
    "                            index=['is_good', 'is_bad'],\n",
    "                            columns=['predicted_good', 'predicted_bad'])\n",
    "#giving labels for the confusion matrix\n",
    "confusion_df"
   ]
  },
  {
   "cell_type": "code",
   "execution_count": 112,
   "metadata": {
    "ExecuteTime": {
     "end_time": "2019-12-18T14:51:47.737519Z",
     "start_time": "2019-12-18T14:51:47.632728Z"
    }
   },
   "outputs": [
    {
     "name": "stdout",
     "output_type": "stream",
     "text": [
      "              precision    recall  f1-score   support\n",
      "\n",
      "           0     0.2614    0.1024    0.1472     53035\n",
      "           1     0.1929    0.4257    0.2655     26727\n",
      "\n",
      "    accuracy                         0.2108     79762\n",
      "   macro avg     0.2272    0.2641    0.2063     79762\n",
      "weighted avg     0.2384    0.2108    0.1868     79762\n",
      "\n"
     ]
    }
   ],
   "source": [
    "print(\n",
    "    classification_report(np.concatenate((y_train, y_test)),\n",
    "                          stacked_predictions,\n",
    "                          digits=4))"
   ]
  },
  {
   "cell_type": "markdown",
   "metadata": {},
   "source": [
    "We would like to minimise the amount of false positives in our predictions as it is probably more dangerous to think a loan will be ok for it to turn bad compared to preparing for the loan to go bad and then it does not. To do this we can decrease the threshold probability at which the model will consider the loan to have gone bad. "
   ]
  },
  {
   "cell_type": "code",
   "execution_count": 113,
   "metadata": {
    "ExecuteTime": {
     "end_time": "2019-12-18T14:51:47.743690Z",
     "start_time": "2019-12-18T14:51:47.739727Z"
    }
   },
   "outputs": [],
   "source": [
    "def predict_at_threshold(x, threshold=0.5):\n",
    "    \"\"\"changes the prediction threshold at \n",
    "    which we predict a loan to be good or bad\"\"\"\n",
    "    if x >= threshold:\n",
    "        return 1\n",
    "    else:\n",
    "        return 0"
   ]
  },
  {
   "cell_type": "code",
   "execution_count": 114,
   "metadata": {
    "ExecuteTime": {
     "end_time": "2019-12-18T14:51:47.778199Z",
     "start_time": "2019-12-18T14:51:47.747136Z"
    }
   },
   "outputs": [],
   "source": [
    "Y_pp['predicted_class'] = Y_pp.class_1_pp.map(\n",
    "    lambda x: predict_at_threshold(x, threshold=0.3))"
   ]
  },
  {
   "cell_type": "code",
   "execution_count": 115,
   "metadata": {
    "ExecuteTime": {
     "end_time": "2019-12-18T14:51:47.841784Z",
     "start_time": "2019-12-18T14:51:47.779982Z"
    }
   },
   "outputs": [
    {
     "data": {
      "text/html": [
       "<div>\n",
       "<style scoped>\n",
       "    .dataframe tbody tr th:only-of-type {\n",
       "        vertical-align: middle;\n",
       "    }\n",
       "\n",
       "    .dataframe tbody tr th {\n",
       "        vertical-align: top;\n",
       "    }\n",
       "\n",
       "    .dataframe thead th {\n",
       "        text-align: right;\n",
       "    }\n",
       "</style>\n",
       "<table border=\"1\" class=\"dataframe\">\n",
       "  <thead>\n",
       "    <tr style=\"text-align: right;\">\n",
       "      <th></th>\n",
       "      <th>predicted_good</th>\n",
       "      <th>predicted_bad</th>\n",
       "    </tr>\n",
       "  </thead>\n",
       "  <tbody>\n",
       "    <tr>\n",
       "      <th>is_good</th>\n",
       "      <td>40727</td>\n",
       "      <td>12308</td>\n",
       "    </tr>\n",
       "    <tr>\n",
       "      <th>is_bad</th>\n",
       "      <td>3820</td>\n",
       "      <td>22907</td>\n",
       "    </tr>\n",
       "  </tbody>\n",
       "</table>\n",
       "</div>"
      ],
      "text/plain": [
       "         predicted_good  predicted_bad\n",
       "is_good           40727          12308\n",
       "is_bad             3820          22907"
      ]
     },
     "execution_count": 115,
     "metadata": {},
     "output_type": "execute_result"
    }
   ],
   "source": [
    "confusion2 = confusion_matrix(np.concatenate((y_train, y_test)),\n",
    "                              Y_pp.predicted_class.values)\n",
    "\n",
    "confusion_lower_thresh = pd.DataFrame(\n",
    "    confusion2,\n",
    "    index=['is_good', 'is_bad'],\n",
    "    columns=['predicted_good', 'predicted_bad'])\n",
    "confusion_lower_thresh"
   ]
  },
  {
   "cell_type": "markdown",
   "metadata": {},
   "source": [
    "The amount that we lower the threshold by is dependent on our goals- we still want to have a good level of accuracy while decreasing the false negatives as much as possible."
   ]
  },
  {
   "cell_type": "code",
   "execution_count": 116,
   "metadata": {
    "ExecuteTime": {
     "end_time": "2019-12-18T14:51:47.942730Z",
     "start_time": "2019-12-18T14:51:47.843783Z"
    }
   },
   "outputs": [
    {
     "name": "stdout",
     "output_type": "stream",
     "text": [
      "              precision    recall  f1-score   support\n",
      "\n",
      "           0     0.9142    0.7679    0.8347     53035\n",
      "           1     0.6505    0.8571    0.7396     26727\n",
      "\n",
      "    accuracy                         0.7978     79762\n",
      "   macro avg     0.7824    0.8125    0.7872     79762\n",
      "weighted avg     0.8259    0.7978    0.8029     79762\n",
      "\n"
     ]
    }
   ],
   "source": [
    "print(\n",
    "    classification_report(np.concatenate((y_train, y_test)),\n",
    "                          Y_pp.predicted_class.values,\n",
    "                          digits=4))"
   ]
  },
  {
   "cell_type": "markdown",
   "metadata": {},
   "source": [
    "### Evaluation of Simpler Unstacked XG Boost for comparison"
   ]
  },
  {
   "cell_type": "code",
   "execution_count": 117,
   "metadata": {
    "ExecuteTime": {
     "end_time": "2019-12-18T14:51:48.024775Z",
     "start_time": "2019-12-18T14:51:47.946032Z"
    }
   },
   "outputs": [],
   "source": [
    "full_x = np.concatenate((Xd_trains, Xd_tests))"
   ]
  },
  {
   "cell_type": "code",
   "execution_count": 118,
   "metadata": {
    "ExecuteTime": {
     "end_time": "2019-12-18T14:51:49.669213Z",
     "start_time": "2019-12-18T14:51:48.026467Z"
    }
   },
   "outputs": [],
   "source": [
    "Y_pp_orig = pd.DataFrame(xg_reg_pre_words.predict_proba(full_x),\n",
    "                         columns=['class_0_pp', 'class_1_pp'])"
   ]
  },
  {
   "cell_type": "code",
   "execution_count": 119,
   "metadata": {
    "ExecuteTime": {
     "end_time": "2019-12-18T14:51:49.903311Z",
     "start_time": "2019-12-18T14:51:49.671622Z"
    }
   },
   "outputs": [
    {
     "data": {
      "image/png": "[encoded data removed]",
      "text/plain": [
       "<Figure size 432x432 with 1 Axes>"
      ]
     },
     "metadata": {
      "image/png": {
       "height": 397,
       "width": 401
      },
      "needs_background": "light"
     },
     "output_type": "display_data"
    }
   ],
   "source": [
    "# For class 1, find the area under the curve\n",
    "fpr, tpr, threshold = roc_curve(np.concatenate((yd_train, yd_test)),\n",
    "                                Y_pp_orig.class_1_pp)\n",
    "roc_auc = auc(fpr, tpr)\n",
    "\n",
    "# Plot of a ROC curve for class 1\n",
    "plt.figure(figsize=[6, 6])\n",
    "plt.plot(fpr, tpr, label='ROC curve (area = %0.2f)' % roc_auc, linewidth=4)\n",
    "plt.plot([0, 1], [0, 1], 'k--', linewidth=4)\n",
    "plt.xlim([-0.05, 1.0])\n",
    "plt.ylim([-0.05, 1.05])\n",
    "plt.xlabel('False Positive Rate', fontsize=18)\n",
    "plt.ylabel('True Positive Rate', fontsize=18)\n",
    "plt.title('ROC curve for original XgBoost', fontsize=18)\n",
    "plt.legend(loc=\"lower right\")\n",
    "plt.show()"
   ]
  },
  {
   "cell_type": "markdown",
   "metadata": {},
   "source": [
    "Here we can see that the difference in ROC curves for the two models is quite small, however a small difference in the models predictive power when scaled up to suit business needs may mean a lot."
   ]
  },
  {
   "cell_type": "code",
   "execution_count": 120,
   "metadata": {
    "ExecuteTime": {
     "end_time": "2019-12-18T14:51:50.199709Z",
     "start_time": "2019-12-18T14:51:49.906881Z"
    }
   },
   "outputs": [
    {
     "data": {
      "image/png": "[encoded data removed]",
      "text/plain": [
       "<Figure size 576x432 with 1 Axes>"
      ]
     },
     "metadata": {
      "image/png": {
       "height": 397,
       "width": 520
      },
      "needs_background": "light"
     },
     "output_type": "display_data"
    }
   ],
   "source": [
    "fig, ax = plot_f1_lines()\n",
    "\n",
    "precision, recall, threshold = precision_recall_curve(\n",
    "    np.concatenate((yd_train, yd_test)), Y_pp_orig.class_1_pp)\n",
    "\n",
    "ax.plot(recall, precision, label='Precision-recall curve', linewidth=4)\n",
    "plt.xlim([-0.05, 1.0])\n",
    "plt.ylim([-0.05, 1.05])\n",
    "plt.xlabel('Recall', fontsize=18)\n",
    "plt.ylabel('Precision', fontsize=18)\n",
    "plt.title('Precision-Recall curve', fontsize=18)\n",
    "plt.legend(loc=\"lower right\")\n",
    "plt.show()"
   ]
  },
  {
   "cell_type": "code",
   "execution_count": 121,
   "metadata": {
    "ExecuteTime": {
     "end_time": "2019-12-18T14:51:52.030970Z",
     "start_time": "2019-12-18T14:51:50.204173Z"
    }
   },
   "outputs": [
    {
     "data": {
      "text/html": [
       "<div>\n",
       "<style scoped>\n",
       "    .dataframe tbody tr th:only-of-type {\n",
       "        vertical-align: middle;\n",
       "    }\n",
       "\n",
       "    .dataframe tbody tr th {\n",
       "        vertical-align: top;\n",
       "    }\n",
       "\n",
       "    .dataframe thead th {\n",
       "        text-align: right;\n",
       "    }\n",
       "</style>\n",
       "<table border=\"1\" class=\"dataframe\">\n",
       "  <thead>\n",
       "    <tr style=\"text-align: right;\">\n",
       "      <th></th>\n",
       "      <th>predicted_good</th>\n",
       "      <th>predicted_bad</th>\n",
       "    </tr>\n",
       "  </thead>\n",
       "  <tbody>\n",
       "    <tr>\n",
       "      <th>is_good</th>\n",
       "      <td>47710</td>\n",
       "      <td>5325</td>\n",
       "    </tr>\n",
       "    <tr>\n",
       "      <th>is_bad</th>\n",
       "      <td>10359</td>\n",
       "      <td>16368</td>\n",
       "    </tr>\n",
       "  </tbody>\n",
       "</table>\n",
       "</div>"
      ],
      "text/plain": [
       "         predicted_good  predicted_bad\n",
       "is_good           47710           5325\n",
       "is_bad            10359          16368"
      ]
     },
     "execution_count": 121,
     "metadata": {},
     "output_type": "execute_result"
    }
   ],
   "source": [
    "orig_predictions = xg_reg_pre_words.predict(full_x)\n",
    "orig_confusion = confusion_matrix(np.concatenate((yd_train, yd_test)),\n",
    "                                  orig_predictions)\n",
    "\n",
    "orig_confusion_df = pd.DataFrame(orig_confusion,\n",
    "                                 index=['is_good', 'is_bad'],\n",
    "                                 columns=['predicted_good', 'predicted_bad'])\n",
    "orig_confusion_df"
   ]
  },
  {
   "cell_type": "code",
   "execution_count": 122,
   "metadata": {
    "ExecuteTime": {
     "end_time": "2019-12-18T14:51:52.138292Z",
     "start_time": "2019-12-18T14:51:52.034406Z"
    }
   },
   "outputs": [
    {
     "name": "stdout",
     "output_type": "stream",
     "text": [
      "              precision    recall  f1-score   support\n",
      "\n",
      "           0     0.8216    0.8996    0.8588     53035\n",
      "           1     0.7545    0.6124    0.6761     26727\n",
      "\n",
      "    accuracy                         0.8034     79762\n",
      "   macro avg     0.7881    0.7560    0.7675     79762\n",
      "weighted avg     0.7991    0.8034    0.7976     79762\n",
      "\n"
     ]
    }
   ],
   "source": [
    "print(\n",
    "    classification_report(np.concatenate((yd_train, yd_test)),\n",
    "                          orig_predictions,\n",
    "                          digits=4))"
   ]
  },
  {
   "cell_type": "markdown",
   "metadata": {},
   "source": [
    "Overall it can be argued that on a large scale the difference in the two models would lead to a substantial increase in bad loan detection and therefore be worth the extra computational costs. Some important features common across all models made sense- those including late fees gathered throughout the loan, interest rate, and DTI. However it was suprising that credit inquiries into the loan had such a large effect- easily the largest impact feature.\n",
    "\n",
    "In the future I would like to further this project by firstly increasing the scope of the data to include other years, and second try to obtain data on the full lifecyle of loans to gain a more concrete idea of the features available whilst a loan is still active as this part of the project proved difficult. I would also like to try different combinations of stacked models to see if they could provide better results and justify the extra complexity further. Using prediction probabilities has a lot of promise and I would want to further optimise the second level model that uses these. Finally although I tried using PCA to reduce model complexity,I did not have time to optimize hyperparameters for models using features processed by PCA, in the future I would like to do this as it may somewhat offset the increase in model complexity for a stacked model."
   ]
  },
  {
   "cell_type": "code",
   "execution_count": null,
   "metadata": {},
   "outputs": [],
   "source": []
  }
 ],
 "metadata": {
  "kernelspec": {
   "display_name": "Python 3",
   "language": "python",
   "name": "python3"
  },
  "language_info": {
   "codemirror_mode": {
    "name": "ipython",
    "version": 3
   },
   "file_extension": ".py",
   "mimetype": "text/x-python",
   "name": "python",
   "nbconvert_exporter": "python",
   "pygments_lexer": "ipython3",
   "version": "3.7.3"
  },
  "toc": {
   "base_numbering": 1,
   "nav_menu": {},
   "number_sections": true,
   "sideBar": true,
   "skip_h1_title": false,
   "title_cell": "Table of Contents",
   "title_sidebar": "Contents",
   "toc_cell": false,
   "toc_position": {},
   "toc_section_display": true,
   "toc_window_display": false
  }
 },
 "nbformat": 4,
 "nbformat_minor": 2
}
