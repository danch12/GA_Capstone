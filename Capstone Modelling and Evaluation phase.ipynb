{
 "cells": [
  {
   "cell_type": "code",
   "execution_count": 133,
   "metadata": {
    "ExecuteTime": {
     "end_time": "2019-12-17T16:38:39.353517Z",
     "start_time": "2019-12-17T16:38:39.324180Z"
    }
   },
   "outputs": [],
   "source": [
    "import numpy as np\n",
    "import scipy.stats as stats\n",
    "import seaborn as sns\n",
    "import matplotlib.pyplot as plt\n",
    "import pandas as pd\n",
    "from itertools import combinations\n",
    "from matplotlib import cm\n",
    "from matplotlib.colors import ListedColormap\n",
    "plt.style.use('ggplot')\n",
    "\n",
    "%config InlineBackend.figure_format = 'retina'\n",
    "%matplotlib inline\n",
    "from sklearn.metrics import roc_curve, auc, precision_recall_curve, average_precision_score\n",
    "from sklearn.metrics import classification_report\n",
    "from sklearn.preprocessing import StandardScaler\n",
    "from sklearn.linear_model import LogisticRegression, LogisticRegressionCV\n",
    "from sklearn.model_selection import train_test_split, cross_val_score, GridSearchCV\n",
    "from sklearn.metrics import confusion_matrix\n",
    "from sklearn.ensemble import ExtraTreesClassifier\n",
    "from sklearn.model_selection import KFold\n",
    "from sklearn.ensemble import AdaBoostClassifier\n",
    "from sklearn.ensemble import RandomForestClassifier\n",
    "from sklearn.neighbors import KNeighborsClassifier\n",
    "from scipy import sparse\n",
    "from sklearn.feature_extraction.text import CountVectorizer\n",
    "from sklearn.metrics import precision_score\n",
    "import xgboost as xgb\n",
    "from sklearn.model_selection import KFold\n",
    "from joblib import dump, load\n",
    "import scikitplot as skplt\n",
    "from matplotlib.colors import ListedColormap"
   ]
  },
  {
   "cell_type": "markdown",
   "metadata": {},
   "source": [
    "### Creating scoring functions for my models"
   ]
  },
  {
   "cell_type": "code",
   "execution_count": 134,
   "metadata": {
    "ExecuteTime": {
     "end_time": "2019-12-17T16:38:40.480193Z",
     "start_time": "2019-12-17T16:38:40.474390Z"
    }
   },
   "outputs": [],
   "source": [
    "def model_scorer(model, X_train, y_train, X_test, y_test):\n",
    "    '''prints out model cross validation, test and precision scores together for clarity'''\n",
    "    cv_scores = cross_val_score(model, X_train, y_train, cv=5)\n",
    "    print(str(model))\n",
    "    print('cross validated scores-', cv_scores)\n",
    "    print('mean of cross validated scores-', cv_scores.mean())\n",
    "    print('test score-', model.score(X_test, y_test))\n",
    "    model_preds = model.predict(X_test)\n",
    "    print('precision-', precision_score(y_test, model_preds))"
   ]
  },
  {
   "cell_type": "code",
   "execution_count": 135,
   "metadata": {
    "ExecuteTime": {
     "end_time": "2019-12-17T16:38:41.201245Z",
     "start_time": "2019-12-17T16:38:41.196456Z"
    }
   },
   "outputs": [],
   "source": [
    "def model_fit_score(model, X_train, y_train, X_test, y_test):\n",
    "    '''prints out model cross validation, test and precision scores together for clarity'''\n",
    "    model.fit(X_train, y_train)\n",
    "    cv_scores = cross_val_score(model, X_train, y_train, cv=5)\n",
    "    print(str(model))\n",
    "    print('cross validated scores-', cv_scores)\n",
    "    print('mean of cross validated scores-', cv_scores.mean())\n",
    "    print('test score-', model.score(X_test, y_test))\n",
    "    model_preds = model.predict(X_test)\n",
    "    print('precision-', precision_score(y_test, model_preds))"
   ]
  },
  {
   "cell_type": "markdown",
   "metadata": {},
   "source": [
    "### Loading In data"
   ]
  },
  {
   "cell_type": "code",
   "execution_count": 136,
   "metadata": {
    "ExecuteTime": {
     "end_time": "2019-12-17T16:38:43.832331Z",
     "start_time": "2019-12-17T16:38:42.342372Z"
    }
   },
   "outputs": [],
   "source": [
    "#loading data\n",
    "temp_df = pd.read_csv('temp_df.csv')\n",
    "drop_df = temp_df.copy()"
   ]
  },
  {
   "cell_type": "code",
   "execution_count": 138,
   "metadata": {
    "ExecuteTime": {
     "end_time": "2019-12-17T16:40:50.085588Z",
     "start_time": "2019-12-17T16:40:49.654527Z"
    }
   },
   "outputs": [],
   "source": [
    "#dropping columns that cannot be used\n",
    "\n",
    "drop_columns=[\n",
    "    'emp_title', 'total_rec_prncp', 'out_prncp_inv', 'total_pymnt_inv',\n",
    "    'funded_amnt_inv', 'last_pymnt_d', 'out_prncp', 'total_pymnt',\n",
    "    'total_rec_int', 'last_pymnt_amnt', 'title', 'zip_code', 'loan_status',\n",
    "    'recoveries', 'id', 'member_id', 'next_pymnt_d', 'collection_recovery_fee'\n",
    "]\n",
    "\n",
    "for column in drop_columns:\n",
    "    try:\n",
    "        drop_df.drop(columns=[column],inplace=True)\n",
    "    except:\n",
    "        pass\n",
    "\n"
   ]
  },
  {
   "cell_type": "code",
   "execution_count": 141,
   "metadata": {
    "ExecuteTime": {
     "end_time": "2019-12-17T16:41:13.330803Z",
     "start_time": "2019-12-17T16:41:13.275392Z"
    }
   },
   "outputs": [
    {
     "data": {
      "text/plain": [
       "0    0.664916\n",
       "1    0.335084\n",
       "Name: good_or_bad, dtype: float64"
      ]
     },
     "execution_count": 141,
     "metadata": {},
     "output_type": "execute_result"
    }
   ],
   "source": [
    "#finding baseline for models\n",
    "drop_df.good_or_bad.value_counts(normalize=True)"
   ]
  },
  {
   "cell_type": "markdown",
   "metadata": {},
   "source": [
    "# Pre NLP Models"
   ]
  },
  {
   "cell_type": "markdown",
   "metadata": {},
   "source": [
    "#### Creating train test split and scaling"
   ]
  },
  {
   "cell_type": "code",
   "execution_count": 142,
   "metadata": {
    "ExecuteTime": {
     "end_time": "2019-12-17T16:41:15.724811Z",
     "start_time": "2019-12-17T16:41:15.689087Z"
    }
   },
   "outputs": [],
   "source": [
    "#creating x and y\n",
    "Xd = drop_df.copy()\n",
    "yd = Xd.pop('good_or_bad')"
   ]
  },
  {
   "cell_type": "code",
   "execution_count": 143,
   "metadata": {
    "ExecuteTime": {
     "end_time": "2019-12-17T16:41:16.718414Z",
     "start_time": "2019-12-17T16:41:16.524405Z"
    }
   },
   "outputs": [],
   "source": [
    "#creating dummy variables for categorical columns\n",
    "Xd = pd.get_dummies(Xd, drop_first=True)"
   ]
  },
  {
   "cell_type": "code",
   "execution_count": 144,
   "metadata": {
    "ExecuteTime": {
     "end_time": "2019-12-17T16:41:17.912261Z",
     "start_time": "2019-12-17T16:41:17.800836Z"
    }
   },
   "outputs": [],
   "source": [
    "#creating train and test set\n",
    "Xd_train, Xd_test, yd_train, yd_test = train_test_split(Xd,\n",
    "                                                        yd,\n",
    "                                                        test_size=0.2,\n",
    "                                                        random_state=1)"
   ]
  },
  {
   "cell_type": "code",
   "execution_count": 145,
   "metadata": {
    "ExecuteTime": {
     "end_time": "2019-12-17T16:41:18.672735Z",
     "start_time": "2019-12-17T16:41:18.331787Z"
    }
   },
   "outputs": [],
   "source": [
    "#scaling data\n",
    "scaler = StandardScaler()\n",
    "Xd_trains = scaler.fit_transform(Xd_train)\n",
    "Xd_tests = scaler.transform(Xd_test)"
   ]
  },
  {
   "cell_type": "markdown",
   "metadata": {},
   "source": [
    "#### Running Models"
   ]
  },
  {
   "cell_type": "markdown",
   "metadata": {},
   "source": [
    "Running through the models and getting the cv, test, and precision scores"
   ]
  },
  {
   "cell_type": "code",
   "execution_count": 10,
   "metadata": {
    "ExecuteTime": {
     "end_time": "2019-12-10T09:01:02.915352Z",
     "start_time": "2019-12-10T09:01:02.909503Z"
    }
   },
   "outputs": [],
   "source": [
    "#logistic regression\n",
    "log_reg_pre_words = load('logistic_regression_no_words.joblib')"
   ]
  },
  {
   "cell_type": "code",
   "execution_count": 15,
   "metadata": {
    "ExecuteTime": {
     "end_time": "2019-12-10T09:44:35.229150Z",
     "start_time": "2019-12-10T09:31:38.187229Z"
    }
   },
   "outputs": [
    {
     "name": "stdout",
     "output_type": "stream",
     "text": [
      "LogisticRegression(C=4.281332398719396, class_weight=None, dual=False,\n",
      "                   fit_intercept=True, intercept_scaling=1, l1_ratio=None,\n",
      "                   max_iter=10000, multi_class='warn', n_jobs=None,\n",
      "                   penalty='l2', random_state=None, solver='saga', tol=0.0001,\n",
      "                   verbose=0, warm_start=False)\n",
      "cross validated scores- [0.71393873 0.70576712 0.71187902 0.70323642 0.71044589]\n",
      "mean of cross validated scores- 0.7090534358812751\n",
      "test score- 0.7157901335172068\n",
      "precision- 0.6244871163630396\n"
     ]
    }
   ],
   "source": [
    "model_scorer(log_reg_pre_words, Xd_trains, yd_train, Xd_tests, yd_test)"
   ]
  },
  {
   "cell_type": "code",
   "execution_count": 16,
   "metadata": {
    "ExecuteTime": {
     "end_time": "2019-12-10T09:50:36.946809Z",
     "start_time": "2019-12-10T09:50:36.868406Z"
    }
   },
   "outputs": [
    {
     "data": {
      "text/html": [
       "<div>\n",
       "<style scoped>\n",
       "    .dataframe tbody tr th:only-of-type {\n",
       "        vertical-align: middle;\n",
       "    }\n",
       "\n",
       "    .dataframe tbody tr th {\n",
       "        vertical-align: top;\n",
       "    }\n",
       "\n",
       "    .dataframe thead th {\n",
       "        text-align: right;\n",
       "    }\n",
       "</style>\n",
       "<table border=\"1\" class=\"dataframe\">\n",
       "  <thead>\n",
       "    <tr style=\"text-align: right;\">\n",
       "      <th></th>\n",
       "      <th>features</th>\n",
       "      <th>coefs</th>\n",
       "      <th>abs</th>\n",
       "    </tr>\n",
       "  </thead>\n",
       "  <tbody>\n",
       "    <tr>\n",
       "      <th>18</th>\n",
       "      <td>last_credit_pull_d</td>\n",
       "      <td>0.901413</td>\n",
       "      <td>0.901413</td>\n",
       "    </tr>\n",
       "    <tr>\n",
       "      <th>17</th>\n",
       "      <td>total_rec_late_fee</td>\n",
       "      <td>0.467166</td>\n",
       "      <td>0.467166</td>\n",
       "    </tr>\n",
       "    <tr>\n",
       "      <th>83</th>\n",
       "      <td>term_ 60 months</td>\n",
       "      <td>0.332728</td>\n",
       "      <td>0.332728</td>\n",
       "    </tr>\n",
       "    <tr>\n",
       "      <th>113</th>\n",
       "      <td>emp_length_10+ years</td>\n",
       "      <td>-0.301874</td>\n",
       "      <td>0.301874</td>\n",
       "    </tr>\n",
       "    <tr>\n",
       "      <th>16</th>\n",
       "      <td>total_acc</td>\n",
       "      <td>-0.281163</td>\n",
       "      <td>0.281163</td>\n",
       "    </tr>\n",
       "  </tbody>\n",
       "</table>\n",
       "</div>"
      ],
      "text/plain": [
       "                 features     coefs       abs\n",
       "18     last_credit_pull_d  0.901413  0.901413\n",
       "17     total_rec_late_fee  0.467166  0.467166\n",
       "83        term_ 60 months  0.332728  0.332728\n",
       "113  emp_length_10+ years -0.301874  0.301874\n",
       "16              total_acc -0.281163  0.281163"
      ]
     },
     "execution_count": 16,
     "metadata": {},
     "output_type": "execute_result"
    }
   ],
   "source": [
    "#getting the largest coefficents/ best predictors\n",
    "log_reg_df = pd.DataFrame({\n",
    "    'features': Xd.columns,\n",
    "    'coefs': log_reg_pre_words.coef_[0]\n",
    "})\n",
    "log_reg_df['abs'] = log_reg_df.coefs.map(lambda x: abs(x))\n",
    "print('logistic regression best features')\n",
    "log_reg_df.sort_values(by='abs', ascending=False).head()"
   ]
  },
  {
   "cell_type": "code",
   "execution_count": 45,
   "metadata": {
    "ExecuteTime": {
     "end_time": "2019-12-10T11:15:22.754543Z",
     "start_time": "2019-12-10T11:15:22.750804Z"
    }
   },
   "outputs": [],
   "source": [
    "rf = RandomForestClassifier(n_estimators=800,\n",
    "                            min_samples_leaf=2,\n",
    "                            max_depth=None,\n",
    "                            random_state=1)"
   ]
  },
  {
   "cell_type": "code",
   "execution_count": 34,
   "metadata": {
    "ExecuteTime": {
     "end_time": "2019-12-10T11:05:08.263774Z",
     "start_time": "2019-12-10T10:52:07.412735Z"
    }
   },
   "outputs": [
    {
     "name": "stdout",
     "output_type": "stream",
     "text": [
      "RandomForestClassifier(bootstrap=True, class_weight=None, criterion='gini',\n",
      "                       max_depth=None, max_features='auto', max_leaf_nodes=None,\n",
      "                       min_impurity_decrease=0.0, min_impurity_split=None,\n",
      "                       min_samples_leaf=2, min_samples_split=2,\n",
      "                       min_weight_fraction_leaf=0.0, n_estimators=800,\n",
      "                       n_jobs=None, oob_score=False, random_state=1, verbose=0,\n",
      "                       warm_start=False)\n",
      "cross validated scores- [0.77364256 0.7579533  0.76915844 0.76976726 0.76961053]\n",
      "mean of cross validated scores- 0.7680264180415481\n",
      "test score- 0.7725192753714035\n",
      "precision- 0.7483640690065437\n"
     ]
    }
   ],
   "source": [
    "model_fit_score(rf, Xd_trains, yd_train, Xd_tests, yd_test)"
   ]
  },
  {
   "cell_type": "code",
   "execution_count": 43,
   "metadata": {
    "ExecuteTime": {
     "end_time": "2019-12-10T11:11:51.714690Z",
     "start_time": "2019-12-10T11:11:51.551113Z"
    }
   },
   "outputs": [
    {
     "name": "stdout",
     "output_type": "stream",
     "text": [
      "Random forest best features\n"
     ]
    },
    {
     "data": {
      "text/html": [
       "<div>\n",
       "<style scoped>\n",
       "    .dataframe tbody tr th:only-of-type {\n",
       "        vertical-align: middle;\n",
       "    }\n",
       "\n",
       "    .dataframe tbody tr th {\n",
       "        vertical-align: top;\n",
       "    }\n",
       "\n",
       "    .dataframe thead th {\n",
       "        text-align: right;\n",
       "    }\n",
       "</style>\n",
       "<table border=\"1\" class=\"dataframe\">\n",
       "  <thead>\n",
       "    <tr style=\"text-align: right;\">\n",
       "      <th></th>\n",
       "      <th>features</th>\n",
       "      <th>feature_importances</th>\n",
       "      <th>abs</th>\n",
       "    </tr>\n",
       "  </thead>\n",
       "  <tbody>\n",
       "    <tr>\n",
       "      <th>18</th>\n",
       "      <td>last_credit_pull_d</td>\n",
       "      <td>0.164844</td>\n",
       "      <td>0.164844</td>\n",
       "    </tr>\n",
       "    <tr>\n",
       "      <th>17</th>\n",
       "      <td>total_rec_late_fee</td>\n",
       "      <td>0.025863</td>\n",
       "      <td>0.025863</td>\n",
       "    </tr>\n",
       "    <tr>\n",
       "      <th>23</th>\n",
       "      <td>dti_joint</td>\n",
       "      <td>0.022439</td>\n",
       "      <td>0.022439</td>\n",
       "    </tr>\n",
       "    <tr>\n",
       "      <th>2</th>\n",
       "      <td>int_rate</td>\n",
       "      <td>0.022347</td>\n",
       "      <td>0.022347</td>\n",
       "    </tr>\n",
       "    <tr>\n",
       "      <th>6</th>\n",
       "      <td>dti</td>\n",
       "      <td>0.022281</td>\n",
       "      <td>0.022281</td>\n",
       "    </tr>\n",
       "  </tbody>\n",
       "</table>\n",
       "</div>"
      ],
      "text/plain": [
       "              features  feature_importances       abs\n",
       "18  last_credit_pull_d             0.164844  0.164844\n",
       "17  total_rec_late_fee             0.025863  0.025863\n",
       "23           dti_joint             0.022439  0.022439\n",
       "2             int_rate             0.022347  0.022347\n",
       "6                  dti             0.022281  0.022281"
      ]
     },
     "execution_count": 43,
     "metadata": {},
     "output_type": "execute_result"
    }
   ],
   "source": [
    "rf_df = pd.DataFrame({\n",
    "    'features': Xd.columns,\n",
    "    'feature_importances': rf.feature_importances_\n",
    "})\n",
    "rf_df['abs'] = rf_df.feature_importances.map(lambda x: abs(x))\n",
    "print('Random forest best features')\n",
    "rf_df.sort_values(by='abs', ascending=False).head()"
   ]
  },
  {
   "cell_type": "code",
   "execution_count": 44,
   "metadata": {
    "ExecuteTime": {
     "end_time": "2019-12-10T11:14:54.789014Z",
     "start_time": "2019-12-10T11:14:54.540822Z"
    }
   },
   "outputs": [],
   "source": [
    "#ada boost model\n",
    "ad_model_pre_words = load('ad_model_preword.joblib')"
   ]
  },
  {
   "cell_type": "code",
   "execution_count": 46,
   "metadata": {
    "ExecuteTime": {
     "end_time": "2019-12-10T11:35:01.329599Z",
     "start_time": "2019-12-10T11:15:49.372449Z"
    }
   },
   "outputs": [
    {
     "name": "stdout",
     "output_type": "stream",
     "text": [
      "AdaBoostClassifier(algorithm='SAMME.R', base_estimator=None, learning_rate=0.1,\n",
      "                   n_estimators=1000, random_state=1)\n",
      "cross validated scores- [0.79370054 0.79337094 0.79399781 0.7964893  0.79429512]\n",
      "mean of cross validated scores- 0.7943707425776628\n",
      "test score- 0.7910737792264778\n",
      "precision- 0.7471091000502765\n"
     ]
    }
   ],
   "source": [
    "model_scorer(ad_model_pre_words, Xd_trains, yd_train, Xd_tests, yd_test)"
   ]
  },
  {
   "cell_type": "code",
   "execution_count": 47,
   "metadata": {
    "ExecuteTime": {
     "end_time": "2019-12-10T11:42:50.944132Z",
     "start_time": "2019-12-10T11:42:50.939348Z"
    }
   },
   "outputs": [],
   "source": [
    "#extra trees\n",
    "xtra_trees = ExtraTreesClassifier(800, random_state=1)"
   ]
  },
  {
   "cell_type": "code",
   "execution_count": 48,
   "metadata": {
    "ExecuteTime": {
     "end_time": "2019-12-10T11:57:10.877241Z",
     "start_time": "2019-12-10T11:44:36.678669Z"
    }
   },
   "outputs": [
    {
     "name": "stdout",
     "output_type": "stream",
     "text": [
      "ExtraTreesClassifier(bootstrap=False, class_weight=None, criterion='gini',\n",
      "                     max_depth=None, max_features='auto', max_leaf_nodes=None,\n",
      "                     min_impurity_decrease=0.0, min_impurity_split=None,\n",
      "                     min_samples_leaf=1, min_samples_split=2,\n",
      "                     min_weight_fraction_leaf=0.0, n_estimators=800,\n",
      "                     n_jobs=None, oob_score=False, random_state=1, verbose=0,\n",
      "                     warm_start=False)\n",
      "cross validated scores- [0.72663167 0.72371102 0.72089014 0.72549173 0.72525664]\n",
      "mean of cross validated scores- 0.7243962406629725\n",
      "test score- 0.7295179590045759\n",
      "precision- 0.7236363636363636\n"
     ]
    }
   ],
   "source": [
    "model_fit_score(xtra_trees, Xd_trains, yd_train, Xd_tests, yd_test)"
   ]
  },
  {
   "cell_type": "code",
   "execution_count": 49,
   "metadata": {
    "ExecuteTime": {
     "end_time": "2019-12-10T11:58:26.628341Z",
     "start_time": "2019-12-10T11:58:26.142040Z"
    }
   },
   "outputs": [
    {
     "name": "stderr",
     "output_type": "stream",
     "text": [
      "//anaconda3/lib/python3.7/site-packages/xgboost/core.py:587: FutureWarning: Series.base is deprecated and will be removed in a future version\n",
      "  if getattr(data, 'base', None) is not None and \\\n"
     ]
    }
   ],
   "source": [
    "#Xg boost\n",
    "#creating training and testing matrices for cross validation\n",
    "d_train = xgb.DMatrix(data=Xd_trains, label=yd_train)\n",
    "d_test = xgb.DMatrix(data=Xd_tests, label=yd_test)"
   ]
  },
  {
   "cell_type": "code",
   "execution_count": 148,
   "metadata": {
    "ExecuteTime": {
     "end_time": "2019-12-17T16:44:35.269733Z",
     "start_time": "2019-12-17T16:41:45.880469Z"
    }
   },
   "outputs": [
    {
     "data": {
      "text/plain": [
       "XGBClassifier(base_score=0.5, booster='gbtree', colsample_bylevel=1,\n",
       "              colsample_bynode=1, colsample_bytree=0.3, gamma=0.1,\n",
       "              learning_rate=0.1, max_delta_step=0, max_depth=2,\n",
       "              min_child_weight=4, missing=None, n_estimators=800, n_jobs=1,\n",
       "              nthread=None, objective='reg:logistic', random_state=0,\n",
       "              reg_alpha=0, reg_lambda=1, scale_pos_weight=1, seed=None,\n",
       "              silent=None, subsample=1, verbosity=1)"
      ]
     },
     "execution_count": 148,
     "metadata": {},
     "output_type": "execute_result"
    }
   ],
   "source": [
    "#creating model\n",
    "xg_reg_pre_words = xgb.XGBClassifier(objective='reg:logistic',\n",
    "                                     colsample_bytree=0.3,\n",
    "                                     learning_rate=0.1,\n",
    "                                     max_depth=2,\n",
    "                                     min_child_weight=4,\n",
    "                                     gamma=0.1,\n",
    "                                     n_estimators=800)\n",
    "xg_reg_pre_words.fit(Xd_trains, yd_train)"
   ]
  },
  {
   "cell_type": "code",
   "execution_count": 54,
   "metadata": {
    "ExecuteTime": {
     "end_time": "2019-12-10T12:08:00.722810Z",
     "start_time": "2019-12-10T12:08:00.367001Z"
    }
   },
   "outputs": [],
   "source": [
    "xg_pre_words_test_score = xg_reg_pre_words.score(Xd_tests, yd_test)"
   ]
  },
  {
   "cell_type": "code",
   "execution_count": 56,
   "metadata": {
    "ExecuteTime": {
     "end_time": "2019-12-10T12:08:30.645049Z",
     "start_time": "2019-12-10T12:08:30.633047Z"
    }
   },
   "outputs": [],
   "source": [
    "params = {\n",
    "    'learning_rate': 0.1,\n",
    "    'max_depth': 2,\n",
    "    'objective': 'reg:logistic',\n",
    "    'min_child_weight': 4,\n",
    "    'gamma': 0.1\n",
    "}\n",
    "params['eval_metric'] = 'error'\n",
    "num_boost_round = 800"
   ]
  },
  {
   "cell_type": "code",
   "execution_count": 57,
   "metadata": {
    "ExecuteTime": {
     "end_time": "2019-12-10T12:21:07.428971Z",
     "start_time": "2019-12-10T12:08:32.698657Z"
    }
   },
   "outputs": [],
   "source": [
    "cv_results = xgb.cv(params,\n",
    "                    d_train,\n",
    "                    num_boost_round=num_boost_round,\n",
    "                    seed=1,\n",
    "                    nfold=5,\n",
    "                    metrics={'error'},\n",
    "                    early_stopping_rounds=50)"
   ]
  },
  {
   "cell_type": "code",
   "execution_count": 58,
   "metadata": {
    "ExecuteTime": {
     "end_time": "2019-12-10T12:21:07.520056Z",
     "start_time": "2019-12-10T12:21:07.436674Z"
    }
   },
   "outputs": [
    {
     "data": {
      "text/html": [
       "<div>\n",
       "<style scoped>\n",
       "    .dataframe tbody tr th:only-of-type {\n",
       "        vertical-align: middle;\n",
       "    }\n",
       "\n",
       "    .dataframe tbody tr th {\n",
       "        vertical-align: top;\n",
       "    }\n",
       "\n",
       "    .dataframe thead th {\n",
       "        text-align: right;\n",
       "    }\n",
       "</style>\n",
       "<table border=\"1\" class=\"dataframe\">\n",
       "  <thead>\n",
       "    <tr style=\"text-align: right;\">\n",
       "      <th></th>\n",
       "      <th>train-error-mean</th>\n",
       "      <th>train-error-std</th>\n",
       "      <th>test-error-mean</th>\n",
       "      <th>test-error-std</th>\n",
       "    </tr>\n",
       "  </thead>\n",
       "  <tbody>\n",
       "    <tr>\n",
       "      <th>440</th>\n",
       "      <td>0.196140</td>\n",
       "      <td>0.000454</td>\n",
       "      <td>0.202072</td>\n",
       "      <td>0.002785</td>\n",
       "    </tr>\n",
       "    <tr>\n",
       "      <th>441</th>\n",
       "      <td>0.196136</td>\n",
       "      <td>0.000449</td>\n",
       "      <td>0.201962</td>\n",
       "      <td>0.002943</td>\n",
       "    </tr>\n",
       "    <tr>\n",
       "      <th>442</th>\n",
       "      <td>0.196120</td>\n",
       "      <td>0.000400</td>\n",
       "      <td>0.202056</td>\n",
       "      <td>0.002920</td>\n",
       "    </tr>\n",
       "    <tr>\n",
       "      <th>443</th>\n",
       "      <td>0.196011</td>\n",
       "      <td>0.000453</td>\n",
       "      <td>0.202025</td>\n",
       "      <td>0.002892</td>\n",
       "    </tr>\n",
       "    <tr>\n",
       "      <th>444</th>\n",
       "      <td>0.196023</td>\n",
       "      <td>0.000387</td>\n",
       "      <td>0.201947</td>\n",
       "      <td>0.002906</td>\n",
       "    </tr>\n",
       "  </tbody>\n",
       "</table>\n",
       "</div>"
      ],
      "text/plain": [
       "     train-error-mean  train-error-std  test-error-mean  test-error-std\n",
       "440          0.196140         0.000454         0.202072        0.002785\n",
       "441          0.196136         0.000449         0.201962        0.002943\n",
       "442          0.196120         0.000400         0.202056        0.002920\n",
       "443          0.196011         0.000453         0.202025        0.002892\n",
       "444          0.196023         0.000387         0.201947        0.002906"
      ]
     },
     "execution_count": 58,
     "metadata": {},
     "output_type": "execute_result"
    }
   ],
   "source": [
    "cv_results.tail()"
   ]
  },
  {
   "cell_type": "code",
   "execution_count": 59,
   "metadata": {
    "ExecuteTime": {
     "end_time": "2019-12-10T12:24:42.926091Z",
     "start_time": "2019-12-10T12:24:42.842211Z"
    }
   },
   "outputs": [],
   "source": [
    "xg_reg_pre_words_feature_importances = pd.DataFrame({\n",
    "    'columns':\n",
    "    Xd.columns,\n",
    "    'importance':\n",
    "    xg_reg_pre_words.feature_importances_\n",
    "}).sort_values(by='importance', ascending=False)"
   ]
  },
  {
   "cell_type": "code",
   "execution_count": 60,
   "metadata": {
    "ExecuteTime": {
     "end_time": "2019-12-10T12:24:54.075456Z",
     "start_time": "2019-12-10T12:24:54.064333Z"
    }
   },
   "outputs": [
    {
     "data": {
      "text/html": [
       "<div>\n",
       "<style scoped>\n",
       "    .dataframe tbody tr th:only-of-type {\n",
       "        vertical-align: middle;\n",
       "    }\n",
       "\n",
       "    .dataframe tbody tr th {\n",
       "        vertical-align: top;\n",
       "    }\n",
       "\n",
       "    .dataframe thead th {\n",
       "        text-align: right;\n",
       "    }\n",
       "</style>\n",
       "<table border=\"1\" class=\"dataframe\">\n",
       "  <thead>\n",
       "    <tr style=\"text-align: right;\">\n",
       "      <th></th>\n",
       "      <th>columns</th>\n",
       "      <th>importance</th>\n",
       "    </tr>\n",
       "  </thead>\n",
       "  <tbody>\n",
       "    <tr>\n",
       "      <th>18</th>\n",
       "      <td>last_credit_pull_d</td>\n",
       "      <td>0.310706</td>\n",
       "    </tr>\n",
       "    <tr>\n",
       "      <th>17</th>\n",
       "      <td>total_rec_late_fee</td>\n",
       "      <td>0.076166</td>\n",
       "    </tr>\n",
       "    <tr>\n",
       "      <th>2</th>\n",
       "      <td>int_rate</td>\n",
       "      <td>0.041810</td>\n",
       "    </tr>\n",
       "    <tr>\n",
       "      <th>83</th>\n",
       "      <td>term_ 60 months</td>\n",
       "      <td>0.038388</td>\n",
       "    </tr>\n",
       "    <tr>\n",
       "      <th>84</th>\n",
       "      <td>grade_D</td>\n",
       "      <td>0.035443</td>\n",
       "    </tr>\n",
       "  </tbody>\n",
       "</table>\n",
       "</div>"
      ],
      "text/plain": [
       "               columns  importance\n",
       "18  last_credit_pull_d    0.310706\n",
       "17  total_rec_late_fee    0.076166\n",
       "2             int_rate    0.041810\n",
       "83     term_ 60 months    0.038388\n",
       "84             grade_D    0.035443"
      ]
     },
     "execution_count": 60,
     "metadata": {},
     "output_type": "execute_result"
    }
   ],
   "source": [
    "xg_reg_pre_words_feature_importances.head()"
   ]
  },
  {
   "cell_type": "markdown",
   "metadata": {},
   "source": [
    "# Post NLP Models"
   ]
  },
  {
   "cell_type": "markdown",
   "metadata": {},
   "source": [
    "#### Creating train test split using DataFrame post NLP"
   ]
  },
  {
   "cell_type": "code",
   "execution_count": 13,
   "metadata": {
    "ExecuteTime": {
     "end_time": "2019-12-16T15:41:12.616140Z",
     "start_time": "2019-12-16T15:41:11.558627Z"
    }
   },
   "outputs": [],
   "source": [
    "merged_for_words = pd.read_csv('merged_words.csv')"
   ]
  },
  {
   "cell_type": "code",
   "execution_count": 14,
   "metadata": {
    "ExecuteTime": {
     "end_time": "2019-12-16T15:41:18.751368Z",
     "start_time": "2019-12-16T15:41:12.618397Z"
    }
   },
   "outputs": [],
   "source": [
    "merged_for_words.to_csv('merged_words.csv')"
   ]
  },
  {
   "cell_type": "code",
   "execution_count": 15,
   "metadata": {
    "ExecuteTime": {
     "end_time": "2019-12-16T15:41:18.816779Z",
     "start_time": "2019-12-16T15:41:18.753895Z"
    }
   },
   "outputs": [],
   "source": [
    "X = merged_for_words.copy()\n",
    "y = X.pop('good_or_bad')"
   ]
  },
  {
   "cell_type": "code",
   "execution_count": 16,
   "metadata": {
    "ExecuteTime": {
     "end_time": "2019-12-16T15:41:19.016414Z",
     "start_time": "2019-12-16T15:41:18.819820Z"
    }
   },
   "outputs": [],
   "source": [
    "X = pd.get_dummies(X, drop_first=True)"
   ]
  },
  {
   "cell_type": "code",
   "execution_count": 17,
   "metadata": {
    "ExecuteTime": {
     "end_time": "2019-12-16T15:41:19.129242Z",
     "start_time": "2019-12-16T15:41:19.018732Z"
    }
   },
   "outputs": [],
   "source": [
    "X_train, X_test, y_train, y_test = train_test_split(X,\n",
    "                                                    y,\n",
    "                                                    test_size=0.2,\n",
    "                                                    random_state=1)"
   ]
  },
  {
   "cell_type": "code",
   "execution_count": 18,
   "metadata": {
    "ExecuteTime": {
     "end_time": "2019-12-16T15:41:19.306529Z",
     "start_time": "2019-12-16T15:41:19.298567Z"
    }
   },
   "outputs": [
    {
     "data": {
      "text/plain": [
       "(63809,)"
      ]
     },
     "execution_count": 18,
     "metadata": {},
     "output_type": "execute_result"
    }
   ],
   "source": [
    "y_train.shape"
   ]
  },
  {
   "cell_type": "markdown",
   "metadata": {},
   "source": [
    "#### Running Models on data with NLP"
   ]
  },
  {
   "cell_type": "code",
   "execution_count": 19,
   "metadata": {
    "ExecuteTime": {
     "end_time": "2019-12-16T15:41:20.593316Z",
     "start_time": "2019-12-16T15:41:20.182446Z"
    }
   },
   "outputs": [],
   "source": [
    "#scaling data\n",
    "scaler = StandardScaler()\n",
    "X_train = scaler.fit_transform(X_train)\n",
    "X_test = scaler.transform(X_test)"
   ]
  },
  {
   "cell_type": "code",
   "execution_count": 67,
   "metadata": {
    "ExecuteTime": {
     "end_time": "2019-12-10T13:22:59.590309Z",
     "start_time": "2019-12-10T13:22:59.577523Z"
    }
   },
   "outputs": [],
   "source": [
    "#loading in logistic regression model\n",
    "log_reg_NLP = load('log_reg_postword.joblib')"
   ]
  },
  {
   "cell_type": "code",
   "execution_count": 71,
   "metadata": {
    "ExecuteTime": {
     "end_time": "2019-12-10T13:52:04.528389Z",
     "start_time": "2019-12-10T13:41:21.454790Z"
    }
   },
   "outputs": [
    {
     "name": "stdout",
     "output_type": "stream",
     "text": [
      "LogisticRegression(C=0.615848211066026, class_weight=None, dual=False,\n",
      "                   fit_intercept=True, intercept_scaling=1, l1_ratio=None,\n",
      "                   max_iter=1000000, multi_class='warn', n_jobs=None,\n",
      "                   penalty='l1', random_state=None, solver='saga', tol=0.0001,\n",
      "                   verbose=0, warm_start=False)\n",
      "cross validated scores- [0.71393873 0.708588   0.71383796 0.7073897  0.71068098]\n",
      "mean of cross validated scores- 0.7108870730599433\n",
      "test score- 0.7171691844794083\n",
      "precision- 0.6281341582546401\n"
     ]
    }
   ],
   "source": [
    "model_fit_score(log_reg_NLP, X_train, y_train, X_test, y_test)\n",
    "#Can see not much improvement if any"
   ]
  },
  {
   "cell_type": "code",
   "execution_count": 73,
   "metadata": {
    "ExecuteTime": {
     "end_time": "2019-12-10T13:56:02.134799Z",
     "start_time": "2019-12-10T13:55:59.016676Z"
    }
   },
   "outputs": [],
   "source": [
    "#loading in random forest model\n",
    "rf_NLP = load('rand_forest_postwords.joblib')"
   ]
  },
  {
   "cell_type": "code",
   "execution_count": 74,
   "metadata": {
    "ExecuteTime": {
     "end_time": "2019-12-10T14:10:44.054836Z",
     "start_time": "2019-12-10T13:56:18.376204Z"
    }
   },
   "outputs": [
    {
     "name": "stdout",
     "output_type": "stream",
     "text": [
      "RandomForestClassifier(bootstrap=True, class_weight=None, criterion='gini',\n",
      "                       max_depth=None, max_features='auto', max_leaf_nodes=None,\n",
      "                       min_impurity_decrease=0.0, min_impurity_split=None,\n",
      "                       min_samples_leaf=2, min_samples_split=2,\n",
      "                       min_weight_fraction_leaf=0.0, n_estimators=800,\n",
      "                       n_jobs=None, oob_score=False, random_state=1, verbose=0,\n",
      "                       warm_start=False)\n",
      "cross validated scores- [0.7730941  0.76132268 0.76790472 0.77172635 0.76898362]\n",
      "mean of cross validated scores- 0.7686062939331699\n",
      "test score- 0.7718924340249483\n",
      "precision- 0.7468768590124926\n"
     ]
    }
   ],
   "source": [
    "model_fit_score(rf_NLP, X_train, y_train, X_test, y_test)"
   ]
  },
  {
   "cell_type": "code",
   "execution_count": 76,
   "metadata": {
    "ExecuteTime": {
     "end_time": "2019-12-10T14:13:35.308270Z",
     "start_time": "2019-12-10T14:13:35.142744Z"
    }
   },
   "outputs": [],
   "source": [
    "rf_NLP_feature_importances = pd.DataFrame({\n",
    "    'columns':\n",
    "    X.columns,\n",
    "    'importance':\n",
    "    rf_NLP.feature_importances_\n",
    "}).sort_values(by='importance', ascending=False)"
   ]
  },
  {
   "cell_type": "code",
   "execution_count": 78,
   "metadata": {
    "ExecuteTime": {
     "end_time": "2019-12-10T14:13:47.834243Z",
     "start_time": "2019-12-10T14:13:47.826057Z"
    }
   },
   "outputs": [
    {
     "data": {
      "text/html": [
       "<div>\n",
       "<style scoped>\n",
       "    .dataframe tbody tr th:only-of-type {\n",
       "        vertical-align: middle;\n",
       "    }\n",
       "\n",
       "    .dataframe tbody tr th {\n",
       "        vertical-align: top;\n",
       "    }\n",
       "\n",
       "    .dataframe thead th {\n",
       "        text-align: right;\n",
       "    }\n",
       "</style>\n",
       "<table border=\"1\" class=\"dataframe\">\n",
       "  <thead>\n",
       "    <tr style=\"text-align: right;\">\n",
       "      <th></th>\n",
       "      <th>columns</th>\n",
       "      <th>importance</th>\n",
       "    </tr>\n",
       "  </thead>\n",
       "  <tbody>\n",
       "    <tr>\n",
       "      <th>20</th>\n",
       "      <td>last_credit_pull_d</td>\n",
       "      <td>0.163541</td>\n",
       "    </tr>\n",
       "    <tr>\n",
       "      <th>19</th>\n",
       "      <td>total_rec_late_fee</td>\n",
       "      <td>0.026115</td>\n",
       "    </tr>\n",
       "    <tr>\n",
       "      <th>4</th>\n",
       "      <td>int_rate</td>\n",
       "      <td>0.021254</td>\n",
       "    </tr>\n",
       "    <tr>\n",
       "      <th>25</th>\n",
       "      <td>dti_joint</td>\n",
       "      <td>0.021151</td>\n",
       "    </tr>\n",
       "    <tr>\n",
       "      <th>8</th>\n",
       "      <td>dti</td>\n",
       "      <td>0.020578</td>\n",
       "    </tr>\n",
       "  </tbody>\n",
       "</table>\n",
       "</div>"
      ],
      "text/plain": [
       "               columns  importance\n",
       "20  last_credit_pull_d    0.163541\n",
       "19  total_rec_late_fee    0.026115\n",
       "4             int_rate    0.021254\n",
       "25           dti_joint    0.021151\n",
       "8                  dti    0.020578"
      ]
     },
     "execution_count": 78,
     "metadata": {},
     "output_type": "execute_result"
    }
   ],
   "source": [
    "rf_NLP_feature_importances.head()\n",
    "#still the same things are important"
   ]
  },
  {
   "cell_type": "code",
   "execution_count": 79,
   "metadata": {
    "ExecuteTime": {
     "end_time": "2019-12-10T14:14:26.222535Z",
     "start_time": "2019-12-10T14:14:26.203675Z"
    }
   },
   "outputs": [],
   "source": [
    "#introducing KNN because using it later for stacked model\n",
    "neigh = KNeighborsClassifier(n_neighbors=140, n_jobs=2)"
   ]
  },
  {
   "cell_type": "code",
   "execution_count": 80,
   "metadata": {
    "ExecuteTime": {
     "end_time": "2019-12-10T14:29:41.517961Z",
     "start_time": "2019-12-10T14:14:54.399534Z"
    }
   },
   "outputs": [
    {
     "name": "stdout",
     "output_type": "stream",
     "text": [
      "KNeighborsClassifier(algorithm='auto', leaf_size=30, metric='minkowski',\n",
      "                     metric_params=None, n_jobs=2, n_neighbors=140, p=2,\n",
      "                     weights='uniform')\n",
      "cross validated scores- [0.66990519 0.67128977 0.6695659  0.67142074 0.67032364]\n",
      "mean of cross validated scores- 0.6705010474719119\n",
      "test score- 0.672161975803924\n",
      "precision- 0.5523520485584219\n"
     ]
    }
   ],
   "source": [
    "model_fit_score(neigh, X_train, y_train, X_test, y_test)"
   ]
  },
  {
   "cell_type": "code",
   "execution_count": 81,
   "metadata": {
    "ExecuteTime": {
     "end_time": "2019-12-10T14:33:17.950214Z",
     "start_time": "2019-12-10T14:33:14.821471Z"
    }
   },
   "outputs": [],
   "source": [
    "rf_entropy_NLP = load('rf_ent_postword.joblib')"
   ]
  },
  {
   "cell_type": "code",
   "execution_count": 82,
   "metadata": {
    "ExecuteTime": {
     "end_time": "2019-12-10T14:50:33.450727Z",
     "start_time": "2019-12-10T14:33:38.971320Z"
    }
   },
   "outputs": [
    {
     "name": "stdout",
     "output_type": "stream",
     "text": [
      "RandomForestClassifier(bootstrap=True, class_weight=None, criterion='entropy',\n",
      "                       max_depth=None, max_features='auto', max_leaf_nodes=None,\n",
      "                       min_impurity_decrease=0.0, min_impurity_split=None,\n",
      "                       min_samples_leaf=2, min_samples_split=2,\n",
      "                       min_weight_fraction_leaf=0.0, n_estimators=800,\n",
      "                       n_jobs=None, oob_score=False, random_state=1, verbose=0,\n",
      "                       warm_start=False)\n",
      "cross validated scores- [0.77411267 0.76445698 0.77276289 0.77384218 0.77156963]\n",
      "mean of cross validated scores- 0.771348868502306\n",
      "test score- 0.7757161662383251\n",
      "precision- 0.7490593342981187\n"
     ]
    }
   ],
   "source": [
    "model_fit_score(rf_entropy_NLP, X_train, y_train, X_test, y_test)"
   ]
  },
  {
   "cell_type": "code",
   "execution_count": 83,
   "metadata": {
    "ExecuteTime": {
     "end_time": "2019-12-10T14:53:51.691926Z",
     "start_time": "2019-12-10T14:53:51.387768Z"
    }
   },
   "outputs": [],
   "source": [
    "ad_model_NLP = load('ad_model_words.joblib')"
   ]
  },
  {
   "cell_type": "code",
   "execution_count": 85,
   "metadata": {
    "ExecuteTime": {
     "end_time": "2019-12-10T15:44:19.969580Z",
     "start_time": "2019-12-10T15:19:09.990749Z"
    }
   },
   "outputs": [
    {
     "name": "stdout",
     "output_type": "stream",
     "text": [
      "AdaBoostClassifier(algorithm='SAMME.R', base_estimator=None, learning_rate=0.1,\n",
      "                   n_estimators=1000, random_state=1)\n",
      "cross validated scores- [0.7940923  0.79274408 0.79368438 0.79680276 0.79398166]\n",
      "mean of cross validated scores- 0.7942610357643509\n",
      "test score- 0.7915752523036419\n",
      "precision- 0.7494944388270981\n"
     ]
    }
   ],
   "source": [
    "model_fit_score(ad_model_NLP, X_train, y_train, X_test, y_test)"
   ]
  },
  {
   "cell_type": "code",
   "execution_count": 86,
   "metadata": {
    "ExecuteTime": {
     "end_time": "2019-12-10T15:48:27.312146Z",
     "start_time": "2019-12-10T15:48:17.602077Z"
    }
   },
   "outputs": [],
   "source": [
    "xtra_trees_NLP = load('xtra_trees_post_words.joblib')"
   ]
  },
  {
   "cell_type": "code",
   "execution_count": 87,
   "metadata": {
    "ExecuteTime": {
     "end_time": "2019-12-10T16:03:12.568638Z",
     "start_time": "2019-12-10T15:51:08.437838Z"
    }
   },
   "outputs": [
    {
     "name": "stdout",
     "output_type": "stream",
     "text": [
      "ExtraTreesClassifier(bootstrap=False, class_weight=None, criterion='gini',\n",
      "                     max_depth=None, max_features='auto', max_leaf_nodes=None,\n",
      "                     min_impurity_decrease=0.0, min_impurity_split=None,\n",
      "                     min_samples_leaf=1, min_samples_split=2,\n",
      "                     min_weight_fraction_leaf=0.0, n_estimators=800,\n",
      "                     n_jobs=None, oob_score=False, random_state=1, verbose=0,\n",
      "                     warm_start=False)\n",
      "cross validated scores- [0.72960903 0.72441624 0.72410281 0.72439464 0.72470809]\n",
      "mean of cross validated scores- 0.7254461603778217\n",
      "test score- 0.7316492195825237\n",
      "precision- 0.7299006323396567\n"
     ]
    }
   ],
   "source": [
    "model_fit_score(xtra_trees_NLP, X_train, y_train, X_test, y_test)"
   ]
  },
  {
   "cell_type": "markdown",
   "metadata": {},
   "source": [
    "# Stacked Models"
   ]
  },
  {
   "cell_type": "markdown",
   "metadata": {},
   "source": [
    "First step in building a stacked model is to check if the base layer models predictions are correlated- if so there is not much point using a stacked model."
   ]
  },
  {
   "cell_type": "code",
   "execution_count": 101,
   "metadata": {
    "ExecuteTime": {
     "end_time": "2019-12-17T16:14:29.308831Z",
     "start_time": "2019-12-17T16:14:29.267527Z"
    }
   },
   "outputs": [],
   "source": [
    "predictions_df = pd.read_csv('predictions_for_heatmap.csv')"
   ]
  },
  {
   "cell_type": "code",
   "execution_count": 102,
   "metadata": {
    "ExecuteTime": {
     "end_time": "2019-12-17T16:14:30.137939Z",
     "start_time": "2019-12-17T16:14:29.703760Z"
    }
   },
   "outputs": [
    {
     "data": {
      "image/png": "[encoded data removed]",
      "text/plain": [
       "<Figure size 432x288 with 2 Axes>"
      ]
     },
     "metadata": {
      "image/png": {
       "height": 325,
       "width": 416
      },
      "needs_background": "light"
     },
     "output_type": "display_data"
    }
   ],
   "source": [
    "fig, ax = plt.subplots()\n",
    "sns.heatmap(predictions_df.corr(), annot=True, ax=ax)\n",
    "plt.title('model predictions correlation')\n",
    "bottom, top = ax.get_ylim()\n",
    "ax.set_ylim(bottom + 0.5, top - 0.5)"
   ]
  },
  {
   "cell_type": "markdown",
   "metadata": {},
   "source": [
    "Explanation of stacking models-\n",
    "There are some really good posts about this technique around but in essence Stacking models is a way of combining a load of different models (the more uncorrelated the better) and then use another model to create a second layer prediction based on the original data and also the other model predictions. The hope is that the second layer model will see where the first layer models did badly and where they did well, thus smoothing out the wrinkles in the models. One example is from space missions. During space missions its really important that all signals are correct otherwise you could die, so the simplest solution around making sure there was very little chance of error was repetition-code. In practice this meant relaying a signal multiple times in equal chuncks and then having a majority vote on which one was correct. This can be extrapolated to machine learning models. Say for instance if we had three models and they all had 0.8 accuracy if we used majority voting the ensemble would have an accuracy of 0.9- can argue that the model is more robust. However not much point if they all preidct the same thing which means uncorrelated predictions are important. \n",
    "\n",
    "process for stacked generalization -\n",
    "split the training data\n",
    "fit first stage model on first bit of training data and create predictions for other bit\n",
    "do the reverse for the same model\n",
    "do this for however many models you want\n",
    "now train a second stage stacker model on predictions from first \n",
    "\n",
    "I have created a class that is basically an extension of an sk learn model that also does the above process as well.\n",
    "\n",
    "Some of the inspiration for the first layer predict function can be found here-\n",
    "https://github.com/emanuele/kaggle_pbr/blob/master/blend.py\n",
    "and\n",
    "https://www.kaggle.com/arthurtok/introduction-to-ensembling-stacking-in-python\n",
    "\n",
    "also one of the MLWave ones is very cool but a bit more complex \n",
    "https://github.com/MLWave/Kaggle-Ensemble-Guide/blob/master/src/blend_proba.py\n",
    "\n",
    "all of these were using depreciated functions and older code so here is a more up to date one\n",
    "https://www.analyticsvidhya.com/blog/2018/06/comprehensive-guide-for-ensemble-models/\n",
    "\n"
   ]
  },
  {
   "cell_type": "code",
   "execution_count": 9,
   "metadata": {
    "ExecuteTime": {
     "end_time": "2019-12-16T15:39:30.351326Z",
     "start_time": "2019-12-16T15:39:30.347363Z"
    }
   },
   "outputs": [],
   "source": [
    "kf = KFold(n_splits=5, random_state=1, shuffle=False)"
   ]
  },
  {
   "cell_type": "code",
   "execution_count": 67,
   "metadata": {
    "ExecuteTime": {
     "end_time": "2019-12-17T08:29:01.074957Z",
     "start_time": "2019-12-17T08:29:01.038211Z"
    }
   },
   "outputs": [],
   "source": [
    "class stacked_model():\n",
    "    #passthrough means that the second layer model uses the training data as well as the first layer predictions\n",
    "    #use probability means that the second layer model uses model.predict_proba() rather than predicting classes instead\n",
    "    def __init__(self,\n",
    "                 base_models,\n",
    "                 second_layer_model,\n",
    "                 use_probability=False,\n",
    "                 allow_passthrough=False):\n",
    "        self.base_models = base_models\n",
    "        self.second_layer_model = second_layer_model\n",
    "        self.use_probability = use_probability\n",
    "        self.allow_passthrough = allow_passthrough\n",
    "        self.first_layer_train_preds = None\n",
    "        self.first_layer_test_preds = None\n",
    "\n",
    "    #this function gets first level model predictions and stores them within the class object\n",
    "    def first_layer_predict(self, X_train, X_test, y_train):\n",
    "        '''get out of fold predictions from a model \n",
    "        for training set and test set'''\n",
    "\n",
    "        #creating array to fit all the first layer models predictions in\n",
    "        first_layer_training = np.zeros(\n",
    "            (X_train.shape[0], len(self.base_models)))\n",
    "        first_layer_test = np.zeros((X_test.shape[0], len(self.base_models)))\n",
    "\n",
    "        #this is for if we want to use prediction probabilities or the predicted classes for second layer model\n",
    "        if self.use_probability == False:\n",
    "\n",
    "            for ind, clf in enumerate(self.base_models):\n",
    "                #init what we are going to put our predictions into\n",
    "                #predictions on training set\n",
    "                oof_train = np.zeros((X_train.shape[0], ))\n",
    "                #predictions on test set\n",
    "                oof_test = np.zeros((X_test.shape[0], ))\n",
    "                #aggregating the predictions\n",
    "                oof_test_batch = np.empty((5, X_test.shape[0]))\n",
    "\n",
    "                #now going to loop over folds in our dataset and fit a model on the training data\n",
    "                #then we predict on the training set and the test set\n",
    "                for i, (train_index, test_index) in enumerate(\n",
    "                        kf.split(X_train, y_train.values)):\n",
    "\n",
    "                    #because x is a numpy array and y is a pandas series have to do iloc on y but not on x\n",
    "                    x_batch_train = X_train[train_index]\n",
    "                    y_batch_train = y_train.iloc[train_index]\n",
    "                    x_batch_test = X_train[test_index]\n",
    "\n",
    "                    #here we are training the classifier\n",
    "                    clf.fit(x_batch_train, y_batch_train)\n",
    "                    #curious as to what scores my model is getting throughout\n",
    "                    print(clf.score(X_train, y_train))\n",
    "\n",
    "                    #here we are training the classifier\n",
    "                    #storing predictions for the test batch of X_train (bit confusing terminology)\n",
    "                    oof_train[test_index] = clf.predict(x_batch_test)\n",
    "                    #storing predictions for X_test\n",
    "                    oof_test_batch[i, :] = clf.predict(X_test)\n",
    "                #aggregating the batches\n",
    "                oof_test[:] = oof_test_batch.mean(axis=0)\n",
    "                #reshaping so they are columns instead of rows -easier to put back into a dataframe\n",
    "                first_layer_training[:,\n",
    "                                     ind] = np.ravel(oof_train.reshape(-1, 1))\n",
    "                first_layer_test[:, ind] = np.ravel(oof_test.reshape(-1, 1))\n",
    "\n",
    "            #now putting all the predictions for the first layer into self so can use the second layer for predictions\n",
    "            if self.allow_passthrough == False:\n",
    "\n",
    "                self.first_layer_train_preds = first_layer_training\n",
    "                self.first_layer_test_preds = first_layer_test\n",
    "                return first_layer_training, first_layer_test\n",
    "\n",
    "            else:\n",
    "\n",
    "                first_layer_train_data = np.concatenate(\n",
    "                    (X_train, first_layer_training), axis=1)\n",
    "                first_layer_test_data = np.concatenate(\n",
    "                    (X_test, first_layer_test), axis=1)\n",
    "                self.first_layer_train_preds = first_layer_train_data\n",
    "                self.first_layer_test_preds = first_layer_test_data\n",
    "                return first_layer_train_data, first_layer_test_data\n",
    "\n",
    "        else:\n",
    "\n",
    "            for ind, clf in enumerate(self.base_models):\n",
    "                #init what we are going to put our predictions into\n",
    "                #predictions on training set\n",
    "                oof_train = np.zeros((X_train.shape[0], ))\n",
    "                #predictions on test set\n",
    "                oof_test = np.zeros((X_test.shape[0], ))\n",
    "                #aggregating the predictions\n",
    "                oof_test_batch = np.empty((5, X_test.shape[0]))\n",
    "\n",
    "                #now going to loop over folds in our dataset and fit a model on the training data\n",
    "                #then we predict on the training set and the test set\n",
    "                for i, (train_index, test_index) in enumerate(\n",
    "                        kf.split(X_train, y_train.values)):\n",
    "\n",
    "                    #because x is a numpy array and y is a pandas series have to do iloc on y but not on x\n",
    "                    x_batch_train = X_train[train_index]\n",
    "                    y_batch_train = y_train.iloc[train_index]\n",
    "                    x_batch_test = X_train[test_index]\n",
    "\n",
    "                    #here we are training the classifier\n",
    "                    clf.fit(x_batch_train, y_batch_train)\n",
    "                    #curious as to what scores my model is getting throughout\n",
    "                    print(clf.score(X_train, y_train))\n",
    "\n",
    "                    #here we are training the classifier\n",
    "                    #storing predictions for the test batch of X_train (bit confusing terminology)\n",
    "                    oof_train[test_index] = clf.predict_proba(x_batch_test)[:,\n",
    "                                                                            0]\n",
    "                    #storing predictions for X_test\n",
    "                    oof_test_batch[i, :] = clf.predict_proba(X_test)[:, 0]\n",
    "                #aggregating the batches\n",
    "                oof_test[:] = oof_test_batch.mean(axis=0)\n",
    "                #reshaping so they are columns instead of rows -easier to put back into a dataframe\n",
    "                first_layer_training[:,\n",
    "                                     ind] = np.ravel(oof_train.reshape(-1, 1))\n",
    "                first_layer_test[:, ind] = np.ravel(oof_test.reshape(-1, 1))\n",
    "\n",
    "            #now putting all the predictions for the first layer into self so can use the second layer for predictions\n",
    "            if self.allow_passthrough == False:\n",
    "\n",
    "                self.first_layer_train_preds = first_layer_training\n",
    "                self.first_layer_test_preds = first_layer_test\n",
    "                return first_layer_training, first_layer_test\n",
    "\n",
    "            else:\n",
    "\n",
    "                first_layer_train_data = np.concatenate(\n",
    "                    (X_train, first_layer_training), axis=1)\n",
    "                first_layer_test_data = np.concatenate(\n",
    "                    (X_test, first_layer_test), axis=1)\n",
    "                self.first_layer_train_preds = first_layer_train_data\n",
    "                self.first_layer_test_preds = first_layer_test_data\n",
    "                return first_layer_train_data, first_layer_test_data\n",
    "\n",
    "    #fits second layer model onto X_train predictions\n",
    "    def second_layer_fit(self, y_train):\n",
    "\n",
    "        self.second_layer_model.fit(self.first_layer_train_preds, y_train)\n",
    "\n",
    "    def get_first_layer_preds(self):\n",
    "        return self.first_layer_train_preds\n",
    "\n",
    "    #returns the cv scores and its mean for the model\n",
    "    def cv_score(self, X_train, y_train, cv=5, shuffle=False):\n",
    "\n",
    "        if X_train == None:\n",
    "            cv_scores = cross_val_score(self.second_layer_model,\n",
    "                                        self.first_layer_train_preds,\n",
    "                                        y_train,\n",
    "                                        cv=cv,\n",
    "                                        shuffle=shuffle)\n",
    "            return cv_scores, cv_scores.mean()\n",
    "        else:\n",
    "            cv_scores = cross_val_score(self.second_layer_model,\n",
    "                                        X_train,\n",
    "                                        y_train,\n",
    "                                        cv=cv,\n",
    "                                        shuffle=shuffle)\n",
    "            return cv_scores, cv_scores.mean()\n",
    "\n",
    "    #same as sklearn version basically\n",
    "    def score(self, X, y):\n",
    "\n",
    "        if X == 'train':\n",
    "            return self.second_layer_model.score(self.first_layer_train_preds,\n",
    "                                                 y)\n",
    "\n",
    "        if X == 'test':\n",
    "            return self.second_layer_model.score(self.first_layer_test_preds,\n",
    "                                                 y)\n",
    "        else:\n",
    "            return self.second_layer_model.score(X, y)\n",
    "\n",
    "    def predict(self, X='train'):\n",
    "\n",
    "        if X == 'train':\n",
    "            return self.second_layer_model.predict(\n",
    "                self.first_layer_train_preds)\n",
    "\n",
    "        if X == 'test':\n",
    "            return self.second_layer_model.predict(self.first_layer_test_preds)\n",
    "\n",
    "        else:\n",
    "            return self.second_layer_model.predict(X)\n",
    "\n",
    "    def predict_probs(self, X):\n",
    "        return self.second_layer_model.predict_proba(X)\n",
    "\n",
    "    def get_features(self):\n",
    "        return self.second_layer_model.feature_importances_"
   ]
  },
  {
   "cell_type": "code",
   "execution_count": 24,
   "metadata": {
    "ExecuteTime": {
     "end_time": "2019-12-16T16:17:00.538364Z",
     "start_time": "2019-12-16T16:17:00.521661Z"
    }
   },
   "outputs": [],
   "source": [
    "neigh = KNeighborsClassifier(n_neighbors=140, n_jobs=3)\n",
    "\n",
    "rf_ent = RandomForestClassifier(n_estimators=800,\n",
    "                                random_state=1,\n",
    "                                min_samples_leaf=2,\n",
    "                                criterion='entropy')\n",
    "\n",
    "rf = RandomForestClassifier(n_estimators=800,\n",
    "                            random_state=1,\n",
    "                            min_samples_leaf=2)\n",
    "\n",
    "ad_model = AdaBoostClassifier(n_estimators=1000,\n",
    "                              learning_rate=0.1,\n",
    "                              random_state=1)\n",
    "\n",
    "log_reg = LogisticRegression(C=4.281332398719396,\n",
    "                             penalty='l2',\n",
    "                             solver='saga',\n",
    "                             max_iter=10000,\n",
    "                             random_state=1)\n",
    "\n",
    "xtra_trees = ExtraTreesClassifier(800, random_state=1)\n",
    "\n",
    "xg_reg = xgb.XGBClassifier(objective='reg:logistic',\n",
    "                           colsample_bytree=0.3,\n",
    "                           learning_rate=0.01,\n",
    "                           max_depth=2,\n",
    "                           min_child_weight=4,\n",
    "                           gamma=0.1,\n",
    "                           n_estimators=800)\n",
    "\n",
    "xg_test = xgb.XGBClassifier(learning_rate=0.08,\n",
    "                            n_estimators=1500,\n",
    "                            max_depth=3,\n",
    "                            min_child_weight=1,\n",
    "                            gamma=0.6,\n",
    "                            subsample=0.4,\n",
    "                            colsample_bytree=0.8,\n",
    "                            objective='binary:logistic',\n",
    "                            nthread=4,\n",
    "                            scale_pos_weight=1,\n",
    "                            reg_alpha=0.0001,\n",
    "                            eval_metric='error')"
   ]
  },
  {
   "cell_type": "code",
   "execution_count": 68,
   "metadata": {
    "ExecuteTime": {
     "end_time": "2019-12-17T10:44:14.844087Z",
     "start_time": "2019-12-17T08:29:07.372171Z"
    }
   },
   "outputs": [
    {
     "name": "stdout",
     "output_type": "stream",
     "text": [
      "0.6722092494789136\n",
      "0.6715196915795577\n",
      "0.6720838753153944\n",
      "0.6712062561707596\n",
      "0.6717547681361563\n",
      "0.95469291165823\n",
      "0.9521384130765252\n",
      "0.9550690341487877\n",
      "0.9544735068720713\n",
      "0.9541600714632732\n",
      "0.9516996035042079\n",
      "0.949489883872181\n",
      "0.951683931733768\n",
      "0.9512764657023304\n",
      "0.9506182513438544\n",
      "0.795812502938457\n",
      "0.7963296713629738\n",
      "0.7960632512654955\n",
      "0.795640113463618\n",
      "0.7961729536585748\n",
      "0.7131439138679496\n",
      "0.7129401808522309\n",
      "0.7133163033427886\n",
      "0.7136297387515868\n",
      "0.7141625789465436\n",
      "0.9461674685389209\n",
      "0.9441614819226128\n",
      "0.9448823833628485\n",
      "0.9451174599194471\n",
      "0.945133131689887\n",
      "0.7869892961807895\n",
      "0.7870363114921093\n",
      "0.7871616856556285\n",
      "0.7869892961807895\n",
      "0.7871930291965084\n"
     ]
    },
    {
     "data": {
      "text/plain": [
       "(array([[-1.70393885, -1.70393885, -1.70393885, ...,  0.        ,\n",
       "          0.        ,  0.        ],\n",
       "        [ 0.59872543,  0.59872543,  0.59872543, ...,  0.        ,\n",
       "          0.        ,  0.        ],\n",
       "        [-0.70804067, -0.70804067, -0.70804067, ...,  0.        ,\n",
       "          0.        ,  0.        ],\n",
       "        ...,\n",
       "        [ 0.4405112 ,  0.4405112 ,  0.4405112 , ...,  0.        ,\n",
       "          0.        ,  0.        ],\n",
       "        [-1.50849519, -1.50849519, -1.50849519, ...,  0.        ,\n",
       "          0.        ,  0.        ],\n",
       "        [ 1.64171427,  1.64171427,  1.64171427, ...,  0.        ,\n",
       "          0.        ,  0.        ]]),\n",
       " array([[ 0.07603636,  0.07603636,  0.07603636, ...,  0.        ,\n",
       "          0.        ,  0.        ],\n",
       "        [-0.95535358, -0.95535358, -0.95535358, ...,  0.        ,\n",
       "          0.        ,  0.        ],\n",
       "        [ 1.70952657,  1.70952657,  1.70952657, ...,  0.        ,\n",
       "          1.        ,  1.        ],\n",
       "        ...,\n",
       "        [-1.47400257, -1.47400257, -1.47400257, ...,  0.        ,\n",
       "          0.        ,  0.        ],\n",
       "        [ 0.28320925,  0.28320925,  0.28320925, ...,  1.        ,\n",
       "          1.        ,  1.        ],\n",
       "        [ 0.27334801,  0.27334801,  0.27334801, ...,  0.        ,\n",
       "          0.        ,  0.        ]]))"
      ]
     },
     "execution_count": 68,
     "metadata": {},
     "output_type": "execute_result"
    }
   ],
   "source": [
    "model_list = [neigh, rf_ent, rf, ad_model, log_reg, xtra_trees, xg_reg]\n",
    "\n",
    "#I included a print statement so could see that the function was still running\n",
    "stacked_classifier = stacked_model(base_models=model_list,\n",
    "                                   second_layer_model=xg_test,\n",
    "                                   use_probability=False,\n",
    "                                   allow_passthrough=True)\n",
    "stacked_classifier.first_layer_predict(X_train, X_test, y_train)"
   ]
  },
  {
   "cell_type": "code",
   "execution_count": 71,
   "metadata": {
    "ExecuteTime": {
     "end_time": "2019-12-17T11:03:27.227616Z",
     "start_time": "2019-12-17T10:52:03.304815Z"
    }
   },
   "outputs": [],
   "source": [
    "stacked_classifier.second_layer_fit(y_train)"
   ]
  },
  {
   "cell_type": "code",
   "execution_count": 72,
   "metadata": {
    "ExecuteTime": {
     "end_time": "2019-12-17T11:03:31.054281Z",
     "start_time": "2019-12-17T11:03:27.238221Z"
    }
   },
   "outputs": [
    {
     "data": {
      "text/plain": [
       "0.8308232381012083"
      ]
     },
     "execution_count": 72,
     "metadata": {},
     "output_type": "execute_result"
    }
   ],
   "source": [
    "stacked_classifier.score(X='train', y=y_train)"
   ]
  },
  {
   "cell_type": "code",
   "execution_count": 73,
   "metadata": {
    "ExecuteTime": {
     "end_time": "2019-12-17T11:03:31.982525Z",
     "start_time": "2019-12-17T11:03:31.060272Z"
    }
   },
   "outputs": [
    {
     "data": {
      "text/plain": [
       "0.793016987400489"
      ]
     },
     "execution_count": 73,
     "metadata": {},
     "output_type": "execute_result"
    }
   ],
   "source": [
    "stacked_classifier.score(X='test', y=y_test)"
   ]
  },
  {
   "cell_type": "code",
   "execution_count": 74,
   "metadata": {
    "ExecuteTime": {
     "end_time": "2019-12-17T11:03:50.209521Z",
     "start_time": "2019-12-17T11:03:50.184682Z"
    }
   },
   "outputs": [],
   "source": [
    "first_layer_predictions = stacked_classifier.get_first_layer_preds()"
   ]
  },
  {
   "cell_type": "code",
   "execution_count": 56,
   "metadata": {
    "ExecuteTime": {
     "end_time": "2019-12-16T20:56:21.561522Z",
     "start_time": "2019-12-16T20:45:20.095346Z"
    }
   },
   "outputs": [
    {
     "data": {
      "text/plain": [
       "0.8308232381012083"
      ]
     },
     "execution_count": 56,
     "metadata": {},
     "output_type": "execute_result"
    }
   ],
   "source": [
    "xg_test = xgb.XGBClassifier(learning_rate=0.08,\n",
    "                            n_estimators=1500,\n",
    "                            max_depth=3,\n",
    "                            min_child_weight=1,\n",
    "                            gamma=0.6,\n",
    "                            subsample=0.4,\n",
    "                            colsample_bytree=0.8,\n",
    "                            objective='binary:logistic',\n",
    "                            nthread=4,\n",
    "                            scale_pos_weight=1,\n",
    "                            reg_alpha=0.0001,\n",
    "                            eval_metric='error')\n",
    "xg_test.fit(first_layer_predictions, y_train)\n",
    "xg_test.score(first_layer_predictions, y_train)"
   ]
  },
  {
   "cell_type": "code",
   "execution_count": 75,
   "metadata": {
    "ExecuteTime": {
     "end_time": "2019-12-17T11:04:08.683861Z",
     "start_time": "2019-12-17T11:04:08.534850Z"
    }
   },
   "outputs": [
    {
     "name": "stderr",
     "output_type": "stream",
     "text": [
      "//anaconda3/lib/python3.7/site-packages/xgboost/core.py:587: FutureWarning: Series.base is deprecated and will be removed in a future version\n",
      "  if getattr(data, 'base', None) is not None and \\\n"
     ]
    }
   ],
   "source": [
    "#putting my data into a matrix to allow for cross validation\n",
    "training_matrix = xgb.DMatrix(data=first_layer_predictions, label=y_train)"
   ]
  },
  {
   "cell_type": "code",
   "execution_count": 76,
   "metadata": {
    "ExecuteTime": {
     "end_time": "2019-12-17T11:04:14.268517Z",
     "start_time": "2019-12-17T11:04:14.170399Z"
    }
   },
   "outputs": [],
   "source": [
    "param_dict = {\n",
    "    'learning_rate': 0.1,\n",
    "    'n_estimators': 1000,\n",
    "    'max_depth': 6,\n",
    "    'min_child_weight': 1,\n",
    "    'gamma': 0.5,\n",
    "    'subsample': 0.8,\n",
    "    'colsample_bytree': 0.8,\n",
    "    'objective': 'binary:logistic',\n",
    "    'nthread': 4,\n",
    "    'scale_pos_weight': 1,\n",
    "    'seed': 27,\n",
    "    'reg_alpha': 0.0001,\n",
    "    'eval_metric': 'error',\n",
    "}"
   ]
  },
  {
   "cell_type": "code",
   "execution_count": 77,
   "metadata": {
    "ExecuteTime": {
     "end_time": "2019-12-17T11:15:56.078559Z",
     "start_time": "2019-12-17T11:04:15.433605Z"
    }
   },
   "outputs": [],
   "source": [
    "cv_results = xgb.cv(dtrain=training_matrix,\n",
    "                    params=param_dict,\n",
    "                    nfold=5,\n",
    "                    num_boost_round=1000,\n",
    "                    early_stopping_rounds=200,\n",
    "                    metrics=\"error\",\n",
    "                    as_pandas=True,\n",
    "                    seed=123)"
   ]
  },
  {
   "cell_type": "code",
   "execution_count": 78,
   "metadata": {
    "ExecuteTime": {
     "end_time": "2019-12-17T11:15:56.126413Z",
     "start_time": "2019-12-17T11:15:56.084029Z"
    }
   },
   "outputs": [
    {
     "data": {
      "text/html": [
       "<div>\n",
       "<style scoped>\n",
       "    .dataframe tbody tr th:only-of-type {\n",
       "        vertical-align: middle;\n",
       "    }\n",
       "\n",
       "    .dataframe tbody tr th {\n",
       "        vertical-align: top;\n",
       "    }\n",
       "\n",
       "    .dataframe thead th {\n",
       "        text-align: right;\n",
       "    }\n",
       "</style>\n",
       "<table border=\"1\" class=\"dataframe\">\n",
       "  <thead>\n",
       "    <tr style=\"text-align: right;\">\n",
       "      <th></th>\n",
       "      <th>train-error-mean</th>\n",
       "      <th>train-error-std</th>\n",
       "      <th>test-error-mean</th>\n",
       "      <th>test-error-std</th>\n",
       "    </tr>\n",
       "  </thead>\n",
       "  <tbody>\n",
       "    <tr>\n",
       "      <th>31</th>\n",
       "      <td>0.194381</td>\n",
       "      <td>0.001046</td>\n",
       "      <td>0.201884</td>\n",
       "      <td>0.003177</td>\n",
       "    </tr>\n",
       "    <tr>\n",
       "      <th>32</th>\n",
       "      <td>0.194201</td>\n",
       "      <td>0.001096</td>\n",
       "      <td>0.201790</td>\n",
       "      <td>0.003023</td>\n",
       "    </tr>\n",
       "    <tr>\n",
       "      <th>33</th>\n",
       "      <td>0.194044</td>\n",
       "      <td>0.000991</td>\n",
       "      <td>0.201617</td>\n",
       "      <td>0.003242</td>\n",
       "    </tr>\n",
       "    <tr>\n",
       "      <th>34</th>\n",
       "      <td>0.193930</td>\n",
       "      <td>0.001015</td>\n",
       "      <td>0.201492</td>\n",
       "      <td>0.003425</td>\n",
       "    </tr>\n",
       "    <tr>\n",
       "      <th>35</th>\n",
       "      <td>0.193762</td>\n",
       "      <td>0.000992</td>\n",
       "      <td>0.201163</td>\n",
       "      <td>0.003368</td>\n",
       "    </tr>\n",
       "  </tbody>\n",
       "</table>\n",
       "</div>"
      ],
      "text/plain": [
       "    train-error-mean  train-error-std  test-error-mean  test-error-std\n",
       "31          0.194381         0.001046         0.201884        0.003177\n",
       "32          0.194201         0.001096         0.201790        0.003023\n",
       "33          0.194044         0.000991         0.201617        0.003242\n",
       "34          0.193930         0.001015         0.201492        0.003425\n",
       "35          0.193762         0.000992         0.201163        0.003368"
      ]
     },
     "execution_count": 78,
     "metadata": {},
     "output_type": "execute_result"
    }
   ],
   "source": [
    "cv_results.tail()"
   ]
  },
  {
   "cell_type": "code",
   "execution_count": 83,
   "metadata": {
    "ExecuteTime": {
     "end_time": "2019-12-17T11:21:31.931997Z",
     "start_time": "2019-12-17T11:21:31.858689Z"
    }
   },
   "outputs": [
    {
     "data": {
      "text/html": [
       "<div>\n",
       "<style scoped>\n",
       "    .dataframe tbody tr th:only-of-type {\n",
       "        vertical-align: middle;\n",
       "    }\n",
       "\n",
       "    .dataframe tbody tr th {\n",
       "        vertical-align: top;\n",
       "    }\n",
       "\n",
       "    .dataframe thead th {\n",
       "        text-align: right;\n",
       "    }\n",
       "</style>\n",
       "<table border=\"1\" class=\"dataframe\">\n",
       "  <thead>\n",
       "    <tr style=\"text-align: right;\">\n",
       "      <th></th>\n",
       "      <th>models</th>\n",
       "      <th>model_importance as second level features</th>\n",
       "    </tr>\n",
       "  </thead>\n",
       "  <tbody>\n",
       "    <tr>\n",
       "      <th>0</th>\n",
       "      <td>rf_entropy</td>\n",
       "      <td>0.003117</td>\n",
       "    </tr>\n",
       "    <tr>\n",
       "      <th>1</th>\n",
       "      <td>rf_normal</td>\n",
       "      <td>0.019631</td>\n",
       "    </tr>\n",
       "    <tr>\n",
       "      <th>2</th>\n",
       "      <td>ada_boost</td>\n",
       "      <td>0.010465</td>\n",
       "    </tr>\n",
       "    <tr>\n",
       "      <th>3</th>\n",
       "      <td>logistic_regression</td>\n",
       "      <td>0.186486</td>\n",
       "    </tr>\n",
       "    <tr>\n",
       "      <th>4</th>\n",
       "      <td>extra_trees</td>\n",
       "      <td>0.024316</td>\n",
       "    </tr>\n",
       "    <tr>\n",
       "      <th>5</th>\n",
       "      <td>knn</td>\n",
       "      <td>0.008428</td>\n",
       "    </tr>\n",
       "    <tr>\n",
       "      <th>6</th>\n",
       "      <td>xgboost</td>\n",
       "      <td>0.151216</td>\n",
       "    </tr>\n",
       "  </tbody>\n",
       "</table>\n",
       "</div>"
      ],
      "text/plain": [
       "                models  model_importance as second level features\n",
       "0           rf_entropy                                   0.003117\n",
       "1            rf_normal                                   0.019631\n",
       "2            ada_boost                                   0.010465\n",
       "3  logistic_regression                                   0.186486\n",
       "4          extra_trees                                   0.024316\n",
       "5                  knn                                   0.008428\n",
       "6              xgboost                                   0.151216"
      ]
     },
     "execution_count": 83,
     "metadata": {},
     "output_type": "execute_result"
    }
   ],
   "source": [
    "#highlighting the first level model importances to the second level model\n",
    "model_importances = pd.DataFrame({\n",
    "    'models': [\n",
    "        'rf_entropy', 'rf_normal', 'ada_boost', 'logistic_regression',\n",
    "        'extra_trees', 'knn', 'xgboost'\n",
    "    ],\n",
    "    'model_importance as second level features':\n",
    "    stacked_classifier.get_features()[-7:]\n",
    "})\n",
    "\n",
    "model_importances"
   ]
  },
  {
   "cell_type": "markdown",
   "metadata": {},
   "source": [
    "#### Stacking using probabilities"
   ]
  },
  {
   "cell_type": "markdown",
   "metadata": {},
   "source": [
    "After trying to use purely class predictions from the first level models, I went on to use the class prediction probabilities from the first layer of models to see if it would improve the accuracy scores."
   ]
  },
  {
   "cell_type": "code",
   "execution_count": 85,
   "metadata": {
    "ExecuteTime": {
     "end_time": "2019-12-17T13:40:32.444126Z",
     "start_time": "2019-12-17T11:24:49.693600Z"
    }
   },
   "outputs": [
    {
     "name": "stdout",
     "output_type": "stream",
     "text": [
      "0.6722092494789136\n",
      "0.6715196915795577\n",
      "0.6720838753153944\n",
      "0.6712062561707596\n",
      "0.6717547681361563\n",
      "0.95469291165823\n",
      "0.9521384130765252\n",
      "0.9550690341487877\n",
      "0.9544735068720713\n",
      "0.9541600714632732\n",
      "0.9516996035042079\n",
      "0.949489883872181\n",
      "0.951683931733768\n",
      "0.9512764657023304\n",
      "0.9506182513438544\n",
      "0.795812502938457\n",
      "0.7963296713629738\n",
      "0.7960632512654955\n",
      "0.795640113463618\n",
      "0.7961729536585748\n",
      "0.7131439138679496\n",
      "0.7129401808522309\n",
      "0.7133163033427886\n",
      "0.7136297387515868\n",
      "0.7141625789465436\n",
      "0.9461674685389209\n",
      "0.9441614819226128\n",
      "0.9448823833628485\n",
      "0.9451174599194471\n",
      "0.945133131689887\n",
      "0.7869892961807895\n",
      "0.7870363114921093\n",
      "0.7871616856556285\n",
      "0.7869892961807895\n",
      "0.7871930291965084\n"
     ]
    },
    {
     "data": {
      "text/plain": [
       "(array([[-1.70393885, -1.70393885, -1.70393885, ...,  0.89223372,\n",
       "          0.8375    ,  0.93965614],\n",
       "        [ 0.59872543,  0.59872543,  0.59872543, ...,  0.61760048,\n",
       "          0.695     ,  0.73261505],\n",
       "        [-0.70804067, -0.70804067, -0.70804067, ...,  0.80050709,\n",
       "          0.72125   ,  0.95105255],\n",
       "        ...,\n",
       "        [ 0.4405112 ,  0.4405112 ,  0.4405112 , ...,  0.98661626,\n",
       "          0.8675    ,  0.95575786],\n",
       "        [-1.50849519, -1.50849519, -1.50849519, ...,  0.72750246,\n",
       "          0.8075    ,  0.77973521],\n",
       "        [ 1.64171427,  1.64171427,  1.64171427, ...,  0.85595424,\n",
       "          0.7725    ,  0.96598852]]),\n",
       " array([[ 0.07603636,  0.07603636,  0.07603636, ...,  0.61355722,\n",
       "          0.62125   ,  0.65520481],\n",
       "        [-0.95535358, -0.95535358, -0.95535358, ...,  0.75745134,\n",
       "          0.7805    ,  0.94485737],\n",
       "        [ 1.70952657,  1.70952657,  1.70952657, ...,  0.63453987,\n",
       "          0.46625   ,  0.20089084],\n",
       "        ...,\n",
       "        [-1.47400257, -1.47400257, -1.47400257, ...,  0.62693632,\n",
       "          0.59175   ,  0.66463327],\n",
       "        [ 0.28320925,  0.28320925,  0.28320925, ...,  0.02914267,\n",
       "          0.34775   ,  0.21552068],\n",
       "        [ 0.27334801,  0.27334801,  0.27334801, ...,  0.9799201 ,\n",
       "          0.85      ,  0.8966996 ]]))"
      ]
     },
     "execution_count": 85,
     "metadata": {},
     "output_type": "execute_result"
    }
   ],
   "source": [
    "stacked_probability = stacked_model(base_models=model_list,\n",
    "                                    second_layer_model=xg_test,\n",
    "                                    use_probability=True,\n",
    "                                    allow_passthrough=True)\n",
    "stacked_probability.first_layer_predict(X_train, X_test, y_train)"
   ]
  },
  {
   "cell_type": "code",
   "execution_count": 86,
   "metadata": {
    "ExecuteTime": {
     "end_time": "2019-12-17T13:52:57.842643Z",
     "start_time": "2019-12-17T13:42:09.463472Z"
    }
   },
   "outputs": [],
   "source": [
    "stacked_probability.second_layer_fit(y_train)"
   ]
  },
  {
   "cell_type": "code",
   "execution_count": 87,
   "metadata": {
    "ExecuteTime": {
     "end_time": "2019-12-17T13:53:37.466339Z",
     "start_time": "2019-12-17T13:53:34.623103Z"
    }
   },
   "outputs": [
    {
     "data": {
      "text/plain": [
       "0.8302277108244919"
      ]
     },
     "execution_count": 87,
     "metadata": {},
     "output_type": "execute_result"
    }
   ],
   "source": [
    "stacked_probability.score(X='train', y=y_train)"
   ]
  },
  {
   "cell_type": "code",
   "execution_count": 88,
   "metadata": {
    "ExecuteTime": {
     "end_time": "2019-12-17T13:54:22.327326Z",
     "start_time": "2019-12-17T13:54:21.592281Z"
    }
   },
   "outputs": [
    {
     "data": {
      "text/plain": [
       "0.7943960383626903"
      ]
     },
     "execution_count": 88,
     "metadata": {},
     "output_type": "execute_result"
    }
   ],
   "source": [
    "stacked_probability.score(X='test', y=y_test)"
   ]
  },
  {
   "cell_type": "code",
   "execution_count": 89,
   "metadata": {
    "ExecuteTime": {
     "end_time": "2019-12-17T13:55:08.050685Z",
     "start_time": "2019-12-17T13:55:08.044433Z"
    }
   },
   "outputs": [],
   "source": [
    "first_layer_predictions_proba = stacked_probability.get_first_layer_preds()"
   ]
  },
  {
   "cell_type": "code",
   "execution_count": 112,
   "metadata": {
    "ExecuteTime": {
     "end_time": "2019-12-11T09:50:26.993068Z",
     "start_time": "2019-12-11T09:50:26.977417Z"
    }
   },
   "outputs": [],
   "source": [
    "#setting parameters for model\n",
    "xg_prob = xgb.XGBClassifier(learning_rate=0.08,\n",
    "                            n_estimators=1500,\n",
    "                            max_depth=5,\n",
    "                            min_child_weight=1,\n",
    "                            gamma=0.6,\n",
    "                            subsample=0.4,\n",
    "                            colsample_bytree=0.8,\n",
    "                            objective='binary:logistic',\n",
    "                            nthread=4,\n",
    "                            scale_pos_weight=1,\n",
    "                            reg_alpha=0.0001,\n",
    "                            eval_metric='error')"
   ]
  },
  {
   "cell_type": "code",
   "execution_count": 114,
   "metadata": {
    "ExecuteTime": {
     "end_time": "2019-12-11T10:06:09.456764Z",
     "start_time": "2019-12-11T09:50:43.906260Z"
    }
   },
   "outputs": [
    {
     "data": {
      "text/plain": [
       "XGBClassifier(base_score=0.5, booster='gbtree', colsample_bylevel=1,\n",
       "              colsample_bynode=1, colsample_bytree=0.8, eval_metric='error',\n",
       "              gamma=0.6, learning_rate=0.08, max_delta_step=0, max_depth=5,\n",
       "              min_child_weight=1, missing=None, n_estimators=1500, n_jobs=1,\n",
       "              nthread=4, objective='binary:logistic', random_state=0,\n",
       "              reg_alpha=0.0001, reg_lambda=1, scale_pos_weight=1, seed=None,\n",
       "              silent=None, subsample=0.4, verbosity=1)"
      ]
     },
     "execution_count": 114,
     "metadata": {},
     "output_type": "execute_result"
    }
   ],
   "source": [
    "#fitting model\n",
    "xg_prob.fit(data_and_probabilites_train, y_train)"
   ]
  },
  {
   "cell_type": "code",
   "execution_count": 90,
   "metadata": {
    "ExecuteTime": {
     "end_time": "2019-12-17T13:55:23.022679Z",
     "start_time": "2019-12-17T13:55:22.948920Z"
    }
   },
   "outputs": [
    {
     "name": "stderr",
     "output_type": "stream",
     "text": [
      "//anaconda3/lib/python3.7/site-packages/xgboost/core.py:587: FutureWarning: Series.base is deprecated and will be removed in a future version\n",
      "  if getattr(data, 'base', None) is not None and \\\n"
     ]
    }
   ],
   "source": [
    "#creating training matrix for xg boost cv\n",
    "prob_training_matrix = xgb.DMatrix(data=first_layer_predictions_proba,\n",
    "                                   label=y_train)"
   ]
  },
  {
   "cell_type": "code",
   "execution_count": 94,
   "metadata": {
    "ExecuteTime": {
     "end_time": "2019-12-17T14:18:54.048363Z",
     "start_time": "2019-12-17T14:06:02.001089Z"
    }
   },
   "outputs": [],
   "source": [
    "#running xgboost cross validation\n",
    "cv_results_probs = xgb.cv(dtrain=prob_training_matrix,\n",
    "                          params=param_dict,\n",
    "                          nfold=5,\n",
    "                          num_boost_round=1500,\n",
    "                          early_stopping_rounds=200,\n",
    "                          metrics=\"error\",\n",
    "                          as_pandas=True,\n",
    "                          seed=123)"
   ]
  },
  {
   "cell_type": "code",
   "execution_count": 95,
   "metadata": {
    "ExecuteTime": {
     "end_time": "2019-12-17T14:18:54.069112Z",
     "start_time": "2019-12-17T14:18:54.050885Z"
    }
   },
   "outputs": [
    {
     "data": {
      "text/html": [
       "<div>\n",
       "<style scoped>\n",
       "    .dataframe tbody tr th:only-of-type {\n",
       "        vertical-align: middle;\n",
       "    }\n",
       "\n",
       "    .dataframe tbody tr th {\n",
       "        vertical-align: top;\n",
       "    }\n",
       "\n",
       "    .dataframe thead th {\n",
       "        text-align: right;\n",
       "    }\n",
       "</style>\n",
       "<table border=\"1\" class=\"dataframe\">\n",
       "  <thead>\n",
       "    <tr style=\"text-align: right;\">\n",
       "      <th></th>\n",
       "      <th>train-error-mean</th>\n",
       "      <th>train-error-std</th>\n",
       "      <th>test-error-mean</th>\n",
       "      <th>test-error-std</th>\n",
       "    </tr>\n",
       "  </thead>\n",
       "  <tbody>\n",
       "    <tr>\n",
       "      <th>61</th>\n",
       "      <td>0.186843</td>\n",
       "      <td>0.000826</td>\n",
       "      <td>0.201915</td>\n",
       "      <td>0.002511</td>\n",
       "    </tr>\n",
       "    <tr>\n",
       "      <th>62</th>\n",
       "      <td>0.186553</td>\n",
       "      <td>0.000763</td>\n",
       "      <td>0.201946</td>\n",
       "      <td>0.002439</td>\n",
       "    </tr>\n",
       "    <tr>\n",
       "      <th>63</th>\n",
       "      <td>0.186467</td>\n",
       "      <td>0.000754</td>\n",
       "      <td>0.201900</td>\n",
       "      <td>0.002416</td>\n",
       "    </tr>\n",
       "    <tr>\n",
       "      <th>64</th>\n",
       "      <td>0.186200</td>\n",
       "      <td>0.000747</td>\n",
       "      <td>0.201774</td>\n",
       "      <td>0.002464</td>\n",
       "    </tr>\n",
       "    <tr>\n",
       "      <th>65</th>\n",
       "      <td>0.186040</td>\n",
       "      <td>0.000751</td>\n",
       "      <td>0.201664</td>\n",
       "      <td>0.002371</td>\n",
       "    </tr>\n",
       "  </tbody>\n",
       "</table>\n",
       "</div>"
      ],
      "text/plain": [
       "    train-error-mean  train-error-std  test-error-mean  test-error-std\n",
       "61          0.186843         0.000826         0.201915        0.002511\n",
       "62          0.186553         0.000763         0.201946        0.002439\n",
       "63          0.186467         0.000754         0.201900        0.002416\n",
       "64          0.186200         0.000747         0.201774        0.002464\n",
       "65          0.186040         0.000751         0.201664        0.002371"
      ]
     },
     "execution_count": 95,
     "metadata": {},
     "output_type": "execute_result"
    }
   ],
   "source": [
    "#getting xgboost cross validation scores\n",
    "cv_results_probs.tail()"
   ]
  },
  {
   "cell_type": "markdown",
   "metadata": {},
   "source": [
    "Overall it can be argued that using probabilities for the first level models turns out to have better results, with a better cv score and also a better test score."
   ]
  },
  {
   "cell_type": "markdown",
   "metadata": {},
   "source": [
    "## Evaluation of the Models"
   ]
  },
  {
   "cell_type": "markdown",
   "metadata": {},
   "source": [
    "In this section of the project I am going to evaluate our models further using confusion matrices and ROC curves. Additionally I am going to change the threshold prediction probability needed to predict a bad loan so to incease the precision of the model. This is explained in more detail below."
   ]
  },
  {
   "cell_type": "markdown",
   "metadata": {},
   "source": [
    "### Stacked Model Evaluation"
   ]
  },
  {
   "cell_type": "code",
   "execution_count": 105,
   "metadata": {
    "ExecuteTime": {
     "end_time": "2019-12-17T16:21:25.200873Z",
     "start_time": "2019-12-17T16:21:25.195615Z"
    }
   },
   "outputs": [],
   "source": [
    "X_test_first_layer_preds = stacked_probability.first_layer_test_preds"
   ]
  },
  {
   "cell_type": "code",
   "execution_count": 107,
   "metadata": {
    "ExecuteTime": {
     "end_time": "2019-12-17T16:22:25.644954Z",
     "start_time": "2019-12-17T16:22:25.296611Z"
    }
   },
   "outputs": [],
   "source": [
    "X_all = np.concatenate(\n",
    "    (first_layer_predictions_proba, X_test_first_layer_preds))"
   ]
  },
  {
   "cell_type": "code",
   "execution_count": 111,
   "metadata": {
    "ExecuteTime": {
     "end_time": "2019-12-17T16:25:11.504002Z",
     "start_time": "2019-12-17T16:25:07.842824Z"
    }
   },
   "outputs": [],
   "source": [
    "#getting the probabilities so we can plot the roc and precision recall curves\n",
    "stacked_probabilities = stacked_probability.predict_probs(X_all)"
   ]
  },
  {
   "cell_type": "code",
   "execution_count": 113,
   "metadata": {
    "ExecuteTime": {
     "end_time": "2019-12-17T16:27:24.627513Z",
     "start_time": "2019-12-17T16:27:24.617864Z"
    }
   },
   "outputs": [],
   "source": [
    "Y_pp = pd.DataFrame(stacked_probabilities,\n",
    "                    columns=['class_0_pp', 'class_1_pp'])"
   ]
  },
  {
   "cell_type": "code",
   "execution_count": 115,
   "metadata": {
    "ExecuteTime": {
     "end_time": "2019-12-17T16:27:52.038207Z",
     "start_time": "2019-12-17T16:27:51.716804Z"
    }
   },
   "outputs": [
    {
     "data": {
      "image/png": "[encoded data removed]",
      "text/plain": [
       "<Figure size 432x432 with 1 Axes>"
      ]
     },
     "metadata": {
      "image/png": {
       "height": 397,
       "width": 401
      },
      "needs_background": "light"
     },
     "output_type": "display_data"
    }
   ],
   "source": [
    "fpr, tpr, threshold = roc_curve(np.concatenate((y_train, y_test)),\n",
    "                                Y_pp.class_1_pp)\n",
    "roc_auc = auc(fpr, tpr)\n",
    "\n",
    "# Plot of a ROC curve for class 1\n",
    "plt.figure(figsize=[6, 6])\n",
    "plt.plot(fpr, tpr, label='ROC curve (area = %0.2f)' % roc_auc, linewidth=4)\n",
    "plt.plot([0, 1], [0, 1], 'k--', linewidth=4)\n",
    "plt.xlim([-0.05, 1.0])\n",
    "plt.ylim([-0.05, 1.05])\n",
    "plt.xlabel('False Positive Rate', fontsize=18)\n",
    "plt.ylabel('True Positive Rate', fontsize=18)\n",
    "plt.title('ROC curve for Stacked Model', fontsize=18)\n",
    "plt.legend(loc=\"lower right\")\n",
    "plt.show()"
   ]
  },
  {
   "cell_type": "markdown",
   "metadata": {},
   "source": [
    "A ROC curve tells us about how good our model can classify loans and the trade off between recall and specificity when changing the prediciton probability threshold. True positive rate is calculated as the number of true positives over the number of true positives and false negatives. False positive rate on the other had is calculated as the number of false positives divided by the sum of false positives and true negatives. In this case the area under the curve is high which is a good indication that the model is worth something."
   ]
  },
  {
   "cell_type": "code",
   "execution_count": 117,
   "metadata": {
    "ExecuteTime": {
     "end_time": "2019-12-17T16:28:34.599774Z",
     "start_time": "2019-12-17T16:28:34.275024Z"
    }
   },
   "outputs": [
    {
     "data": {
      "image/png": "[encoded data removed]",
      "text/plain": [
       "<Figure size 576x432 with 1 Axes>"
      ]
     },
     "metadata": {
      "image/png": {
       "height": 397,
       "width": 520
      },
      "needs_background": "light"
     },
     "output_type": "display_data"
    }
   ],
   "source": [
    "cmap = ListedColormap(sns.color_palette(\"husl\", 3))\n",
    "\n",
    "\n",
    "def plot_f1_lines(figsize=(8, 6), fontsize=16):\n",
    "    '''Create f1-score level lines to be added to \n",
    "        the precison-recall plot'''\n",
    "\n",
    "    fig, ax = plt.subplots(figsize=figsize)\n",
    "\n",
    "    # add lines of constant F1 scores\n",
    "\n",
    "    for const in np.linspace(0.2, 0.9, 8):\n",
    "        x_vals = np.linspace(0.001, 0.999, 100)\n",
    "        y_vals = 1. / (2. / const - 1. / x_vals)\n",
    "        ax.plot(x_vals[y_vals > 0],\n",
    "                y_vals[y_vals > 0],\n",
    "                color='lightblue',\n",
    "                ls='--',\n",
    "                alpha=0.9)\n",
    "        ax.set_ylim([0, 1])\n",
    "        ax.annotate('f1={0:0.1f}'.format(const),\n",
    "                    xy=(x_vals[-10], y_vals[-2] + 0.0),\n",
    "                    fontsize=fontsize)\n",
    "\n",
    "    return fig, ax\n",
    "\n",
    "\n",
    "fig, ax = plot_f1_lines()\n",
    "\n",
    "precision, recall, threshold = precision_recall_curve(\n",
    "    np.concatenate((y_train, y_test)), Y_pp.class_1_pp)\n",
    "\n",
    "ax.plot(recall, precision, label='Precision-recall curve', linewidth=4)\n",
    "plt.xlim([-0.05, 1.0])\n",
    "plt.ylim([-0.05, 1.05])\n",
    "plt.xlabel('Recall', fontsize=18)\n",
    "plt.ylabel('Precision', fontsize=18)\n",
    "plt.title('Precision-Recall curve', fontsize=18)\n",
    "plt.legend(loc=\"lower right\")\n",
    "plt.show()"
   ]
  },
  {
   "cell_type": "markdown",
   "metadata": {},
   "source": [
    "Precision- Recall curve indicates the trade off between the true positive rate and the positive predictive value for a predictive model using different probability thresholds. Precision is the ratio of true positives divided by the sum of true positives and false positives. I have also plotted F1 lines onto the graph- the F1 score is the harmonic mean of precision and recall. It's harmonic because the precision and recall are ratios."
   ]
  },
  {
   "cell_type": "code",
   "execution_count": 119,
   "metadata": {
    "ExecuteTime": {
     "end_time": "2019-12-17T16:30:16.954022Z",
     "start_time": "2019-12-17T16:30:12.923154Z"
    }
   },
   "outputs": [
    {
     "name": "stderr",
     "output_type": "stream",
     "text": [
      "//anaconda3/lib/python3.7/site-packages/ipykernel_launcher.py:164: FutureWarning: elementwise comparison failed; returning scalar instead, but in the future will perform elementwise comparison\n",
      "//anaconda3/lib/python3.7/site-packages/ipykernel_launcher.py:167: FutureWarning: elementwise comparison failed; returning scalar instead, but in the future will perform elementwise comparison\n"
     ]
    }
   ],
   "source": [
    "#getting the class predictions for the confusion matrix\n",
    "stacked_predictions = stacked_probability.predict(X_all)"
   ]
  },
  {
   "cell_type": "code",
   "execution_count": 124,
   "metadata": {
    "ExecuteTime": {
     "end_time": "2019-12-17T16:32:53.664558Z",
     "start_time": "2019-12-17T16:32:53.580386Z"
    }
   },
   "outputs": [
    {
     "data": {
      "text/html": [
       "<div>\n",
       "<style scoped>\n",
       "    .dataframe tbody tr th:only-of-type {\n",
       "        vertical-align: middle;\n",
       "    }\n",
       "\n",
       "    .dataframe tbody tr th {\n",
       "        vertical-align: top;\n",
       "    }\n",
       "\n",
       "    .dataframe thead th {\n",
       "        text-align: right;\n",
       "    }\n",
       "</style>\n",
       "<table border=\"1\" class=\"dataframe\">\n",
       "  <thead>\n",
       "    <tr style=\"text-align: right;\">\n",
       "      <th></th>\n",
       "      <th>predicted_good</th>\n",
       "      <th>predicted_bad</th>\n",
       "    </tr>\n",
       "  </thead>\n",
       "  <tbody>\n",
       "    <tr>\n",
       "      <th>is_good</th>\n",
       "      <td>47744</td>\n",
       "      <td>5291</td>\n",
       "    </tr>\n",
       "    <tr>\n",
       "      <th>is_bad</th>\n",
       "      <td>8822</td>\n",
       "      <td>17905</td>\n",
       "    </tr>\n",
       "  </tbody>\n",
       "</table>\n",
       "</div>"
      ],
      "text/plain": [
       "         predicted_good  predicted_bad\n",
       "is_good           47744           5291\n",
       "is_bad             8822          17905"
      ]
     },
     "execution_count": 124,
     "metadata": {},
     "output_type": "execute_result"
    }
   ],
   "source": [
    "#creating an initial confusion matrix\n",
    "confusion1 = confusion_matrix(np.concatenate((y_train, y_test)),\n",
    "                              stacked_predictions)\n",
    "confusion_df = pd.DataFrame(confusion1,\n",
    "                            index=['is_good', 'is_bad'],\n",
    "                            columns=['predicted_good', 'predicted_bad'])\n",
    "#giving labels for the confusion matrix\n",
    "confusion_df"
   ]
  },
  {
   "cell_type": "code",
   "execution_count": 123,
   "metadata": {
    "ExecuteTime": {
     "end_time": "2019-12-17T16:32:16.497430Z",
     "start_time": "2019-12-17T16:32:16.378376Z"
    }
   },
   "outputs": [
    {
     "name": "stdout",
     "output_type": "stream",
     "text": [
      "              precision    recall  f1-score   support\n",
      "\n",
      "           0     0.8440    0.9002    0.8712     53035\n",
      "           1     0.7719    0.6699    0.7173     26727\n",
      "\n",
      "    accuracy                         0.8231     79762\n",
      "   macro avg     0.8080    0.7851    0.7943     79762\n",
      "weighted avg     0.8199    0.8231    0.8197     79762\n",
      "\n"
     ]
    }
   ],
   "source": [
    "print(\n",
    "    classification_report(np.concatenate((y_train, y_test)),\n",
    "                          stacked_predictions,\n",
    "                          digits=4))"
   ]
  },
  {
   "cell_type": "markdown",
   "metadata": {},
   "source": [
    "We would like to minimise the amount of false positives in our predictions as it is probably more dangerous to think a loan will be ok for it to turn bad compared to preparing for the loan to go bad and then it does not. To do this we can decrease the threshold probability at which the model will consider the loan to have gone bad. "
   ]
  },
  {
   "cell_type": "code",
   "execution_count": 126,
   "metadata": {
    "ExecuteTime": {
     "end_time": "2019-12-17T16:34:06.092593Z",
     "start_time": "2019-12-17T16:34:06.087882Z"
    }
   },
   "outputs": [],
   "source": [
    "def predict_at_threshold(x, threshold=0.5):\n",
    "    \"\"\"changes the prediction threshold at \n",
    "    which we predict a loan to be good or bad\"\"\"\n",
    "    if x >= threshold:\n",
    "        return 1\n",
    "    else:\n",
    "        return 0"
   ]
  },
  {
   "cell_type": "code",
   "execution_count": 127,
   "metadata": {
    "ExecuteTime": {
     "end_time": "2019-12-17T16:34:47.031010Z",
     "start_time": "2019-12-17T16:34:46.981244Z"
    }
   },
   "outputs": [],
   "source": [
    "Y_pp['predicted_class'] = Y_pp.class_1_pp.map(\n",
    "    lambda x: predict_at_threshold(x, threshold=0.3))"
   ]
  },
  {
   "cell_type": "code",
   "execution_count": 129,
   "metadata": {
    "ExecuteTime": {
     "end_time": "2019-12-17T16:35:07.727062Z",
     "start_time": "2019-12-17T16:35:07.658462Z"
    }
   },
   "outputs": [
    {
     "data": {
      "text/html": [
       "<div>\n",
       "<style scoped>\n",
       "    .dataframe tbody tr th:only-of-type {\n",
       "        vertical-align: middle;\n",
       "    }\n",
       "\n",
       "    .dataframe tbody tr th {\n",
       "        vertical-align: top;\n",
       "    }\n",
       "\n",
       "    .dataframe thead th {\n",
       "        text-align: right;\n",
       "    }\n",
       "</style>\n",
       "<table border=\"1\" class=\"dataframe\">\n",
       "  <thead>\n",
       "    <tr style=\"text-align: right;\">\n",
       "      <th></th>\n",
       "      <th>predicted_good</th>\n",
       "      <th>predicted_bad</th>\n",
       "    </tr>\n",
       "  </thead>\n",
       "  <tbody>\n",
       "    <tr>\n",
       "      <th>is_good</th>\n",
       "      <td>40317</td>\n",
       "      <td>12718</td>\n",
       "    </tr>\n",
       "    <tr>\n",
       "      <th>is_bad</th>\n",
       "      <td>3813</td>\n",
       "      <td>22914</td>\n",
       "    </tr>\n",
       "  </tbody>\n",
       "</table>\n",
       "</div>"
      ],
      "text/plain": [
       "         predicted_good  predicted_bad\n",
       "is_good           40317          12718\n",
       "is_bad             3813          22914"
      ]
     },
     "execution_count": 129,
     "metadata": {},
     "output_type": "execute_result"
    }
   ],
   "source": [
    "confusion2 = confusion_matrix(np.concatenate((y_train, y_test)),\n",
    "                              Y_pp.predicted_class.values)\n",
    "\n",
    "confusion_lower_thresh = pd.DataFrame(\n",
    "    confusion2,\n",
    "    index=['is_good', 'is_bad'],\n",
    "    columns=['predicted_good', 'predicted_bad'])\n",
    "confusion_lower_thresh"
   ]
  },
  {
   "cell_type": "markdown",
   "metadata": {},
   "source": [
    "The amount that we lower the threshold by is dependent on our goals- we still want to have a good level of accuracy while decreasing the false negatives as much as possible."
   ]
  },
  {
   "cell_type": "code",
   "execution_count": 130,
   "metadata": {
    "ExecuteTime": {
     "end_time": "2019-12-17T16:35:32.202495Z",
     "start_time": "2019-12-17T16:35:32.083934Z"
    }
   },
   "outputs": [
    {
     "name": "stdout",
     "output_type": "stream",
     "text": [
      "              precision    recall  f1-score   support\n",
      "\n",
      "           0     0.9136    0.7602    0.8299     53035\n",
      "           1     0.6431    0.8573    0.7349     26727\n",
      "\n",
      "    accuracy                         0.7927     79762\n",
      "   macro avg     0.7783    0.8088    0.7824     79762\n",
      "weighted avg     0.8229    0.7927    0.7980     79762\n",
      "\n"
     ]
    }
   ],
   "source": [
    "print(\n",
    "    classification_report(np.concatenate((y_train, y_test)),\n",
    "                          Y_pp.predicted_class.values,\n",
    "                          digits=4))"
   ]
  },
  {
   "cell_type": "markdown",
   "metadata": {},
   "source": [
    "### Evaluation of Simpler Unstacked XG Boost for comparison"
   ]
  },
  {
   "cell_type": "code",
   "execution_count": 146,
   "metadata": {
    "ExecuteTime": {
     "end_time": "2019-12-17T16:41:27.308177Z",
     "start_time": "2019-12-17T16:41:27.236623Z"
    }
   },
   "outputs": [],
   "source": [
    "full_x = np.concatenate((Xd_trains, Xd_tests))"
   ]
  },
  {
   "cell_type": "code",
   "execution_count": 152,
   "metadata": {
    "ExecuteTime": {
     "end_time": "2019-12-17T16:49:03.803683Z",
     "start_time": "2019-12-17T16:49:02.309963Z"
    }
   },
   "outputs": [],
   "source": [
    "Y_pp_orig = pd.DataFrame(xg_reg_pre_words.predict_proba(full_x),\n",
    "                         columns=['class_0_pp', 'class_1_pp'])"
   ]
  },
  {
   "cell_type": "code",
   "execution_count": 153,
   "metadata": {
    "ExecuteTime": {
     "end_time": "2019-12-17T16:49:10.919047Z",
     "start_time": "2019-12-17T16:49:10.637128Z"
    }
   },
   "outputs": [
    {
     "data": {
      "image/png": "[encoded data removed]",
      "text/plain": [
       "<Figure size 432x432 with 1 Axes>"
      ]
     },
     "metadata": {
      "image/png": {
       "height": 397,
       "width": 401
      },
      "needs_background": "light"
     },
     "output_type": "display_data"
    }
   ],
   "source": [
    "# For class 1, find the area under the curve\n",
    "fpr, tpr, threshold = roc_curve(np.concatenate((yd_train, yd_test)),\n",
    "                                Y_pp_orig.class_1_pp)\n",
    "roc_auc = auc(fpr, tpr)\n",
    "\n",
    "# Plot of a ROC curve for class 1\n",
    "plt.figure(figsize=[6, 6])\n",
    "plt.plot(fpr, tpr, label='ROC curve (area = %0.2f)' % roc_auc, linewidth=4)\n",
    "plt.plot([0, 1], [0, 1], 'k--', linewidth=4)\n",
    "plt.xlim([-0.05, 1.0])\n",
    "plt.ylim([-0.05, 1.05])\n",
    "plt.xlabel('False Positive Rate', fontsize=18)\n",
    "plt.ylabel('True Positive Rate', fontsize=18)\n",
    "plt.title('ROC curve for original XgBoost', fontsize=18)\n",
    "plt.legend(loc=\"lower right\")\n",
    "plt.show()"
   ]
  },
  {
   "cell_type": "markdown",
   "metadata": {},
   "source": [
    "Here we can see that the difference in ROC curves for the two models is quite small, however a small difference in the models predictive power when scaled up to suit business needs may mean a lot."
   ]
  },
  {
   "cell_type": "code",
   "execution_count": 154,
   "metadata": {
    "ExecuteTime": {
     "end_time": "2019-12-17T16:51:36.774438Z",
     "start_time": "2019-12-17T16:51:36.483295Z"
    }
   },
   "outputs": [
    {
     "data": {
      "image/png": "[encoded data removed]",
      "text/plain": [
       "<Figure size 576x432 with 1 Axes>"
      ]
     },
     "metadata": {
      "image/png": {
       "height": 397,
       "width": 520
      },
      "needs_background": "light"
     },
     "output_type": "display_data"
    }
   ],
   "source": [
    "fig, ax = plot_f1_lines()\n",
    "\n",
    "precision, recall, threshold = precision_recall_curve(\n",
    "    np.concatenate((yd_train, yd_test)), Y_pp_orig.class_1_pp)\n",
    "\n",
    "ax.plot(recall, precision, label='Precision-recall curve', linewidth=4)\n",
    "plt.xlim([-0.05, 1.0])\n",
    "plt.ylim([-0.05, 1.05])\n",
    "plt.xlabel('Recall', fontsize=18)\n",
    "plt.ylabel('Precision', fontsize=18)\n",
    "plt.title('Precision-Recall curve', fontsize=18)\n",
    "plt.legend(loc=\"lower right\")\n",
    "plt.show()"
   ]
  },
  {
   "cell_type": "code",
   "execution_count": 156,
   "metadata": {
    "ExecuteTime": {
     "end_time": "2019-12-17T16:52:31.026612Z",
     "start_time": "2019-12-17T16:52:29.433452Z"
    }
   },
   "outputs": [
    {
     "data": {
      "text/html": [
       "<div>\n",
       "<style scoped>\n",
       "    .dataframe tbody tr th:only-of-type {\n",
       "        vertical-align: middle;\n",
       "    }\n",
       "\n",
       "    .dataframe tbody tr th {\n",
       "        vertical-align: top;\n",
       "    }\n",
       "\n",
       "    .dataframe thead th {\n",
       "        text-align: right;\n",
       "    }\n",
       "</style>\n",
       "<table border=\"1\" class=\"dataframe\">\n",
       "  <thead>\n",
       "    <tr style=\"text-align: right;\">\n",
       "      <th></th>\n",
       "      <th>predicted_good</th>\n",
       "      <th>predicted_bad</th>\n",
       "    </tr>\n",
       "  </thead>\n",
       "  <tbody>\n",
       "    <tr>\n",
       "      <th>is_good</th>\n",
       "      <td>47710</td>\n",
       "      <td>5325</td>\n",
       "    </tr>\n",
       "    <tr>\n",
       "      <th>is_bad</th>\n",
       "      <td>10359</td>\n",
       "      <td>16368</td>\n",
       "    </tr>\n",
       "  </tbody>\n",
       "</table>\n",
       "</div>"
      ],
      "text/plain": [
       "         predicted_good  predicted_bad\n",
       "is_good           47710           5325\n",
       "is_bad            10359          16368"
      ]
     },
     "execution_count": 156,
     "metadata": {},
     "output_type": "execute_result"
    }
   ],
   "source": [
    "orig_predictions = xg_reg_pre_words.predict(full_x)\n",
    "orig_confusion = confusion_matrix(np.concatenate((yd_train, yd_test)),\n",
    "                                  orig_predictions)\n",
    "\n",
    "orig_confusion_df = pd.DataFrame(orig_confusion,\n",
    "                                 index=['is_good', 'is_bad'],\n",
    "                                 columns=['predicted_good', 'predicted_bad'])\n",
    "orig_confusion_df"
   ]
  },
  {
   "cell_type": "code",
   "execution_count": 157,
   "metadata": {
    "ExecuteTime": {
     "end_time": "2019-12-17T16:52:45.419327Z",
     "start_time": "2019-12-17T16:52:45.308532Z"
    }
   },
   "outputs": [
    {
     "name": "stdout",
     "output_type": "stream",
     "text": [
      "              precision    recall  f1-score   support\n",
      "\n",
      "           0     0.8216    0.8996    0.8588     53035\n",
      "           1     0.7545    0.6124    0.6761     26727\n",
      "\n",
      "    accuracy                         0.8034     79762\n",
      "   macro avg     0.7881    0.7560    0.7675     79762\n",
      "weighted avg     0.7991    0.8034    0.7976     79762\n",
      "\n"
     ]
    }
   ],
   "source": [
    "print(\n",
    "    classification_report(np.concatenate((yd_train, yd_test)),\n",
    "                          orig_predictions,\n",
    "                          digits=4))"
   ]
  },
  {
   "cell_type": "markdown",
   "metadata": {},
   "source": [
    "Overall it can be argued that on a large scale the difference in the two models would lead to a substantial increase in bad loan detection and therefore be worth the extra computational costs. Some important features common across all models made sense- those including late fees gathered throughout the loan, interest rate, and DTI. However it was suprising that credit inquiries into the loan had such a large effect- easily the largest impact feature.\n",
    "\n",
    "In the future I would like to further this project by firstly increasing the scope of the data to include other years, and second try to obtain data on the full lifecyle of loans to gain a more concrete idea of the features available whilst a loan is still active as this part of the project proved difficult. I would also like to try different combinations of stacked models to see if they could provide better results and justify the extra complexity further. Using prediction probabilities has a lot of promise and I would want to further optimise the second level model that uses these. Finally although I tried using PCA to reduce model complexity,I did not have time to optimize hyperparameters for models using features processed by PCA, in the future I would like to do this as it may somewhat offset the increase in model complexity for a stacked model."
   ]
  },
  {
   "cell_type": "code",
   "execution_count": null,
   "metadata": {},
   "outputs": [],
   "source": [
    "#git remote remove origin\n",
    "#git remote add origin new url"
   ]
  }
 ],
 "metadata": {
  "kernelspec": {
   "display_name": "Python 3",
   "language": "python",
   "name": "python3"
  },
  "language_info": {
   "codemirror_mode": {
    "name": "ipython",
    "version": 3
   },
   "file_extension": ".py",
   "mimetype": "text/x-python",
   "name": "python",
   "nbconvert_exporter": "python",
   "pygments_lexer": "ipython3",
   "version": "3.7.3"
  },
  "toc": {
   "base_numbering": 1,
   "nav_menu": {},
   "number_sections": true,
   "sideBar": true,
   "skip_h1_title": false,
   "title_cell": "Table of Contents",
   "title_sidebar": "Contents",
   "toc_cell": false,
   "toc_position": {},
   "toc_section_display": true,
   "toc_window_display": false
  }
 },
 "nbformat": 4,
 "nbformat_minor": 2
}
